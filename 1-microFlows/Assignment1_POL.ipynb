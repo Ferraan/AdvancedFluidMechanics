{
 "cells": [
  {
   "cell_type": "markdown",
   "id": "de72bbf3-f61e-4574-a6c5-23a8e761544c",
   "metadata": {},
   "source": [
    "# Assignment 1. Computation of journal bearing"
   ]
  },
  {
   "cell_type": "markdown",
   "id": "dddfa6fc-5a11-46ae-bea4-5a8262bc04e8",
   "metadata": {},
   "source": [
    "It is possible to use the Reynolds equation to compute de eccentricity and the angle of a journal bearing with fluid film lubrication, given the load $W$\n",
    "\n",
    "![image.png](Journal_bearing1.png)\n",
    "\n",
    "Consider that the journal is displaced in the $x$ negative direction, so that $h(\\theta) = h_0(1+\\varepsilon \\cos(\\theta))$ where $\\varepsilon=\\frac{e}{h_0}$ is the relative eccentricity and $h_0 = \\frac{1}{2}(D_b -D_a)$ is the average gap thickness. The journal is rotating in the positive direction of $\\theta$ (polar coordinates)\n",
    "\n",
    "![image.png](Journal_bearing2.png)\n",
    "\n",
    "1. Calculate the pressure distribution $p(\\theta)$ and the value and direction of $\\mathbf{W}$, in the approximation $\\varepsilon \\ll 1$.\n",
    "2. What happens to the journal if $\\mathbf{W}$ increase a little bit?\n",
    "3. Apply the results to this real [example](https://www.mcmaster.com/6658K738/), and discuss the value of the maximum load given by the manufactures at this rotational velocity.\n",
    "![image.png](McMaster-Carr_JB.png)"
   ]
  },
  {
   "attachments": {},
   "cell_type": "markdown",
   "id": "b0f3c1ce",
   "metadata": {},
   "source": [
    "----------------------------------\n",
    "# A1: GROUP 1 SOLUTION\n",
    "----------------------------------\n",
    "\n",
    "\n",
    "## PART 1: $p(\\theta)$ and $W$\n",
    "----------------------------------\n",
    "\n",
    "### 0. Importing sympy and numpy"
   ]
  },
  {
   "cell_type": "code",
   "execution_count": 22,
   "id": "b1aff86e",
   "metadata": {},
   "outputs": [],
   "source": [
    "%reset -f\n",
    "import numpy as np\n",
    "import sympy as sp"
   ]
  },
  {
   "attachments": {},
   "cell_type": "markdown",
   "id": "ec68f9cc",
   "metadata": {},
   "source": [
    "### 1. Introducing variables into sympy and context:\n",
    "\n",
    "To work in a cylindric phase angle domain $\\theta = [-\\pi,+\\pi]$ and addapt the cartesian Reynolds equation (with $R\\sim \\frac{R_a+R_b}{2}$):\n",
    "\n",
    "- $$ h(x) \\;\\;\\to\\;\\; h(\\theta) $$\n",
    "- $$ dx \\;\\;\\to\\;\\; R \\cdot d\\theta $$\n",
    "- $$ U \\;\\;\\to\\;\\; \\Omega \\cdot R $$\n",
    "- $$ p_x (x) \\;\\;\\to\\;\\; \\frac{dp}{dx} = \\frac{dp}{R \\cdot d\\theta} = \\frac{1}{R}p_\\theta (\\theta)$$\n",
    "\n",
    "REYNOLDS: In cartesian domain: \n",
    "\n",
    "- $$ \\dfrac{U \\frac{d}{dx}h(x)}{2} - \\dfrac{h^3(x) \\frac{d}{dx} p_x (x)}{12 \\mu} - \\dfrac{h^2(x) p_x (x) \\frac{d}{dx} h(x)}{4 \\mu} = 0$$\n",
    "\n",
    "REYNOLDS: Transformed to cylindrical domain:\n",
    "\n",
    "- $$ \\dfrac{\\frac{U}{R} \\frac{d}{d\\theta}h(\\theta)}{2} - \\dfrac{ \\frac{h^3(\\theta)}{R^2} \\frac{d}{d\\theta} p_\\theta (\\theta)}{12 \\mu} - \\dfrac{\\frac{h^2(\\theta)}{R^2} p_\\theta (\\theta) \\frac{d}{d\\theta} h(\\theta)}{4 \\mu} = 0$$\n",
    "\n",
    "- $$ \\dfrac{\\Omega \\frac{d}{d\\theta}h(\\theta)}{2} - \\dfrac{ h^3(\\theta) \\frac{d}{d\\theta} p_\\theta (\\theta)}{12 R^2 \\mu} - \\dfrac{h^2(\\theta) p_\\theta (\\theta) \\frac{d}{d\\theta} h(\\theta)}{4 R^2 \\mu} = 0 $$\n",
    "\n",
    "\n",
    "MASS BALANCE: volumetric flow $q$ in cartesian domain:\n",
    "\n",
    "- $$ q = \\int_{0}^{h(x)} u(y) dy = \\left( \\dfrac{U}{2 h(x)}-\\dfrac{h(x)p_x(x)}{4\\mu}   \\right)h^2(x)+\\dfrac{h^3(x)p_x(x)}{6 \\mu}$$\n",
    "\n",
    "MASS BALANCE: volumetric flow $q$ transformed to cylindrical domain:\n",
    "\n",
    "- $$ q = \\left( \\dfrac{\\Omega R}{2 h(\\theta)}-\\dfrac{h(\\theta)p_\\theta(\\theta)}{4 R\\mu} \\right)h^2(\\theta)+\\dfrac{h^3(\\theta)p_\\theta(\\theta)}{6 R \\mu} $$"
   ]
  },
  {
   "attachments": {},
   "cell_type": "markdown",
   "id": "4a5e3f35",
   "metadata": {},
   "source": [
    "1.1 VARIABLES:"
   ]
  },
  {
   "cell_type": "code",
   "execution_count": 23,
   "id": "5e13197b",
   "metadata": {},
   "outputs": [],
   "source": [
    "# VARIABLES FOR REYNOLDS: \n",
    "theta,R,mu,Omega= sp.symbols('theta,R,mu,Omega', positive=True,real=True)\n",
    "h = sp.Function('h')\n",
    "p_theta = sp.Function('p_theta')\n",
    "\n",
    "\n"
   ]
  },
  {
   "attachments": {},
   "cell_type": "markdown",
   "id": "95a52002",
   "metadata": {},
   "source": [
    "1.2 REYNOLDS EQUATION (unused):"
   ]
  },
  {
   "cell_type": "code",
   "execution_count": 24,
   "id": "f418d8e2",
   "metadata": {},
   "outputs": [
    {
     "data": {
      "text/latex": [
       "$\\displaystyle \\frac{\\Omega \\frac{d}{d \\theta} h{\\left(\\theta \\right)}}{2} - \\frac{h^{3}{\\left(\\theta \\right)} \\frac{d}{d \\theta} \\operatorname{p_{\\theta}}{\\left(\\theta \\right)}}{12 R^{2} \\mu} - \\frac{h^{2}{\\left(\\theta \\right)} \\operatorname{p_{\\theta}}{\\left(\\theta \\right)} \\frac{d}{d \\theta} h{\\left(\\theta \\right)}}{4 R^{2} \\mu} = 0$"
      ],
      "text/plain": [
       "Eq(Omega*Derivative(h(theta), theta)/2 - h(theta)**3*Derivative(p_theta(theta), theta)/(12*R**2*mu) - h(theta)**2*p_theta(theta)*Derivative(h(theta), theta)/(4*R**2*mu), 0)"
      ]
     },
     "metadata": {},
     "output_type": "display_data"
    }
   ],
   "source": [
    "ReynoldsLHS = Omega*h(theta).diff(theta)/2 - (h(theta))**3*p_theta(theta).diff(theta)/(12*R**2 * mu) - (h(theta))**2 * p_theta(theta)*h(theta).diff(theta)/(4*R**2 * mu)\n",
    "ReynoldsEq = sp.Eq(ReynoldsLHS,0)\n",
    "display(ReynoldsEq)"
   ]
  },
  {
   "attachments": {},
   "cell_type": "markdown",
   "id": "e3c9f252",
   "metadata": {},
   "source": [
    "1.3 MASS BALANCE EQUATION (the volumetric flow \"intU\" for the lhs of $q$):"
   ]
  },
  {
   "cell_type": "code",
   "execution_count": 25,
   "id": "49a9c7cc",
   "metadata": {},
   "outputs": [
    {
     "data": {
      "text/latex": [
       "$\\displaystyle \\left(\\frac{\\Omega R}{2 h{\\left(\\theta \\right)}} - \\frac{h{\\left(\\theta \\right)} \\operatorname{p_{\\theta}}{\\left(\\theta \\right)}}{4 R \\mu}\\right) h^{2}{\\left(\\theta \\right)} + \\frac{h^{3}{\\left(\\theta \\right)} \\operatorname{p_{\\theta}}{\\left(\\theta \\right)}}{6 R \\mu}$"
      ],
      "text/plain": [
       "(Omega*R/(2*h(theta)) - h(theta)*p_theta(theta)/(4*R*mu))*h(theta)**2 + h(theta)**3*p_theta(theta)/(6*R*mu)"
      ]
     },
     "metadata": {},
     "output_type": "display_data"
    }
   ],
   "source": [
    "intU = (Omega*R/(2*h(theta))-h(theta)*p_theta(theta)/(4*R*mu))*(h(theta))**2+(h(theta))**3*p_theta(theta)/(6*R*mu)\n",
    "display(intU)"
   ]
  },
  {
   "cell_type": "code",
   "execution_count": 26,
   "id": "16e65d76",
   "metadata": {},
   "outputs": [
    {
     "data": {
      "text/latex": [
       "$\\displaystyle \\frac{\\Omega R h{\\left(\\theta \\right)}}{2} - \\frac{h^{3}{\\left(\\theta \\right)} \\operatorname{p_{\\theta}}{\\left(\\theta \\right)}}{12 R \\mu}$"
      ],
      "text/plain": [
       "Omega*R*h(theta)/2 - h(theta)**3*p_theta(theta)/(12*R*mu)"
      ]
     },
     "metadata": {},
     "output_type": "display_data"
    }
   ],
   "source": [
    "intU=intU.simplify()\n",
    "display(intU)"
   ]
  },
  {
   "attachments": {},
   "cell_type": "markdown",
   "id": "c57fbc1a",
   "metadata": {},
   "source": [
    "### 2. GENERIC PRESSURE DISTRIBUTION"
   ]
  },
  {
   "attachments": {},
   "cell_type": "markdown",
   "id": "2760397f",
   "metadata": {},
   "source": [
    "2.1 Solving the mass flow equation to get the partial pressure $p_\\theta (\\theta)$:"
   ]
  },
  {
   "cell_type": "code",
   "execution_count": 27,
   "id": "a6bd941e",
   "metadata": {},
   "outputs": [
    {
     "data": {
      "text/latex": [
       "$\\displaystyle \\frac{6 R \\mu \\left(\\Omega R h{\\left(\\theta \\right)} - 2 q\\right)}{h^{3}{\\left(\\theta \\right)}}$"
      ],
      "text/plain": [
       "6*R*mu*(Omega*R*h(theta) - 2*q)/h(theta)**3"
      ]
     },
     "metadata": {},
     "output_type": "display_data"
    }
   ],
   "source": [
    "q = sp.symbols('q') # volumetric flow\n",
    "exp_dpdtheta = sp.solve(intU-q,p_theta(theta))\n",
    "display(exp_dpdtheta[0])"
   ]
  },
  {
   "cell_type": "code",
   "execution_count": 28,
   "id": "b4e4ffba",
   "metadata": {},
   "outputs": [
    {
     "data": {
      "text/latex": [
       "$\\displaystyle \\operatorname{p_{\\theta}}{\\left(\\theta \\right)} = \\frac{6 R \\mu \\left(\\Omega R h{\\left(\\theta \\right)} - 2 q\\right)}{h^{3}{\\left(\\theta \\right)}}$"
      ],
      "text/plain": [
       "Eq(p_theta(theta), 6*R*mu*(Omega*R*h(theta) - 2*q)/h(theta)**3)"
      ]
     },
     "metadata": {},
     "output_type": "display_data"
    }
   ],
   "source": [
    "p_eq = sp.Eq(p_theta(theta), exp_dpdtheta[0])\n",
    "display(p_eq)"
   ]
  },
  {
   "attachments": {},
   "cell_type": "markdown",
   "id": "7fc3baa0",
   "metadata": {},
   "source": [
    "2.2 Replacing the partial pressure $p_\\theta(\\theta)$ with its definition $\\dfrac{dp}{d\\theta}$ to get the pressure distribution:"
   ]
  },
  {
   "cell_type": "code",
   "execution_count": 29,
   "id": "890a8fff",
   "metadata": {},
   "outputs": [
    {
     "data": {
      "text/latex": [
       "$\\displaystyle \\frac{d}{d \\theta} p{\\left(\\theta \\right)} = \\frac{6 R \\mu \\left(\\Omega R h{\\left(\\theta \\right)} - 2 q\\right)}{h^{3}{\\left(\\theta \\right)}}$"
      ],
      "text/plain": [
       "Eq(Derivative(p(theta), theta), 6*R*mu*(Omega*R*h(theta) - 2*q)/h(theta)**3)"
      ]
     },
     "metadata": {},
     "output_type": "display_data"
    }
   ],
   "source": [
    "p = sp.Function('p')\n",
    "p_eq = p_eq.replace(p_theta(theta),p(theta).diff(theta))\n",
    "display(p_eq)"
   ]
  },
  {
   "cell_type": "code",
   "execution_count": 30,
   "id": "f8d80d36",
   "metadata": {},
   "outputs": [
    {
     "data": {
      "text/latex": [
       "$\\displaystyle p{\\left(\\theta \\right)} = C_{1} + 6 R \\mu \\left(\\Omega R \\int \\frac{1}{h^{2}{\\left(\\theta \\right)}}\\, d\\theta - 2 q \\int \\frac{1}{h^{3}{\\left(\\theta \\right)}}\\, d\\theta\\right)$"
      ],
      "text/plain": [
       "Eq(p(theta), C1 + 6*R*mu*(Omega*R*Integral(h(theta)**(-2), theta) - 2*q*Integral(h(theta)**(-3), theta)))"
      ]
     },
     "execution_count": 30,
     "metadata": {},
     "output_type": "execute_result"
    }
   ],
   "source": [
    "sp.dsolve(p_eq,p(theta))"
   ]
  },
  {
   "attachments": {},
   "cell_type": "markdown",
   "id": "79a94d75",
   "metadata": {},
   "source": [
    "### 3. APPLYING GOEMTRY OF JOURNAL BEARING"
   ]
  },
  {
   "attachments": {},
   "cell_type": "markdown",
   "id": "c93d7d1f",
   "metadata": {},
   "source": [
    "3.1 For the case, $h(\\theta)=h_0(1+\\varepsilon \\cdot cos(\\theta))$:"
   ]
  },
  {
   "cell_type": "code",
   "execution_count": 31,
   "id": "adeec50a",
   "metadata": {},
   "outputs": [
    {
     "data": {
      "text/latex": [
       "$\\displaystyle \\frac{d}{d \\theta} p{\\left(\\theta \\right)} = \\frac{6 R \\mu \\left(\\Omega R h_{0} \\left(\\varepsilon \\cos{\\left(\\theta \\right)} + 1\\right) - 2 q\\right)}{h_{0}^{3} \\left(\\varepsilon \\cos{\\left(\\theta \\right)} + 1\\right)^{3}}$"
      ],
      "text/plain": [
       "Eq(Derivative(p(theta), theta), 6*R*mu*(Omega*R*h_0*(varepsilon*cos(theta) + 1) - 2*q)/(h_0**3*(varepsilon*cos(theta) + 1)**3))"
      ]
     },
     "metadata": {},
     "output_type": "display_data"
    }
   ],
   "source": [
    "h0,eps = sp.symbols('h_0,varepsilon')\n",
    "p_eq = p_eq.replace(h(theta),h0*(1+eps*sp.cos(theta)))\n",
    "display(p_eq)"
   ]
  },
  {
   "attachments": {},
   "cell_type": "markdown",
   "id": "fd930ef0",
   "metadata": {},
   "source": [
    "3.2 The boundary conditions of the journal bearing are that on a given $\\theta_0$ the pressure is known or fixed ($p_0$) and is the same a revolution after $(\\theta_0+2\\pi)$:\n",
    "\n",
    "- After testing, trying to solve the above EDO is not feasible with sympy (takes too long and doesn't get a result), but knowing that $\\varepsilon \\ll 1 $, we can make a tailor series up to the first order and try solving:"
   ]
  },
  {
   "cell_type": "code",
   "execution_count": 32,
   "id": "47219d59",
   "metadata": {},
   "outputs": [
    {
     "data": {
      "text/latex": [
       "$\\displaystyle \\frac{6 \\Omega R^{2} \\mu}{h_{0}^{2}} - \\frac{12 R \\mu q}{h_{0}^{3}} + \\varepsilon \\left(- \\frac{12 \\Omega R^{2} \\mu \\cos{\\left(\\theta \\right)}}{h_{0}^{2}} + \\frac{36 R \\mu q \\cos{\\left(\\theta \\right)}}{h_{0}^{3}}\\right)$"
      ],
      "text/plain": [
       "6*Omega*R**2*mu/h_0**2 - 12*R*mu*q/h_0**3 + varepsilon*(-12*Omega*R**2*mu*cos(theta)/h_0**2 + 36*R*mu*q*cos(theta)/h_0**3)"
      ]
     },
     "metadata": {},
     "output_type": "display_data"
    }
   ],
   "source": [
    "p_eqRHS=p_eq.rhs\n",
    "p_eqRHS = p_eqRHS.series(eps,0,n=2).removeO()\n",
    "display(p_eqRHS)"
   ]
  },
  {
   "cell_type": "code",
   "execution_count": 33,
   "id": "a0ec63bc",
   "metadata": {},
   "outputs": [
    {
     "data": {
      "text/latex": [
       "$\\displaystyle \\frac{d}{d \\theta} p{\\left(\\theta \\right)} = \\frac{6 \\Omega R^{2} \\mu}{h_{0}^{2}} - \\frac{12 R \\mu q}{h_{0}^{3}} + \\varepsilon \\left(- \\frac{12 \\Omega R^{2} \\mu \\cos{\\left(\\theta \\right)}}{h_{0}^{2}} + \\frac{36 R \\mu q \\cos{\\left(\\theta \\right)}}{h_{0}^{3}}\\right)$"
      ],
      "text/plain": [
       "Eq(Derivative(p(theta), theta), 6*Omega*R**2*mu/h_0**2 - 12*R*mu*q/h_0**3 + varepsilon*(-12*Omega*R**2*mu*cos(theta)/h_0**2 + 36*R*mu*q*cos(theta)/h_0**3))"
      ]
     },
     "metadata": {},
     "output_type": "display_data"
    }
   ],
   "source": [
    "p_eq = sp.Eq(p(theta).diff(theta),p_eqRHS)\n",
    "display(p_eq)"
   ]
  },
  {
   "attachments": {},
   "cell_type": "markdown",
   "id": "39525da8",
   "metadata": {},
   "source": [
    "3.3 And now we can solve the edo with sympy dsolve or integrate, using $p(\\theta=0)=0$:"
   ]
  },
  {
   "cell_type": "code",
   "execution_count": 34,
   "id": "ce27b284",
   "metadata": {},
   "outputs": [
    {
     "data": {
      "text/latex": [
       "$\\displaystyle p{\\left(\\theta \\right)} = \\frac{6 R \\mu \\left(\\theta \\left(\\Omega R h_{0} - 2 q\\right) + 2 \\varepsilon \\left(- \\Omega R h_{0} + 3 q\\right) \\sin{\\left(\\theta \\right)}\\right)}{h_{0}^{3}} + p_{0}$"
      ],
      "text/plain": [
       "Eq(p(theta), 6*R*mu*(theta*(Omega*R*h_0 - 2*q) + 2*varepsilon*(-Omega*R*h_0 + 3*q)*sin(theta))/h_0**3 + p_0)"
      ]
     },
     "metadata": {},
     "output_type": "display_data"
    }
   ],
   "source": [
    "p0 = sp.symbols('p_0')\n",
    "p_sol = sp.dsolve(p_eq,p(theta),ics={p(0):p0})\n",
    "display(p_sol)"
   ]
  },
  {
   "attachments": {},
   "cell_type": "markdown",
   "id": "03cd41ab",
   "metadata": {},
   "source": [
    "3.4 Substituting the boundary contition for the volumetric flow $p(\\theta=2 \\pi)=p_0$ (we use the $+2\\pi$ phase to avoid using the same phase angle -although it is- than the one used for pressure):"
   ]
  },
  {
   "cell_type": "code",
   "execution_count": 35,
   "id": "250f5d6c",
   "metadata": {},
   "outputs": [
    {
     "data": {
      "text/latex": [
       "$\\displaystyle \\frac{\\Omega R h_{0}}{2}$"
      ],
      "text/plain": [
       "Omega*R*h_0/2"
      ]
     },
     "metadata": {},
     "output_type": "display_data"
    }
   ],
   "source": [
    "q_sol = sp.solve(p_sol.replace(theta,2*sp.pi).replace(p(2*sp.pi),p0),q)[0]\n",
    "display(q_sol)"
   ]
  },
  {
   "attachments": {},
   "cell_type": "markdown",
   "id": "b4c1f86a",
   "metadata": {},
   "source": [
    "3.5 Replacing the flow in the pressure distribution:"
   ]
  },
  {
   "cell_type": "code",
   "execution_count": 36,
   "id": "0e469683",
   "metadata": {},
   "outputs": [
    {
     "data": {
      "text/latex": [
       "$\\displaystyle p{\\left(\\theta \\right)} = \\frac{6 \\Omega R^{2} \\mu \\varepsilon \\sin{\\left(\\theta \\right)}}{h_{0}^{2}} + p_{0}$"
      ],
      "text/plain": [
       "Eq(p(theta), 6*Omega*R**2*mu*varepsilon*sin(theta)/h_0**2 + p_0)"
      ]
     },
     "metadata": {},
     "output_type": "display_data"
    }
   ],
   "source": [
    "p_sol = p_sol.replace(q,q_sol)\n",
    "display(p_sol)"
   ]
  },
  {
   "attachments": {},
   "cell_type": "markdown",
   "id": "d595a02a",
   "metadata": {},
   "source": [
    "### 4. RESULTANT FORCES OF THE JOURNAL BEARING:"
   ]
  },
  {
   "attachments": {},
   "cell_type": "markdown",
   "id": "01d92c0e",
   "metadata": {},
   "source": [
    "4.1 $F_x$ and $F_y$ [N/m]:"
   ]
  },
  {
   "cell_type": "code",
   "execution_count": 37,
   "id": "07e76c14",
   "metadata": {},
   "outputs": [
    {
     "data": {
      "text/latex": [
       "$\\displaystyle 0$"
      ],
      "text/plain": [
       "0"
      ]
     },
     "metadata": {},
     "output_type": "display_data"
    }
   ],
   "source": [
    "p_sol_x = p_sol.rhs *(-sp.cos(theta))\n",
    "Fx = p_sol_x.integrate((theta,0,2*sp.pi))\n",
    "display(Fx)"
   ]
  },
  {
   "cell_type": "code",
   "execution_count": 38,
   "id": "3319379c",
   "metadata": {},
   "outputs": [
    {
     "data": {
      "text/latex": [
       "$\\displaystyle - \\frac{6 \\pi \\Omega R^{2} \\mu \\varepsilon}{h_{0}^{2}}$"
      ],
      "text/plain": [
       "-6*pi*Omega*R**2*mu*varepsilon/h_0**2"
      ]
     },
     "metadata": {},
     "output_type": "display_data"
    }
   ],
   "source": [
    "p_sol_y = p_sol.rhs *(-sp.sin(theta))\n",
    "Fy = p_sol_y.integrate((theta,0,2*sp.pi))\n",
    "display(Fy)"
   ]
  },
  {
   "attachments": {},
   "cell_type": "markdown",
   "id": "f33009de",
   "metadata": {},
   "source": [
    "There is no resultant force in $F_x$, but the $F_y$ is negative, that means that the journal produces a lift on the negative y-axis (-y), where after seeing the problem sketch of the assignment is where the lubricant is ejected after the compressed throat and expands (with low pressure)."
   ]
  },
  {
   "attachments": {},
   "cell_type": "markdown",
   "id": "97d9777c",
   "metadata": {},
   "source": [
    "The $W$ can be applied in the $+y$ axis, with value of $-F_y$:"
   ]
  },
  {
   "cell_type": "code",
   "execution_count": 39,
   "id": "e87124ae",
   "metadata": {},
   "outputs": [
    {
     "data": {
      "text/latex": [
       "$\\displaystyle \\frac{6 \\pi \\Omega R^{2} \\mu \\varepsilon}{h_{0}^{2}}$"
      ],
      "text/plain": [
       "6*pi*Omega*R**2*mu*varepsilon/h_0**2"
      ]
     },
     "metadata": {},
     "output_type": "display_data"
    }
   ],
   "source": [
    "W=-Fy\n",
    "display(W)"
   ]
  },
  {
   "attachments": {},
   "cell_type": "markdown",
   "id": "fcfda879",
   "metadata": {},
   "source": [
    "## PART 2: BEHAVIOUR OF THE JOURNAL ON AN INCREASE OF $W$:\n",
    "-----------------------"
   ]
  },
  {
   "attachments": {},
   "cell_type": "markdown",
   "id": "ebb13ec2",
   "metadata": {},
   "source": [
    "WORK TODO"
   ]
  },
  {
   "attachments": {},
   "cell_type": "markdown",
   "id": "5cfc4978",
   "metadata": {},
   "source": [
    "## PART 3: EXAMPLE RESULTS AND MAXIMUM LOAD:\n",
    "---------------------------"
   ]
  },
  {
   "attachments": {},
   "cell_type": "markdown",
   "id": "fb9600a7",
   "metadata": {},
   "source": [
    "WORK TODO"
   ]
  },
  {
   "cell_type": "code",
   "execution_count": 40,
   "id": "a67c5b6a",
   "metadata": {},
   "outputs": [],
   "source": [
    "import matplotlib.pyplot as plt\n",
    "\n",
    "# DATA: (CHECK TO USE THE EXAMPLE IN THE ASSIGNMENT TEXT, data right now arbitrary)\n",
    "e_par = 0.001\n",
    "Db_par = 0.05 #[m]\n",
    "Da_par = 0.045 #[m]\n",
    "\n",
    "h0_par = 0.5*(Db_par-Da_par) #[m]\n",
    "eps_par = e_par/h0_par \n",
    "\n",
    "theta_Array = np.arange(0,361)\n",
    "h_Array = h0_par*(1+eps_par*np.cos(np.radians(theta_Array)))\n",
    "ground_Array = np.zeros((len(theta_Array),1))"
   ]
  },
  {
   "cell_type": "code",
   "execution_count": 41,
   "id": "a6bfec64",
   "metadata": {},
   "outputs": [
    {
     "data": {
      "image/png": "[encoded data removed]",
      "text/plain": [
       "<Figure size 800x400 with 1 Axes>"
      ]
     },
     "metadata": {},
     "output_type": "display_data"
    }
   ],
   "source": [
    "fig,ax = plt.subplots(figsize=(8,4))\n",
    "ax.plot(theta_Array,h_Array,'g',label='Height, inner bearing)',linewidth=2)\n",
    "ax.plot(theta_Array,ground_Array,'b-.',label='Ground, outer bearing',linewidth=1)\n",
    "#legend = ax.legend(loc='best', shadow=True, fontsize='x-large')\n",
    "ax.set_xlabel(r'$\\theta$ [deg]')\n",
    "ax.set_ylabel(r'$h$ [m]')\n",
    "ax.set_title(r'Distribution of $h=f(\\theta,\\epsilon)$')\n",
    "ax.grid(which='major',axis='both')"
   ]
  },
  {
   "attachments": {},
   "cell_type": "markdown",
   "id": "17e7e372",
   "metadata": {},
   "source": [
    "-------------------------------\n",
    "# END : Assignment 1\n",
    "-------------------------------"
   ]
  },
  {
   "cell_type": "code",
   "execution_count": 42,
   "id": "a302620e",
   "metadata": {},
   "outputs": [
    {
     "name": "stdout",
     "output_type": "stream",
     "text": [
      "The watermark extension is already loaded. To reload it, use:\n",
      "  %reload_ext watermark\n",
      "Python implementation: CPython\n",
      "Python version       : 3.9.13\n",
      "IPython version      : 8.6.0\n",
      "\n",
      "Compiler    : MSC v.1929 64 bit (AMD64)\n",
      "OS          : Windows\n",
      "Release     : 10\n",
      "Machine     : AMD64\n",
      "Processor   : Intel64 Family 6 Model 158 Stepping 10, GenuineIntel\n",
      "CPU cores   : 12\n",
      "Architecture: 64bit\n",
      "\n",
      "sympy     : 1.7.1\n",
      "numpy     : 1.23.4\n",
      "matplotlib: 3.6.2\n",
      "\n"
     ]
    }
   ],
   "source": [
    "try:\n",
    "    %load_ext watermark\n",
    "except:\n",
    "    !pip install watermark\n",
    "%watermark -v -m -iv"
   ]
  }
 ],
 "metadata": {
  "kernelspec": {
   "display_name": "Python 3 (ipykernel)",
   "language": "python",
   "name": "python3"
  },
  "language_info": {
   "codemirror_mode": {
    "name": "ipython",
    "version": 3
   },
   "file_extension": ".py",
   "mimetype": "text/x-python",
   "name": "python",
   "nbconvert_exporter": "python",
   "pygments_lexer": "ipython3",
   "version": "3.9.13"
  }
 },
 "nbformat": 4,
 "nbformat_minor": 5
}
