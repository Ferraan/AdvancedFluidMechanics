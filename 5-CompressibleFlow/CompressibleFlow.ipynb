{
 "cells": [
  {
   "cell_type": "markdown",
   "id": "09eaa923-3e9f-4bb6-991c-f925d8ea270d",
   "metadata": {},
   "source": [
    "# Compressible Flow. An introduction\n",
    "\n",
    "An excellent review of this subject can be read in the [book by White](https://www.mheducation.com/highered/product/fluid-mechanics-white/M9781260258318.html) ([UPC library link](https://discovery.upc.edu/permalink/34CSUC_UPC/11q3oqt/alma991004874831006711) ), or [by Kundu et al](https://www.elsevier.com/books/fluid-mechanics/kundu/978-0-12-405935-1) ([UPC library link](https://discovery.upc.edu/permalink/34CSUC_UPC/11q3oqt/alma991004876305406711) )\n",
    "\n",
    "## 1. Acoustics and velocity of sound\n",
    "\n",
    "We are going, for the moment, that our flow is 1-D and inviscid. Also gravity or other body forces are ignored. In this case, continuity and Euler equations are written as\n",
    "\n",
    "$$\n",
    "\\frac{\\partial \\rho}{\\partial t} + \\frac{\\partial }{\\partial x}\\left(\\rho u\\right) =  0 \\tag{1}\n",
    "$$\n",
    "\n",
    "$$\n",
    "\\frac{\\partial u}{\\partial t} + u \\frac{\\partial u}{\\partial x} = -\\frac{1}{\\rho}\\frac{\\partial p}{\\partial x} \\tag{2}\n",
    "$$\n",
    "\n",
    "Let's now consider that a small perturbation affects to velocity, density and pressure, $u^\\prime$, $\\rho^\\prime$, $p^\\prime$ (do not confuse with fluctuations in turbulent flow), over some equilibrium state $u_0 (\\approx 0)$, $\\rho_0$, $p_0$ that can be assumed  uniform and steady. Then, the equations for the fluctuations evolution, are (neglecting high order terms of convection) \n",
    "\n",
    "$$\n",
    "\\frac{\\partial \\rho^\\prime}{\\partial t} + \\rho_0\\frac{\\partial u^\\prime}{\\partial x} = 0 \\tag{3}\n",
    "$$\n",
    "\n",
    "$$\n",
    "\\frac{\\partial u^\\prime}{\\partial t}  = -\\frac{1}{\\rho_0}\\frac{\\partial p^\\prime}{\\partial x} \\tag{4}\n",
    "$$\n",
    "\n",
    "By deriving (3) with respect time and replacing $\\frac{\\partial u^\\prime}{\\partial t}$ by (4), we get \n",
    "\n",
    "$$\n",
    "\\frac{\\partial^2 \\rho^\\prime}{\\partial t^2} - \\frac{\\partial^2 p^\\prime}{\\partial x^2} = 0 \\tag{5}\n",
    "$$\n",
    "\n",
    "Since $\\text{d} p = \\text{d} p^\\prime$ and $\\text{d} \\rho = \\text{d} \\rho^\\prime$, we can write $\\text{d} p^\\prime = \\left(\\frac{\\text{d}p}{\\text{d}\\rho}\\right)\\text{d}\\rho^\\prime$ and, hence\n",
    "\n",
    "$$\n",
    "\\frac{\\partial^2 \\rho^\\prime}{\\partial t^2} - \\left(\\frac{\\text{d}p}{\\text{d}\\rho}\\right) \\frac{\\partial^2 \\rho^\\prime}{\\partial x^2} = 0 \\tag{6}\n",
    "$$\n",
    "\n",
    "This is the classical [1-D wave equation](https://en.wikipedia.org/wiki/Wave_equation#Wave_equation_in_one_space_dimension) with a wave velocity \n",
    "\n",
    "$$\n",
    "c^2 = \\frac{\\text{d}p}{\\text{d}\\rho} \\tag{7}\n",
    "$$\n",
    "\n",
    "Since this process is infinitesimal, adiabatic and [isentropic](https://en.wikipedia.org/wiki/Isentropic_process#Derivation_of_the_isentropic_relations), the relationship between pressure and density is $p=\\text{ct}\\rho^\\gamma$, where $\\gamma$ ($=1.4$ for air at $20$ C deg) is the [adiabatic coefficient]( https://en.wikipedia.org/wiki/Heat_capacity_ratio)  and, therefore, \n",
    "\n",
    "$$\n",
    "c^2 = \\frac{\\text{d}p}{\\text{d}\\rho} = \\gamma \\frac{p}{\\rho} = \\gamma r T \\tag{8}\n",
    "$$\n",
    "\n",
    "if the gas can be considered ideal. $r$ is the gas constant for the specific gas, $r = \\frac{R}{M}$, where $R=8.314 \\,\\frac{\\text{J}}{\\text{K mol}}$ is the [Universal Gas Constant](https://en.wikipedia.org/wiki/Gas_constant) and $M$ is the [molecular mass of air](https://www.engineeringtoolbox.com/molecular-mass-air-d_679.html), $M \\approx 29\\,\\text{g/mol}$. Hence,\n",
    "\n",
    "$$\n",
    "r = 287 \\,\\frac{\\text{J}}{\\text{Kg K}} \\tag{9}\n",
    "$$\n",
    "\n",
    "We can now write a simple function for the computation of the velocity of sound"
   ]
  },
  {
   "cell_type": "code",
   "execution_count": 1,
   "id": "built-zambia",
   "metadata": {},
   "outputs": [],
   "source": [
    "from IPython.display import Latex\n",
    "import numpy as np\n",
    "import matplotlib.pyplot as plt"
   ]
  },
  {
   "cell_type": "code",
   "execution_count": 2,
   "id": "stretch-observer",
   "metadata": {},
   "outputs": [],
   "source": [
    "def gasConstant(M=0.0289647):\n",
    "    \"\"\"\n",
    "    Returns the gas constant for a gas with molecular mass M (in J/molK)\n",
    "    \n",
    "    \"\"\"\n",
    "    R = 8.314463 # Universal Gas Constant\n",
    "    return R/M\n",
    "\n",
    "def sound_velocity(gamma=1.4,M=0.0289647,T=293.15):\n",
    "    \"\"\"\n",
    "    Returns the velocity of sound for a gas with adiabatic index gamma and molecular mass M,\n",
    "    at the temperature T (in K).\n",
    "    The default arguments are for air at T = 20 C deg = 293 K\n",
    "    \n",
    "    Usage:\n",
    "    \n",
    "    c = sound_velocity(gamma = 1.34, M = 0.045, T = 312)\n",
    "    \"\"\"\n",
    "    from numpy import sqrt\n",
    "    r = gasConstant(M=M)\n",
    "    return sqrt(gamma*r*T)"
   ]
  },
  {
   "cell_type": "code",
   "execution_count": 3,
   "id": "environmental-supervisor",
   "metadata": {},
   "outputs": [
    {
     "name": "stdout",
     "output_type": "stream",
     "text": [
      "at 20 Cdeg: c = 343.23 m/s\n"
     ]
    }
   ],
   "source": [
    "c  = sound_velocity()\n",
    "print('at 20 Cdeg: c = {:.5g} m/s'.format(c))"
   ]
  },
  {
   "cell_type": "code",
   "execution_count": 4,
   "id": "missing-headline",
   "metadata": {},
   "outputs": [
    {
     "name": "stdout",
     "output_type": "stream",
     "text": [
      "at 50 Cdeg: c = 360.37 m/s\n"
     ]
    }
   ],
   "source": [
    "c  = sound_velocity(T=273.15+50)\n",
    "print('at 50 Cdeg: c = {:.5g} m/s'.format(c))"
   ]
  },
  {
   "cell_type": "markdown",
   "id": "hired-briefing",
   "metadata": {},
   "source": [
    "<a id=\"Mach-corn\"></a>\n",
    "When the sound source is moving, the sound wave changes the origin and also wave length changes in function of the movement direction. Acoustic Doppler effect is produced.\n",
    "\n",
    "![Image](MachCorn.png)\n",
    "\n",
    "The behaviour of this flow is different depending on the value of the dimensionless [Mach number](https://en.wikipedia.org/wiki/Mach_number) (check in this page the flow regimes in function of the Mach value). Let's define a function for the computation of Mach number"
   ]
  },
  {
   "cell_type": "code",
   "execution_count": 5,
   "id": "billion-wholesale",
   "metadata": {},
   "outputs": [],
   "source": [
    "def MaNumber(u,gamma=1.4,M=0.0289647,T=293.15):\n",
    "    \"\"\"\n",
    "    Returns the Mach number for a velocity u for a gas with adiabatic index gamma and molecular mass M,\n",
    "    at the temperature T (in K).\n",
    "    The default arguments are for air at T = 20 C deg = 293 K\n",
    "    \n",
    "    Usage:\n",
    "    \n",
    "    Ma = MaNumber(u = 750, gamma = 1.34, M = 0.045, T = 312)\n",
    "    \"\"\"\n",
    "\n",
    "    return u/sound_velocity(gamma,M,T)"
   ]
  },
  {
   "cell_type": "code",
   "execution_count": 6,
   "id": "final-spectrum",
   "metadata": {},
   "outputs": [
    {
     "name": "stdout",
     "output_type": "stream",
     "text": [
      "Ma = 1.774\n"
     ]
    }
   ],
   "source": [
    "Ma = MaNumber(609)\n",
    "print('Ma = {:.4g}'.format(Ma))"
   ]
  },
  {
   "cell_type": "markdown",
   "id": "e0b99ef9-d82d-40b7-8e86-684ccc4780f0",
   "metadata": {},
   "source": [
    "## 2. Isentropic flow\n",
    "\n",
    "\n",
    "Many cases in Engineering can be considered steady and isentropic (friction can be neglected) and, hence, 1-D, with the flow behavior defined only by the area of the passage. Some examples are nozzles, exhaust gases in gas/steam turbines, diffusers in jet engines...\n",
    "\n",
    "![image.png](u_x.png)\n",
    "\n",
    "In these cases, continuity equation can be simply given as\n",
    "\n",
    "$$\n",
    "\\rho(x)A(x)u(x) = \\dot{m} = \\text{ct} \\tag{10}\n",
    "$$\n",
    "\n",
    "where $x$ is the axis defined by the center of the channel/pipe.\n",
    "\n",
    "\n",
    "\n",
    "The **total temperature** (also known as **stagnation temperature**) is the sum of static and dinamic energies,a ccording to energy banlance, that, for an idela gas, is written as \n",
    "\n",
    "$$\n",
    "T_0 = T + \\frac{u^2}{2 c_p} \\tag{11}\n",
    "$$\n",
    "\n",
    "That can be translated to dimensionless way \n",
    "\n",
    "$$\n",
    "\\boxed{\\frac{T_0}{T} = 1 + \\frac{\\gamma-1}{2} \\textrm{Ma}^2} \\tag{12}\n",
    "$$\n",
    "\n",
    "We can now define the function for the computation of total temperature - static temperature ratio."
   ]
  },
  {
   "cell_type": "code",
   "execution_count": 7,
   "id": "charitable-melbourne",
   "metadata": {},
   "outputs": [],
   "source": [
    "def T0overT(Ma,gamma=1.4):\n",
    "    \"\"\"\n",
    "    Returns the ratio total temperature over static temperature.\n",
    "    \n",
    "    typical usage:\n",
    "    \n",
    "    T0 = T*T0overT(Ma=3.5)\n",
    "    \"\"\"\n",
    "    return 1 + (gamma-1)/2*Ma**2    "
   ]
  },
  {
   "cell_type": "markdown",
   "id": "coordinated-storm",
   "metadata": {},
   "source": [
    "For example, for a fluid at temperature $T = 350\\,K$ and Ma $=3.5$ the total temperature is"
   ]
  },
  {
   "cell_type": "code",
   "execution_count": 8,
   "id": "accomplished-metropolitan",
   "metadata": {},
   "outputs": [
    {
     "data": {
      "text/latex": [
       "$T_0 =$ 1207 K"
      ],
      "text/plain": [
       "<IPython.core.display.Latex object>"
      ]
     },
     "metadata": {},
     "output_type": "display_data"
    }
   ],
   "source": [
    "T0 = 350*T0overT(3.5)\n",
    "display(Latex('$T_0 =$ {:.4g} K'.format(T0)))"
   ]
  },
  {
   "cell_type": "markdown",
   "id": "tropical-render",
   "metadata": {},
   "source": [
    "In a similar way, total pressure and density are defined as\n",
    "\n",
    "$$\n",
    "\\frac{p_0}{p}  =  \\left( \\frac{T_0}{T} \\right)^\\frac{\\gamma}{\\gamma-1} = \\left( 1 + \\frac{\\gamma - 1}{2}\\textrm{Ma}^2 \\right)^\\frac{\\gamma}{\\gamma-1} \\tag{12}\n",
    "$$\n",
    "\n",
    "$$\n",
    "\\frac{\\rho_0}{\\rho}  =  \\left( \\frac{T_0}{T} \\right)^\\frac{1}{\\gamma-1} = \\left( 1 + \\frac{\\gamma - 1}{2}\\textrm{Ma}^2 \\right)^\\frac{1}{\\gamma-1} \\tag{13}\n",
    "$$\n"
   ]
  },
  {
   "cell_type": "code",
   "execution_count": 9,
   "id": "fifty-scoop",
   "metadata": {},
   "outputs": [],
   "source": [
    "def p0overp(Ma,gamma=1.4):\n",
    "    \"\"\"\n",
    "    Returns the ratio total pressure over static pressure.\n",
    "    \n",
    "    typical usage:\n",
    "    \n",
    "    p0 = p*p0overp(Ma=3.5)\n",
    "    \"\"\"\n",
    "    return (T0overT(Ma,gamma=gamma)**(gamma/(gamma-1)))\n",
    "\n",
    "def rho0overrho(Ma,gamma=1.4):\n",
    "    \"\"\"\n",
    "    Returns the ratio total density over static density.\n",
    "    \n",
    "    typical usage:\n",
    "    \n",
    "    p0 = p*p0overp(Ma=3.5)\n",
    "    \"\"\"\n",
    "    return (T0overT(Ma,gamma=gamma)**(1/(gamma-1)))"
   ]
  },
  {
   "cell_type": "markdown",
   "id": "ambient-thompson",
   "metadata": {},
   "source": [
    "\n",
    "### Exercise \n",
    "Define the functions `MaFromT0overT(T0_T,gamma)`, `MaFromP0overP(p0_p,gamma)` and `MaFromRho0overRho(rho0_rho,gamma)` that return the values of $\\text{Ma}$ from the thermodynamics conditions of the flow. \n"
   ]
  },
  {
   "cell_type": "markdown",
   "id": "9547c9de-5b59-47de-8391-27b5129010e9",
   "metadata": {},
   "source": [
    "Note the text enclosed as `\"\"\" ... \"\"\"` in the functions. It is used for helping the user giving information about the function"
   ]
  },
  {
   "cell_type": "code",
   "execution_count": 10,
   "id": "applied-hello",
   "metadata": {},
   "outputs": [
    {
     "data": {
      "text/plain": [
       "\u001b[0;31mSignature:\u001b[0m \u001b[0mT0overT\u001b[0m\u001b[0;34m(\u001b[0m\u001b[0mMa\u001b[0m\u001b[0;34m,\u001b[0m \u001b[0mgamma\u001b[0m\u001b[0;34m=\u001b[0m\u001b[0;36m1.4\u001b[0m\u001b[0;34m)\u001b[0m\u001b[0;34m\u001b[0m\u001b[0;34m\u001b[0m\u001b[0m\n",
       "\u001b[0;31mDocstring:\u001b[0m\n",
       "Returns the ratio total temperature over static temperature.\n",
       "\n",
       "typical usage:\n",
       "\n",
       "T0 = T*T0overT(Ma=3.5)\n",
       "\u001b[0;31mFile:\u001b[0m      /tmp/ipykernel_999829/92000873.py\n",
       "\u001b[0;31mType:\u001b[0m      function\n"
      ]
     },
     "metadata": {},
     "output_type": "display_data"
    }
   ],
   "source": [
    "T0overT?"
   ]
  },
  {
   "cell_type": "code",
   "execution_count": 11,
   "id": "julian-transportation",
   "metadata": {},
   "outputs": [
    {
     "data": {
      "text/latex": [
       "for $\\text{Ma}$ = 2.1:                   $$\\frac{p_0}{p} = 9.145 $$                   $$\\frac{\\rho_0}{\\rho} = 4.859 $$"
      ],
      "text/plain": [
       "<IPython.core.display.Latex object>"
      ]
     },
     "metadata": {},
     "output_type": "display_data"
    }
   ],
   "source": [
    "Ma = 2.1\n",
    "display(Latex('for $\\\\text{{Ma}}$ = {}:  \\\n",
    "                 $$\\\\frac{{p_0}}{{p}} = {:.4g} $$  \\\n",
    "                 $$\\\\frac{{\\\\rho_0}}{{\\\\rho}} = {:.4g} $$'\n",
    "                .format(Ma,p0overp(Ma),rho0overrho(Ma))))"
   ]
  },
  {
   "cell_type": "markdown",
   "id": "skilled-shipping",
   "metadata": {},
   "source": [
    "### Sonic (or critical values)\n",
    "\n",
    "The values for temperature (and sound velocity), pressure and density, when Ma = 1, known as **sonic values** (also can be named critical values) arevery important.\n",
    "\n",
    "These values are function uniquely of $\\gamma$ and the total values\n",
    "\n",
    "$$\n",
    "T^{*}=T_{0}\\frac{2}{\\gamma+1} \\tag{14} \n",
    "$$\n",
    "\n",
    "$$\n",
    "p^{*}=p_{0}\\left(\\frac{2}{\\gamma+1}\\right)^{\\frac{\\gamma}{\\gamma-1}} \\tag{15}\n",
    "$$\n",
    "\n",
    "$$\n",
    "\\rho^{*}=\\rho_{0}\\left(\\frac{2}{\\gamma+1}\\right)^{\\frac{1}{\\gamma-1}}\\tag{16}\n",
    "$$\n",
    "\n",
    "$$\n",
    "c^{*}(=u^{*})=c_{0}\\left(\\frac{2}{\\gamma+1}\\right)^{\\frac{1}{2}} \\tag{17}\n",
    "$$\n",
    "\n",
    "Following the previous examples, for a fluid at a temperature $T$, pressure $p$ and Ma, the sonic magnitudes are"
   ]
  },
  {
   "cell_type": "code",
   "execution_count": 12,
   "id": "canadian-platform",
   "metadata": {},
   "outputs": [
    {
     "data": {
      "text/latex": [
       "$$T^* = 1006.2\\, \\text{K}$$"
      ],
      "text/plain": [
       "<IPython.core.display.Latex object>"
      ]
     },
     "metadata": {},
     "output_type": "display_data"
    },
    {
     "data": {
      "text/latex": [
       "$$p^* = 3.2235e+06\\, \\text{Pa}$$"
      ],
      "text/plain": [
       "<IPython.core.display.Latex object>"
      ]
     },
     "metadata": {},
     "output_type": "display_data"
    },
    {
     "data": {
      "text/latex": [
       "$$\\rho^* = 11.16\\, \\text{Kg}/\\text{m}^3$$"
      ],
      "text/plain": [
       "<IPython.core.display.Latex object>"
      ]
     },
     "metadata": {},
     "output_type": "display_data"
    },
    {
     "data": {
      "text/latex": [
       "$$c^* = 635.92\\, \\text{m/s}$$"
      ],
      "text/plain": [
       "<IPython.core.display.Latex object>"
      ]
     },
     "metadata": {},
     "output_type": "display_data"
    }
   ],
   "source": [
    "T = 350\n",
    "Ma = 3.5\n",
    "p = 8e4\n",
    "r = gasConstant()\n",
    "gamma = 1.4\n",
    "rho = p/(r*T)\n",
    "Tstar = T*T0overT(Ma=Ma)/T0overT(Ma=1)\n",
    "pstar = p*p0overp(Ma=Ma)/p0overp(Ma=1)\n",
    "rhostar = rho*rho0overrho(Ma=Ma)/rho0overrho(Ma=1)\n",
    "cstar = np.sqrt(r*gamma*Tstar)\n",
    "display(Latex('$$T^* = {:.5g}\\, \\\\text{{K}}$$'.format(Tstar)))\n",
    "display(Latex('$$p^* = {:.5g}\\, \\\\text{{Pa}}$$'.format(pstar)))\n",
    "display(Latex('$$\\\\rho^* = {:.5g}\\, \\\\text{{Kg}}/\\\\text{{m}}^3$$'.format(rhostar)))\n",
    "display(Latex('$$c^* = {:.5g}\\, \\\\text{{m/s}}$$'.format(cstar)))"
   ]
  },
  {
   "cell_type": "markdown",
   "id": "whole-sleep",
   "metadata": {},
   "source": [
    "The definition of a critical speed of sound (from the critical temperature) allow to define also a characteristic, or critical, Mach number\n",
    "\n",
    "$$\n",
    "\\text{Ma}^* = \\frac{u}{c^*} \\tag{18}\n",
    "$$\n",
    "\n",
    "Note that, despite being defined for sonic conditions, $\\textrm{Ma}^*$ does not have to be 1. The relationship between $\\textrm{Ma}$ and $\\textrm{Ma}^*$ is\n",
    "\n",
    "$$\n",
    "{\\textrm{Ma}^*}^2 = \\frac{\\gamma +1}{\\frac{2}{\\textrm{Ma}^2}+\\gamma-1} \\tag{19}\n",
    "$$\n",
    "\n",
    "\n",
    "### Exercise\n",
    "Deduce this expression from energy balance between any point with a Mach value $\\textrm{Ma}$ and the point with sonic conditions.\n"
   ]
  },
  {
   "cell_type": "code",
   "execution_count": 13,
   "id": "collect-bottle",
   "metadata": {},
   "outputs": [],
   "source": [
    "def MaStar(Ma,gamma=1.4):\n",
    "    \"\"\" Returns Ma* as function of Ma \"\"\"\n",
    "    return np.sqrt((gamma+1)/(2/Ma**2+gamma-1))"
   ]
  },
  {
   "cell_type": "markdown",
   "id": "diverse-porcelain",
   "metadata": {},
   "source": [
    "${\\textrm{Ma}^*}^2$ tends to $\\frac{\\gamma+1}{\\gamma -1} (=6 \\,\\text{for air)}$ when $\\textrm{Ma} \\rightarrow \\infty$."
   ]
  },
  {
   "cell_type": "code",
   "execution_count": 14,
   "id": "imported-disclaimer",
   "metadata": {},
   "outputs": [
    {
     "data": {
      "image/png": "[encoded data removed]",
      "text/plain": [
       "<Figure size 720x576 with 1 Axes>"
      ]
     },
     "metadata": {
      "needs_background": "light"
     },
     "output_type": "display_data"
    }
   ],
   "source": [
    "Ma_plot = np.linspace(0.001,100,500)\n",
    "plt.figure(figsize=(10,8))\n",
    "plt.xlabel(r'$Ma$')\n",
    "plt.ylabel(r'${Ma}^*$')\n",
    "plt.plot(Ma_plot,MaStar(Ma_plot));"
   ]
  },
  {
   "cell_type": "markdown",
   "id": "horizontal-profile",
   "metadata": {},
   "source": [
    "And, also,\n",
    "* $\\textrm{Ma}^* = 1$ when  $\\textrm{Ma} = 1$\n",
    "* $\\textrm{Ma}^* > 1$ when  $\\textrm{Ma} > 1$\n",
    "* $\\textrm{Ma}^* < 1$ when  $\\textrm{Ma} < 1$"
   ]
  },
  {
   "cell_type": "code",
   "execution_count": 15,
   "id": "static-header",
   "metadata": {},
   "outputs": [
    {
     "data": {
      "image/png": "[encoded data removed]",
      "text/plain": [
       "<Figure size 720x576 with 1 Axes>"
      ]
     },
     "metadata": {
      "needs_background": "light"
     },
     "output_type": "display_data"
    }
   ],
   "source": [
    "Ma_plot = np.linspace(0.001,3,100)\n",
    "plt.figure(figsize=(10,8))\n",
    "plt.xlabel(r'$\\mathrm{Ma}$')\n",
    "plt.ylabel(r'$\\mathrm{Ma}^*$')\n",
    "plt.plot(Ma_plot,MaStar(Ma_plot));\n",
    "plt.plot([0,1], [1,1], linestyle='--', color='black');\n",
    "plt.plot([1,1], [0,1], linestyle='--', color='black');"
   ]
  },
  {
   "cell_type": "markdown",
   "id": "received-romania",
   "metadata": {},
   "source": [
    "Ratios between critical and total magnitudes are only function of gamma. For air at standard conditions, they are"
   ]
  },
  {
   "cell_type": "code",
   "execution_count": 16,
   "id": "relative-valuable",
   "metadata": {},
   "outputs": [
    {
     "data": {
      "text/latex": [
       "$$\\frac{T^*}{T_0} = 0.83333 $$"
      ],
      "text/plain": [
       "<IPython.core.display.Latex object>"
      ]
     },
     "metadata": {},
     "output_type": "display_data"
    },
    {
     "data": {
      "text/latex": [
       "$$\\frac{p^*}{p_0} = 0.52828 $$"
      ],
      "text/plain": [
       "<IPython.core.display.Latex object>"
      ]
     },
     "metadata": {},
     "output_type": "display_data"
    },
    {
     "data": {
      "text/latex": [
       "$$\\frac{\\rho^*}{\\rho_0} = 0.63394 $$"
      ],
      "text/plain": [
       "<IPython.core.display.Latex object>"
      ]
     },
     "metadata": {},
     "output_type": "display_data"
    }
   ],
   "source": [
    "Tstar_T0 = 1/T0overT(Ma=1)\n",
    "pstar_p0 = 1/p0overp(Ma=1)\n",
    "rhostar_rho0 = 1/rho0overrho(Ma=1)\n",
    "display(Latex(r'$$\\frac{{T^*}}{{T_0}} = {:.5g} $$'.format(Tstar_T0)))\n",
    "display(Latex(r'$$\\frac{{p^*}}{{p_0}} = {:.5g} $$'.format(pstar_p0)))\n",
    "display(Latex(r'$$\\frac{{\\rho^*}}{{\\rho_0}} = {:.5g} $$'.format(rhostar_rho0)))"
   ]
  },
  {
   "cell_type": "markdown",
   "id": "8a485156-3982-4560-bdcd-639fc29a9137",
   "metadata": {},
   "source": [
    "Going back to Equation (10) for continuity, combining with steady Euler equation\n",
    "\n",
    "$$\n",
    "u\\frac{\\text d u}{\\text d x} + \\frac{1}{\\rho}\\frac{\\text d p}{\\text d x} = 0 \\tag{20}\n",
    "$$\n",
    "\n",
    "and fluid compressibility $\\text d p = c^2 \\text d \\rho$, leads to\n",
    "\n",
    "$$\n",
    "\\frac{\\text d u}{u}=-\\frac{\\text d p}{\\rho u^{2}}=\\frac{1}{\\textrm{Ma}^{2}-1}\\frac{\\text d A}{A} \\tag{21}\n",
    "$$\n",
    "\n",
    "and that shows that the behavior of the flow in a nozzle depends on the value of $\\textrm{Ma}$\n",
    "\n",
    "![Image](injector_diffuser.png)\n",
    "\n",
    "\n",
    "Under critical or sonic conditions, the mass flow remains the same\n",
    "\n",
    "$$\n",
    "\\rho^{*}u^{*}A^{*}=\\rho uA=\\dot{m}\\,\\Rightarrow\\frac{A}{A^{*}}=\\frac{\\rho^{*}u^{*}}{\\rho u}, \\tag{22}\n",
    "$$\n",
    "\n",
    "and this leads to an expression for the relationship between the area of a duct and the critical area as a function of $\\textrm{Ma}$\n",
    "\n",
    "$$\n",
    "\\boxed{\\frac{A}{A^{*}}=\\frac{1}{\\textrm{Ma}}\\left[\\frac{2+(\\gamma-1)\\textrm{Ma}^{2}}{\\gamma+1}\\right]^{\\frac{1}{2}\\frac{(\\gamma+1)}{(\\gamma-1)}}} \\tag{23}\n",
    "$$\n",
    "\n",
    "It is useful to have a function for this operation (and the reverse)"
   ]
  },
  {
   "cell_type": "code",
   "execution_count": 17,
   "id": "liked-sheffield",
   "metadata": {},
   "outputs": [],
   "source": [
    "def A_Astar(Ma,gamma=1.4):\n",
    "    \"\"\"\n",
    "    Returns the value of A/A* for a flow with Mach number Ma\n",
    "    \"\"\"\n",
    "    return 1/Ma*((2+(gamma-1)*Ma**2)/(gamma+1))**(0.5*(gamma+1)/(gamma-1))\n",
    "\n",
    "def MaFromA_Astar(A_Astar_value,gamma=1.4):\n",
    "    \"\"\"\n",
    "    Returns both subsonic and supersonic values of Ma for a value of A/A*\n",
    "    \"\"\"\n",
    "    if A_Astar_value < 1:\n",
    "        print(\"The argument A/A* has to be greater than 1\")\n",
    "        return\n",
    "    elif A_Astar_value == 1:\n",
    "        return 1.0\n",
    "    else:\n",
    "        from scipy.optimize import brentq\n",
    "        return (brentq(lambda Ma,gamma: A_Astar(Ma,gamma)-A_Astar_value,0.001,1,args=(gamma,)),\n",
    "                brentq(lambda Ma,gamma: A_Astar(Ma,gamma)-A_Astar_value,1,100,args=(gamma,)))"
   ]
  },
  {
   "cell_type": "markdown",
   "id": "great-relay",
   "metadata": {},
   "source": [
    "Let's plot this function"
   ]
  },
  {
   "cell_type": "code",
   "execution_count": 18,
   "id": "humanitarian-avenue",
   "metadata": {},
   "outputs": [
    {
     "data": {
      "image/png": "[encoded data removed]",
      "text/plain": [
       "<Figure size 720x576 with 1 Axes>"
      ]
     },
     "metadata": {
      "needs_background": "light"
     },
     "output_type": "display_data"
    }
   ],
   "source": [
    "Ma_plot = np.linspace(0.2,3,num=200)\n",
    "A_Astar_plot=A_Astar(Ma_plot)\n",
    "plt.figure(figsize=(10,8))\n",
    "plt.plot(Ma_plot,A_Astar_plot);\n",
    "plt.ylim(0,3);\n",
    "plt.plot([0,1], [1,1], linestyle='--', color='black');\n",
    "plt.plot([1,1], [0,1], linestyle='--', color='black');\n",
    "plt.xlabel('Ma')\n",
    "plt.ylabel(r'$\\frac{A}{A^*}$',fontsize=16);"
   ]
  },
  {
   "cell_type": "code",
   "execution_count": 19,
   "id": "relevant-beads",
   "metadata": {},
   "outputs": [
    {
     "data": {
      "text/plain": [
       "2.1971981216521863"
      ]
     },
     "execution_count": 19,
     "metadata": {},
     "output_type": "execute_result"
    }
   ],
   "source": [
    "MaFromA_Astar(2.0)[1]"
   ]
  },
  {
   "cell_type": "markdown",
   "id": "voluntary-cuisine",
   "metadata": {},
   "source": [
    "This shows that, for steady isentropic flow, the critical condition holds for the minimum area section (throat)."
   ]
  },
  {
   "cell_type": "markdown",
   "id": "3a5b8f86-1164-40e5-87ef-234bd06457e7",
   "metadata": {},
   "source": [
    "## 3. Normal shock waves\n",
    "\n",
    "<a id=\"picturesSW\"></a>\n",
    "\n",
    "When flow is supersonic, usually transition to subsonic condition is achieved with a [**shock wave**](https://en.wikipedia.org/wiki/Shock_wave). This can happens in an external supersonic flow, like a detached bow shock wave in front of a bullet\n",
    "\n",
    "![image.png](bullet.png) [source of image](https://americanart.si.edu/artwork/bullet-shock-wave-32701)\n",
    "\n",
    "or inside a duct.\n",
    "\n",
    "If we are talking about shock waves in a duct, or nozzle, this transition to subsonic flow happens in function of the conditions downstream:\n",
    "\n",
    "![image.png](duct.png) Source of image: Kundu's book\n",
    "\n",
    "Description of flows in function of dimensionless pressure downstream:\n",
    "* a: Subsonic flow everywhere\n",
    "* b: Subsonic flow everywhere except in $A^*$ (throat), where it is sonic\n",
    "* c: Subsonic until the throat, then supersonic until the (normal) shock wave in the duct. Pressure jumps to adapt to downstream conditions\n",
    "* d: Subsonic until the throat, then supersonic until the (normal) shock wave in the exit section.\n",
    "* e: Subsonic until the throat, then supersonic until the shock wave outside of the duct.\n",
    "* f: Subsonic until the throat, then supersonic. No shock wave. Nozzle design conditions\n",
    "* g: Subsonic until the throat, then supersonic and expansion waves outside the nozzle (the flows needs still to accelerate to adapt to downstream conditions)\n",
    "\n",
    "\n",
    "**Flow rate $\\dot m$ remains unchanged from *b* on**\n",
    "\n",
    "Naming $1$ conditions upstream from the shock wave and $2$ downstream (but just in the shock wave position so that surface section $A$ are the same), equations that govern normal shock wave behavior are:\n",
    "\n",
    "Continuity:\n",
    "\n",
    "$$\n",
    "\\rho_1 u_1  =  \\rho_2 u_2 \\tag{24}\n",
    "$$\n",
    "\n",
    "Momentum:\n",
    "\n",
    "$$\n",
    "p_1 + \\rho_1 u_1^2  =  p_2 + \\rho_2 u_2^2 \\tag{25}\n",
    "$$\n",
    "\n",
    "Energy:\n",
    "\n",
    "$$\n",
    "h_1 + \\frac{1}{2}u_1^2  = h_2 + \\frac{1}{2} u_2^2 \\tag{26}\n",
    "$$\n",
    "\n",
    "Note that, unlike energy, entropy is not conserved.\n",
    "\n",
    "Also, ideal gas relationships hold:\n",
    "\n",
    "$$\n",
    "\\frac{p}{\\rho}  =  r T \\\\\n",
    "h  =  c_p T \n",
    "$$\n",
    "\n",
    "On the other hand, since flow is adiabatic, ${T_0}_1 = {T_0}_2 = T_0$ (and, consequently, $T^*_1 = T^*_2 = T^*$). That does not hold for pressure or density, ${p_0}_1 \\neq {p_0}_2$\n",
    "\n",
    "Operating these equations (see section 8.6 of [Anderson's book](https://www.mheducation.com/highered/product/fundamentals-aerodynamics-anderson/M9781259129919.html) ([UPC library link](https://discovery.upc.edu/permalink/34CSUC_UPC/19srfpi/cdi_proquest_ebookcentral_EBC5662650)) we can get the *Prandtl relation*\n",
    "\n",
    "$$\n",
    "u_1 u_2 = {c^*}^2 \\tag{27} \n",
    "$$\n",
    "\n",
    "that can be expressed in dimensionless way as\n",
    "\n",
    "$$\n",
    "\\textrm{Ma}^*_1 \\textrm{Ma}^*_2 = 1 \\tag{28}\n",
    "$$\n",
    "\n",
    "that implies that if in 1 flow is supersonic and $\\textrm{Ma}^*_1 > 1$, in 2 it *must* be subsonic, $\\textrm{Ma}^*_2 < 1$\n",
    "\n",
    "By substitution of (19) we get the important relationship between Mach numbers before and after the normal shock wave:\n",
    "\n",
    "$$\n",
    "\\textrm{Ma}_2^2 = \\frac{1+\\frac{\\gamma -1}{2}\\textrm{Ma}_1^2}{\\gamma \\textrm{Ma}_1^2-\\frac{\\gamma-1}{2}} \\tag{29}\n",
    "$$\n",
    "\n",
    "and the reverse, which is exactly the same (obvious from dimensionless form of Prandtl equation (13)). An unique function serves to compute $\\textrm{Ma}_2$ from $\\textrm{Ma}_1$ or the reverse. Note that neither value $\\textrm{Ma}_1$ and $\\textrm{Ma}_2$ can be lower than $\\sqrt{\\frac{\\gamma - 1}{2\\gamma}} ( \\approx 0.378 \\; \\text{for air})$. Nevertheless, keep in mind that it only has physical sense for $\\textrm{Ma}_1 > 1$"
   ]
  },
  {
   "cell_type": "code",
   "execution_count": 20,
   "id": "mental-coaching",
   "metadata": {},
   "outputs": [],
   "source": [
    "def MaShockwave(Ma,gamma=1.4):\n",
    "    \"\"\"\n",
    "    Return the Mach number after a normal shock wave as funtion of Ma before the shock wave.\n",
    "    \"\"\"\n",
    "    if np.any(Ma) < 1:\n",
    "        print('Ma has to be greater or equal to 1')\n",
    "        return\n",
    "    else:\n",
    "        Ma2 = Ma**2\n",
    "        beta = (gamma-1)/2\n",
    "        Ma22 = (1+beta*Ma2)/(gamma*Ma2-beta)\n",
    "        return np.sqrt(Ma22)"
   ]
  },
  {
   "cell_type": "code",
   "execution_count": 21,
   "id": "vietnamese-muscle",
   "metadata": {},
   "outputs": [
    {
     "data": {
      "text/latex": [
       "$\\textrm{Ma}_1 = 1e+06 \\; \\rightarrow \\; \\textrm{Ma}_2 = 0.378$"
      ],
      "text/plain": [
       "<IPython.core.display.Latex object>"
      ]
     },
     "metadata": {},
     "output_type": "display_data"
    }
   ],
   "source": [
    "Ma1 = 1e6\n",
    "display(Latex('$\\\\textrm{{Ma}}_1 = {:.4g} \\\\; \\\\rightarrow \\\\; \\\\textrm{{Ma}}_2 = {:.4g}$'.format(Ma1,MaShockwave(Ma1))))"
   ]
  },
  {
   "cell_type": "markdown",
   "id": "7d1e5474-801c-4b4a-b662-8603913c6ffc",
   "metadata": {},
   "source": [
    "We can plot this relationship."
   ]
  },
  {
   "cell_type": "code",
   "execution_count": 22,
   "id": "instant-highland",
   "metadata": {},
   "outputs": [
    {
     "data": {
      "image/png": "[encoded data removed]",
      "text/plain": [
       "<Figure size 720x576 with 1 Axes>"
      ]
     },
     "metadata": {
      "needs_background": "light"
     },
     "output_type": "display_data"
    }
   ],
   "source": [
    "# We do not call MaShockWave to plot the function because we want to avoid the Ma_1 < 1 restriction\n",
    "Ma_plot = np.linspace(0.5,3,500)\n",
    "Ma_plot2 = Ma_plot**2\n",
    "gamma = 1.4\n",
    "beta = (gamma-1)/2\n",
    "Ma_plot22 = (1+beta*Ma_plot2)/(gamma*Ma_plot2-beta)\n",
    "plt.figure(figsize=(10,8))\n",
    "plt.xlabel(r'$\\mathrm{Ma}_1$')\n",
    "plt.ylabel(r'$\\mathrm{Ma}_2$')\n",
    "plt.plot(Ma_plot,np.sqrt(Ma_plot22))\n",
    "plt.plot([0,1], [1,1], linestyle='--', color='black');\n",
    "plt.plot([1,1], [0,1], linestyle='--', color='black');"
   ]
  },
  {
   "cell_type": "markdown",
   "id": "sized-carolina",
   "metadata": {},
   "source": [
    "$\\textrm{Ma}_1$ (and consequently $\\textrm{Ma}^*_1$) is an important parameter in normal shock wave. Its value determines, for example, the ratio between densities and velocities\n",
    "\n",
    "$$\n",
    "\\frac{\\rho_2}{\\rho_1}=\\frac{u_1}{u_2} = {\\textrm{Ma}^*_1}^2 = \\frac{(\\gamma + 1){\\textrm{Ma}_1}^2}{2 + (\\gamma - 1){\\textrm{Ma}_1}^2 } \\tag{30}\n",
    "$$\n",
    "\n",
    "The ratio between pressures can be derived from momentum balance, giving\n",
    "\n",
    "$$\n",
    "\\frac{p_2}{p_1}= 1 + \\frac{2 \\gamma}{\\gamma+1}\\left(\\textrm{Ma}_1^2 - 1 \\right) \\tag{31}\n",
    "$$\n",
    "\n",
    "And the temperatures ratios from the two previous relationships with perfect gas equation,\n",
    "\n",
    "$$\n",
    "\\frac{T_2}{T_1} = \\left[1 + \\frac{2 \\gamma}{\\gamma+1}\\left(\\textrm{Ma}_1^2 - 1 \\right)\\right]\n",
    "                \\left[\\frac{2 + (\\gamma - 1){\\textrm{Ma}_1}^2 }{(\\gamma + 1){\\textrm{Ma}_1}^2}\\right] \\tag{32}\n",
    "$$\n",
    "\n",
    "We define all this expressions in python functions"
   ]
  },
  {
   "cell_type": "code",
   "execution_count": 23,
   "id": "adaptive-authentication",
   "metadata": {},
   "outputs": [],
   "source": [
    "def rho2_rho1(Ma,gamma=1.4):\n",
    "    \"\"\"Returns rho_2/rho_1 for a shock wave with Mach number Ma > 1\"\"\"\n",
    "    if np.any(Ma) < 1:\n",
    "        print('Ma has to be greater or equal to 1')\n",
    "        return\n",
    "    else:\n",
    "        return MaStar(Ma,gamma=gamma)**2\n",
    "    \n",
    "def u2_u1(Ma,gamma=1.4):\n",
    "    \"\"\"Returns u_2/u_1 for a shock wave with Mach number Ma > 1\"\"\"\n",
    "    if np.any(Ma) < 1:\n",
    "        print('Ma has to be greater or equal to 1')\n",
    "        return\n",
    "    else:\n",
    "        return 1/MaStar(Ma,gamma=gamma)**2\n",
    "\n",
    "def p2_p1(Ma,gamma=1.4):\n",
    "    \"\"\"Returns p_2/p_1 for a shock wave with Mach number Ma > 1\"\"\"\n",
    "    if np.any(Ma) < 1:\n",
    "        print('Ma has to be greater or equal to 1')\n",
    "        return\n",
    "    else:\n",
    "        return 1 + 2*gamma/(gamma+1)*(Ma**2-1)\n",
    "    \n",
    "def T2_T1(Ma,gamma=1.4):\n",
    "    \"\"\"Returns T_2/T_1 for a shock wave with Mach number Ma > 1\"\"\"\n",
    "    if np.any(Ma) < 1:\n",
    "        print('Ma has to be greater or equal to 1')\n",
    "        return\n",
    "    else:\n",
    "        return p2_p1(Ma,gamma)/rho2_rho1(Ma,gamma)"
   ]
  },
  {
   "cell_type": "code",
   "execution_count": 24,
   "id": "interested-legislature",
   "metadata": {},
   "outputs": [
    {
     "data": {
      "text/latex": [
       "$$\\textrm{Ma}_1 = 6:$$"
      ],
      "text/plain": [
       "<IPython.core.display.Latex object>"
      ]
     },
     "metadata": {},
     "output_type": "display_data"
    },
    {
     "data": {
      "text/latex": [
       "$$\\qquad \\frac{\\rho_2}{\\rho_1} = 5.268$$"
      ],
      "text/plain": [
       "<IPython.core.display.Latex object>"
      ]
     },
     "metadata": {},
     "output_type": "display_data"
    },
    {
     "data": {
      "text/latex": [
       "$$\\qquad \\frac{u_2}{u_1} = 0.1898$$"
      ],
      "text/plain": [
       "<IPython.core.display.Latex object>"
      ]
     },
     "metadata": {},
     "output_type": "display_data"
    },
    {
     "data": {
      "text/latex": [
       "$$\\qquad \\frac{p_2}{p_1} = 41.83$$"
      ],
      "text/plain": [
       "<IPython.core.display.Latex object>"
      ]
     },
     "metadata": {},
     "output_type": "display_data"
    },
    {
     "data": {
      "text/latex": [
       "$$\\qquad \\frac{T_2}{T_1} = 7.941$$"
      ],
      "text/plain": [
       "<IPython.core.display.Latex object>"
      ]
     },
     "metadata": {},
     "output_type": "display_data"
    }
   ],
   "source": [
    "Ma1 = 6\n",
    "display(Latex(r'$$\\textrm{{Ma}}_1 = {:.4g}:$$'.format(Ma1)))\n",
    "display(Latex(r'$$\\qquad \\frac{{\\rho_2}}{{\\rho_1}} = {:.4g}$$'.format(rho2_rho1(Ma1))))\n",
    "display(Latex(r'$$\\qquad \\frac{{u_2}}{{u_1}} = {:.4g}$$'.format(u2_u1(Ma1))))\n",
    "display(Latex(r'$$\\qquad \\frac{{p_2}}{{p_1}} = {:.4g}$$'.format(p2_p1(Ma1))))\n",
    "display(Latex(r'$$\\qquad \\frac{{T_2}}{{T_1}} = {:.4g}$$'.format(T2_T1(Ma1))))          "
   ]
  },
  {
   "cell_type": "markdown",
   "id": "subsequent-option",
   "metadata": {},
   "source": [
    "The increment of entropy is computed from second law of thermodynamics\n",
    "\n",
    "$$\n",
    "s_2 - s_1 = c_p \\ln{\\frac{T2}{T1}} - r \\ln{\\frac{p_2}{p_1}} \\tag{33}\n",
    "$$\n",
    "\n",
    "and, in dimensionless way\n",
    "\n",
    "$$\n",
    "\\frac{s_2 - s_1}{r} = \\frac{\\gamma -1}{\\gamma} \\ln{\\frac{T2}{T1}} - \\ln{\\frac{p_2}{p_1}} \\tag{34}\n",
    "$$\n",
    "\n",
    "And this entropy increment can also be computed in a function"
   ]
  },
  {
   "cell_type": "code",
   "execution_count": 25,
   "id": "regulation-plaza",
   "metadata": {},
   "outputs": [],
   "source": [
    "def DeltaS_r(Ma,gamma=1.4):\n",
    "    \"\"\"Returns (s_2-s_1)/r for a shock wave\"\"\"\n",
    "    if np.any(Ma) < 1:\n",
    "        print('Ma has to be greater or equal to 1')\n",
    "        return\n",
    "    else:\n",
    "        return gamma/(gamma-1)*np.log(T2_T1(Ma,gamma))-np.log(p2_p1(Ma,gamma))"
   ]
  },
  {
   "cell_type": "markdown",
   "id": "comfortable-spider",
   "metadata": {},
   "source": [
    "Considering that, by definition, $p_0$ and $T_0$ are isentropic process from the state $p,T$, that means that for temperatures ${T_0}_1$ and ${T_0}_2$ and for pressures ${p_0}_1$ ad ${p_0}_2$ the increment of entropy would be the same. On the other side, for a shock wave, ${T_0}_1 = {T_0}_2 = T_0$ and, hence, difference of total pressure across a shock wave is given by\n",
    "\n",
    "$$\n",
    "\\frac{s_2 - s_1}{r} =  - \\ln{\\frac{{p_0}_2}{{p_0}_1} \\; \\Rightarrow \\;\\frac{{p_0}_2}{{p_0}_1}} = e^{-\\frac{s_2 - s_1}{r}} \\tag{35}\n",
    "$$"
   ]
  },
  {
   "cell_type": "code",
   "execution_count": 26,
   "id": "abandoned-animal",
   "metadata": {},
   "outputs": [],
   "source": [
    "def p02_p01(Ma,gamma=1.4):\n",
    "    \"\"\"Returns p02/p01 for a shock wave\"\"\"\n",
    "    if np.any(Ma) < 1:\n",
    "        print('Ma has to be greater or equal to 1')\n",
    "        return\n",
    "    else:\n",
    "        return np.exp(-DeltaS_r(Ma,gamma))"
   ]
  },
  {
   "cell_type": "code",
   "execution_count": 27,
   "id": "minimal-conjunction",
   "metadata": {},
   "outputs": [
    {
     "data": {
      "image/png": "[encoded data removed]",
      "text/plain": [
       "<Figure size 720x576 with 2 Axes>"
      ]
     },
     "metadata": {
      "needs_background": "light"
     },
     "output_type": "display_data"
    }
   ],
   "source": [
    "Ma_plot=np.linspace(1,5,500)\n",
    "fig,ax1 = plt.subplots(figsize=(10,8))\n",
    "\n",
    "ax1.set_title('Ratio of properties across a normal shock wave')\n",
    "ax1.set_xlabel(r'$\\mathrm{Ma}_1$')\n",
    "ax1.set_ylabel (r'$\\mathrm{Ma}_2\\;,\\;{p_0}_2/{p_0}_1$')\n",
    "ax1.plot(Ma_plot,MaShockwave(Ma_plot))\n",
    "ax1.plot(Ma_plot,p02_p01(Ma_plot))\n",
    "ax2 = ax1.twinx()\n",
    "ax2.set_ylabel (r'$p_2/p_1\\; , \\;T_2/T_1\\; , \\;\\rho_2/\\rho_1$')\n",
    "ax2.plot(Ma_plot,p2_p1(Ma_plot),color='tab:red')\n",
    "ax2.plot(Ma_plot,T2_T1(Ma_plot),color='tab:green')\n",
    "ax2.plot(Ma_plot,rho2_rho1(Ma_plot),color='tab:brown')\n",
    "ax2.set_ylim(0.0,10.0)\n",
    "ax1.set_ylim(0.0,1.0)\n",
    "ax1.set_xlim(1.0,np.max(Ma_plot))\n",
    "ax1.annotate(r'$\\mathrm{Ma}_2$',(2.0,MaShockwave(2.0)),color='tab:blue')\n",
    "ax1.annotate(r'${p_0}_2/{p_0}_1$',(2.0,p02_p01(2.0)),color='tab:orange')\n",
    "ax2.annotate(r'$p_2/p_1$',(2.55,p2_p1(2.5)),color='tab:red')\n",
    "ax2.annotate(r'$T_2/T_1$',(2.6,T2_T1(3.0)),color='tab:green')\n",
    "ax2.annotate(r'$\\rho_2/\\rho_1$',(2.1,rho2_rho1(2.5)),color='tab:brown')\n",
    "ax1.grid()"
   ]
  },
  {
   "cell_type": "markdown",
   "id": "embedded-details",
   "metadata": {},
   "source": [
    "### Exercise\n",
    "\n",
    "Use the above functions to compute the mass flow rate in a nozzle knowing the area of the nozzle, the Mach number, the pressure and the temperature. It can be named, for instance `MassFlowRate(Ma,A,T,p,gamma=1.4,M=0.0289647)`."
   ]
  },
  {
   "cell_type": "markdown",
   "id": "6487d9e0-21ff-42b9-b6fc-e8eb42925838",
   "metadata": {},
   "source": [
    "## 4. Oblique shock wave and expansion waves\n",
    "\n",
    "Normal shock waves are a particular case of the more general [oblique shock waves](https://en.wikipedia.org/wiki/Oblique_shock). In a oblique shock, supersonic flow is deviated by an obstacle. We are going to consider, for the shake of simplicity that the obstacle is a corner of angle $\\theta$, and the flow is everywhere uniform and parallel to ground\n",
    "\n",
    "![image.png](OSW.png)\n",
    "\n",
    "In contrast, in an [expansion wave](https://en.wikipedia.org/wiki/Prandtl%E2%80%93Meyer_expansion_fan), the flow is accelerated by a convex corner.\n",
    "\n",
    "For the study of an oblique shock velocity is decomposed in normal and tangential velocity to sock wave. In this pictures, taken from Anderson's book, velocity is named as $V$ and normal and tangential as $u$ and $w$. Where are going to use notation $u, u_n$ and $u_t$\n",
    "\n",
    "![Image](OSW2.png)\n",
    "\n",
    "The main results, that we are not going to prove are:\n",
    "\n",
    "* Tangential velocity is conserved across the oblique shock wave (that also holds for normal shock wave where both components are null)\n",
    "\n",
    "$$\n",
    "{u_t}_1 = {u_t}_2 \\tag{36}\n",
    "$$\n",
    "\n",
    "* Balance equations are\n",
    "\n",
    "Continuity:\n",
    "\n",
    "$$\n",
    "\\rho_1 {u_n}_1  =  \\rho_2 {u_n}_2 \\tag{37}\n",
    "$$\n",
    "\n",
    "Momentum:\n",
    "\n",
    "$$\n",
    "p_1 + \\rho_1 {u_n}_1^2  =  p_2 + \\rho_2 {u_n}_2^2 \\tag{38}\n",
    "$$\n",
    "\n",
    "Energy:\n",
    "\n",
    "$$\n",
    "h_1 + \\frac{1}{2}{u_n}_1^2  =  h_2 + \\frac{1}{2} {u_n}_2^2 \\tag{39}\n",
    "$$\n",
    "\n",
    "\n",
    "i.e., exactly the same expressions for normal shock wave applied to only the normal velocity. That means that we van use the above functions to make the computations for oblique shocks just keeping in mind that we are computing only normal component. That also implies that results are referred uniquely to normal Mach number\n",
    "\n",
    "$$\n",
    "\\textrm{Ma}_n = \\textrm{Ma}\\sin{\\beta} \\tag{40}\n",
    "$$\n",
    "\n",
    "From the picture above, is easily shown that \n",
    "\n",
    "$$\n",
    "\\textrm{Ma}_2 = \\frac{{\\textrm{Ma}_n}_2}{\\sin{(\\beta-\\theta)}} \\tag{41}\n",
    "$$\n",
    "\n",
    "which will be useful when we will get ${\\textrm{Ma}_n}_2$ from the functions of normal shock. \n",
    "\n",
    "To the functions for normal shock wave, we have now to include a new parameter, $\\beta$. \n",
    "Actually, note that normal shock wave is the particular case of oblique shock form $\\beta = \\pi/2$. The deflection angle $\\theta$ is a unique function of $\\textrm{Ma}_1$ and $\\beta$:\n",
    "\n",
    "$$\n",
    "\\frac{\\tan{(\\beta - \\theta)}}{\\tan{\\beta}} = \\frac{u_{n2}}{u_{n1}} = \\frac{2+(\\gamma-1)\\textrm{Ma}_1^2\\sin^2\\beta}{(\\gamma+1)\\textrm{Ma}_1^2\\sin^2\\beta} \\tag{42}\n",
    "$$\n",
    "\n",
    "that leads to\n",
    "\n",
    "$$\n",
    "\\tan \\theta = \\frac{2}{\\tan\\beta}\\left[\\frac{\\textrm{Ma}_1^2\\sin^2\\beta - 1}{\\textrm{Ma}_1^2(\\gamma+\\cos2\\beta)+2}\\right] \\tag{43} \n",
    "$$\n",
    "\n",
    "known as the $\\theta-\\beta-\\textrm{Ma}$ relation. Let's write it as a python function"
   ]
  },
  {
   "cell_type": "code",
   "execution_count": 28,
   "id": "standard-topic",
   "metadata": {},
   "outputs": [],
   "source": [
    "def ThetaOSW(Ma,beta,gamma=1.4):\n",
    "    \"\"\"\n",
    "    Returns the deflection angle theta for an oblique shock wave, given the incident Ma number and the angle os the SW, beta. \n",
    "    \"\"\"\n",
    "    tanTheta = 2/np.tan(beta)*(Ma**2*np.sin(beta)**2-1)/(Ma**2*(gamma+np.cos(2*beta))+2)\n",
    "    return np.arctan(tanTheta)"
   ]
  },
  {
   "cell_type": "markdown",
   "id": "identical-occasion",
   "metadata": {},
   "source": [
    "This functions has a maximum value for a given value of $\\textrm{Ma}_1$. Let's make a function that determines this maximum value given the incident Mach number"
   ]
  },
  {
   "cell_type": "code",
   "execution_count": 29,
   "id": "plain-browse",
   "metadata": {},
   "outputs": [],
   "source": [
    "def MaxThetaOSW(Ma,gamma=1.4):\n",
    "    from scipy.optimize import brent\n",
    "    def f(beta):\n",
    "        return -ThetaOSW(Ma,beta,gamma)\n",
    "    interval = (np.deg2rad(50),np.deg2rad(80))\n",
    "    betaMax = brent(f,brack=interval)\n",
    "    return np.rad2deg(betaMax),np.rad2deg(ThetaOSW(Ma,betaMax,gamma))"
   ]
  },
  {
   "cell_type": "code",
   "execution_count": 30,
   "id": "criminal-popularity",
   "metadata": {},
   "outputs": [
    {
     "data": {
      "text/plain": [
       "(64.66897983522868, 22.97353176093794)"
      ]
     },
     "execution_count": 30,
     "metadata": {},
     "output_type": "execute_result"
    }
   ],
   "source": [
    "MaxThetaOSW(2)"
   ]
  },
  {
   "cell_type": "markdown",
   "id": "4e2e8c02-72e7-4181-81cd-cbe13100c86a",
   "metadata": {},
   "source": [
    "and we make a plot for the deflection angle as a function of the inlet Mach number and the shock wave angle."
   ]
  },
  {
   "cell_type": "code",
   "execution_count": 31,
   "id": "french-humanitarian",
   "metadata": {},
   "outputs": [
    {
     "data": {
      "image/png": "[encoded data removed]",
      "text/plain": [
       "<Figure size 720x576 with 1 Axes>"
      ]
     },
     "metadata": {
      "needs_background": "light"
     },
     "output_type": "display_data"
    }
   ],
   "source": [
    "fig,ax = plt.subplots(figsize=(10,8))\n",
    "beta_plot_deg = np.linspace(0.001,90,500)\n",
    "beta_plot = np.deg2rad(beta_plot_deg)\n",
    "ax.set_title(r'Deflection angle $\\theta$ as function of $\\beta$ and $\\mathrm{Ma}$')\n",
    "ax.set_ylim(0,50)\n",
    "ax.set_xlim(0,90)\n",
    "ax.set_xlabel(r'$\\beta$')\n",
    "ax.set_ylabel(r'$\\theta$')\n",
    "ax.plot(beta_plot_deg,np.rad2deg(ThetaOSW(Ma=1000,beta=beta_plot)),color='tab:red')\n",
    "ax.annotate(r'$\\mathrm{{Ma}}_1 \\rightarrow \\infty, \\theta_\\mathrm{{max}} \\rightarrow {:.3g}^\\circ$'.format(MaxThetaOSW(1000)[1]),MaxThetaOSW(1000),color='tab:red')\n",
    "ax.plot(beta_plot_deg,np.rad2deg(ThetaOSW(Ma=2,beta=beta_plot)),color='tab:blue')\n",
    "ax.annotate(r'$\\mathrm{{Ma}}_1 = 2, \\theta_\\mathrm{{max}} = {:.3g}^\\circ$'.format(MaxThetaOSW(2)[1]),MaxThetaOSW(2),color='tab:blue')\n",
    "ax.plot(beta_plot_deg,np.rad2deg(ThetaOSW(Ma=3,beta=beta_plot)),color='tab:orange')\n",
    "ax.annotate(r'$\\mathrm{{Ma}}_1 = 3, \\theta_\\mathrm{{max}} = {:.3g}^\\circ$'.format(MaxThetaOSW(3)[1]),MaxThetaOSW(3),color='tab:orange')\n",
    "ax.plot(beta_plot_deg,np.rad2deg(ThetaOSW(Ma=5,beta=beta_plot)),color='tab:green')\n",
    "ax.annotate(r'$\\mathrm{{Ma}}_1 = 5, \\theta_\\mathrm{{max}} = {:.3g}^\\circ$'.format(MaxThetaOSW(5)[1]),MaxThetaOSW(5),color='tab:green')\n",
    "ax.plot(beta_plot_deg,np.rad2deg(ThetaOSW(Ma=1.5,beta=beta_plot)),color='tab:brown')\n",
    "ax.annotate(r'$\\mathrm{{Ma}}_1 = 1.5, \\theta_\\mathrm{{max}} = {:.3g}^\\circ$'.format(MaxThetaOSW(1.5)[1]),MaxThetaOSW(1.5),color='tab:brown')\n",
    "Ma_plot=np.logspace(0.05,3,200)\n",
    "MaxBeta_plot = np.zeros(200)\n",
    "MaxTheta_plot = np.zeros(200)\n",
    "for i in range(Ma_plot.size):\n",
    "    MaxBeta_plot[i],MaxTheta_plot[i] = MaxThetaOSW(Ma_plot[i])\n",
    "ax.plot(MaxBeta_plot,MaxTheta_plot,'k--');"
   ]
  },
  {
   "cell_type": "markdown",
   "id": "dangerous-creation",
   "metadata": {},
   "source": [
    "Note that for given values of $\\textrm{Ma}_1$ and $\\theta < \\theta_\\mathrm{max}$ there are two possible values of $\\beta$. The smaller value is related to a **weak shock wave** whereas the larger value is for a **strong shock wave**"
   ]
  },
  {
   "cell_type": "markdown",
   "id": "funky-possibility",
   "metadata": {},
   "source": [
    "### Exercise\n",
    "\n",
    "Write a function `betaOSW(Ma,theta,gamma=1.4)` that returns these two values."
   ]
  },
  {
   "cell_type": "markdown",
   "id": "blind-uncertainty",
   "metadata": {},
   "source": [
    "Usually, for typical situations, the weak OSW is the one obtained in the flow, but it will depend mainly on the back pressure. For the strong OSW flow downstream is subsonic. For the weak OSW, it is usually supersonic, except for some conditions.\n",
    "\n",
    "If, for a given $\\textrm{Ma}_1$ the deflection angle is $\\theta > \\theta_\\mathrm{max}$, there is no solution for an OSW, the shock wave then detaches and it becomes a normal, or bow, shock wave, like the one in the [first picture of this notebook](#picturesSW).\n",
    "\n",
    "The value of $\\beta$ obtained for $\\theta=0$ is related to the OSW when the obstacle is very sharp, or just a point. This is called the *Mach angle* and the OSW is a *Mach wave*. This angle is the same as in the [Mach cone](#Mach-cone). \n",
    "\n",
    "$$\n",
    "\\beta_\\mathrm{min} = \\mu = \\arcsin{\\frac{1}{\\textrm{Ma}_1}} \\tag{44}\n",
    "$$"
   ]
  },
  {
   "cell_type": "markdown",
   "id": "4357ecfc-b00f-45bc-a816-a3a9874afcac",
   "metadata": {},
   "source": [
    "### Shock Polar\n",
    "\n",
    "In a shock polar (see, for example, the section 6.7.3 in the [book by Houghton](https://discovery.upc.edu/iii/encore/record/C__Rb1437643?lang=cat) ) the components of dimensionless velocity behind the OSW are plotted in an [hodograph](https://en.wikipedia.org/wiki/Hodograph). The polar angle of the points of the plot for a given $\\textrm{Ma}_1$ is the deflection angle. Nevertheless, to represent dimensionless velocity in the plot (not the label for the plot) is more convenient to use $\\textrm{Ma}_2^*$, since it has a finite value  (see Eq (10)) even for $\\textrm{Ma}_1 \\rightarrow \\infty$.\n",
    "\n",
    "We can plot the shock polar computing velocity components for all the angles $\\theta$ in the range of previous plot, or, also, it can be used the expression (that we are not going to prove) \n",
    "\n",
    "$$\n",
    "{{\\textrm{Ma}_2^*}_y}^2 = \\frac{\\left(\\textrm{Ma}_1^* - {\\textrm{Ma}_2^*}_x \\right)^2\\left( {\\textrm{Ma}_2^*}_x \\textrm{Ma}_1^* - 1\\right)}\n",
    "{\\frac{2}{\\gamma+1}{\\textrm{Ma}_1^*}^2- \\left({\\textrm{Ma}_2^*}_x \\textrm{Ma}_1^* - 1\\right)} \\tag{45}\n",
    "$$"
   ]
  },
  {
   "cell_type": "markdown",
   "id": "fc5dcfa4-b0fb-4166-bf6e-986dbe31d124",
   "metadata": {},
   "source": [
    "## 5. Prandtl-Meyer expansion fan\n",
    "\n",
    "In the [Prandtl-Meyer expansion fan](https://en.wikipedia.org/wiki/Prandtl%E2%80%93Meyer_expansion_fan) the behavior of the flow is just the opposite of with OSW. In this case, Mach number increases, and all temperature, pressure and density decrease. This expansion can be considered isentropic, and it can be interpreted as composed of infinite number of Mach waves, bounded by the angles $\\mu_1 = \\arcsin\\left({\\frac{1}{\\textrm{Ma}_1}}\\right)$ and $\\mu_2 = \\arcsin\\left({\\frac{1}{\\textrm{Ma}_2}}\\right)$\n",
    "\n",
    "![Image](PrandtlMeyer.png)\n",
    "\n",
    "The derivation, from purely geometrical basis, with an infinitesimal deviation produced by a Mach wave, leads to \n",
    "\n",
    "$$\n",
    "\\frac{u+\\mathrm{d}u}{u} = 1 + \\frac{\\mathrm{d}u}{u} = \\frac{\\cos \\mu}{\\cos \\mu \\cos \\mathrm{d}\\theta - \\sin \\mu \\sin \\mathrm{d}\\theta} \n",
    "\\approx \\frac{1}{1-\\tan \\mu \\mathrm{d}\\theta} \\approx 1 + \\tan \\mu \\mathrm{d} \\theta = 1 + \\frac{\\mathrm{d} \\theta}{\\sqrt{\\textrm{Ma}^2-1}} \\tag{46}\n",
    "$$\n",
    "\n",
    "and, from here,  \n",
    "\n",
    "$$\n",
    "\\mathrm{d} \\theta = \\sqrt{\\textrm{Ma}^2-1} \\frac{\\mathrm{d}u}{u} = \\frac{\\sqrt{\\textrm{Ma}^2-1}}{1+\\frac{\\gamma-1}{2}\\textrm{Ma}^2}\\frac{\\mathrm{d}\\textrm{Ma}}{\\textrm{Ma}} \\tag{47}\n",
    "$$\n",
    "\n",
    "and\n",
    "\n",
    "$$\n",
    "\\theta_2 - \\theta_1 = \\int_{\\textrm{Ma}_1}^{\\textrm{Ma}_2}\\frac{\\sqrt{\\textrm{Ma}^2-1}}{\\textrm{Ma}\\left(1+\\frac{\\gamma-1}{2}\\textrm{Ma}^2\\right)} \\mathrm{d}\\textrm{Ma} = \n",
    "\\nu\\left(\\textrm{Ma}_2\\right) - \\nu\\left(\\textrm{Ma}_1\\right) \\tag{48}\n",
    "$$\n",
    "\n",
    "where \n",
    "\n",
    "$$\n",
    "\\nu\\left(\\textrm{Ma}\\right) = \\int \\frac{\\sqrt{\\textrm{Ma}^2-1}}{\\textrm{Ma}\\left(1+\\frac{\\gamma-1}{2}\\textrm{Ma}^2\\right)} \\mathrm{d}\\textrm{Ma} = \n",
    "\\sqrt{\\frac{\\gamma+1}{\\gamma-1}}\\arctan \\sqrt{\\frac{\\gamma-1}{\\gamma+1}\\left(\\textrm{Ma}^2-1\\right)} - \\arctan \\sqrt{\\textrm{Ma}^2-1} \\tag{49}\n",
    "$$\n",
    "\n",
    "is the [Prandtl-Meyer function](https://en.wikipedia.org/wiki/Prandtl%E2%80%93Meyer_function)"
   ]
  },
  {
   "cell_type": "code",
   "execution_count": 32,
   "id": "worthy-parish",
   "metadata": {},
   "outputs": [],
   "source": [
    "def PrandtlMeyer(Ma,gamma=1.4):\n",
    "    \"\"\"Returns the Prandtl-Meyer function for a given Mach number, greater than 1, in radians\"\"\"\n",
    "    if np.any(Ma) < 1:\n",
    "        print('Ma has to be greater or equal to 1')\n",
    "        return\n",
    "    else:\n",
    "        auxGamma = np.sqrt((gamma+1)/(gamma-1))\n",
    "        auxMa = np.sqrt(Ma**2-1)\n",
    "        return auxGamma*np.arctan(auxMa/auxGamma)-np.arctan(auxMa)"
   ]
  },
  {
   "cell_type": "code",
   "execution_count": 33,
   "id": "false-indiana",
   "metadata": {},
   "outputs": [
    {
     "data": {
      "image/png": "[encoded data removed]",
      "text/plain": [
       "<Figure size 720x576 with 1 Axes>"
      ]
     },
     "metadata": {
      "needs_background": "light"
     },
     "output_type": "display_data"
    }
   ],
   "source": [
    "plt.figure(figsize=(10,8))\n",
    "Ma_plot = np.linspace(1.001,50,1000)\n",
    "nu_plot = np.rad2deg(PrandtlMeyer(Ma_plot))\n",
    "plt.xlim(1,50)\n",
    "plt.ylim(0,130)\n",
    "plt.xlabel(r'$\\mathrm{Ma}$')\n",
    "plt.ylabel(r'$\\nu$ [deg]')\n",
    "plt.grid()\n",
    "plt.plot(Ma_plot,nu_plot);"
   ]
  },
  {
   "cell_type": "code",
   "execution_count": 34,
   "id": "0bae5326-1d57-4c1d-ad0c-cc25d69093db",
   "metadata": {},
   "outputs": [
    {
     "name": "stdout",
     "output_type": "stream",
     "text": [
      "Python implementation: CPython\n",
      "Python version       : 3.9.12\n",
      "IPython version      : 8.2.0\n",
      "\n",
      "Compiler    : GCC 7.5.0\n",
      "OS          : Linux\n",
      "Release     : 5.4.0-113-generic\n",
      "Machine     : x86_64\n",
      "Processor   : x86_64\n",
      "CPU cores   : 8\n",
      "Architecture: 64bit\n",
      "\n",
      "matplotlib: 3.5.1\n",
      "numpy     : 1.21.5\n",
      "\n"
     ]
    }
   ],
   "source": [
    "try:\n",
    "    %load_ext watermark\n",
    "except:\n",
    "    !pip install watermark\n",
    "%watermark -v -m -iv"
   ]
  }
 ],
 "metadata": {
  "kernelspec": {
   "display_name": "Python 3 (ipykernel)",
   "language": "python",
   "name": "python3"
  },
  "language_info": {
   "codemirror_mode": {
    "name": "ipython",
    "version": 3
   },
   "file_extension": ".py",
   "mimetype": "text/x-python",
   "name": "python",
   "nbconvert_exporter": "python",
   "pygments_lexer": "ipython3",
   "version": "3.10.6"
  },
  "toc-autonumbering": false
 },
 "nbformat": 4,
 "nbformat_minor": 5
}
