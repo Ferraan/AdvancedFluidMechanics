{
 "cells": [
  {
   "cell_type": "markdown",
   "id": "76c8030b-1f59-413d-836c-c73319301013",
   "metadata": {},
   "source": [
    "# Assignment 0: Conical tank emptying time\n",
    "\n",
    "Let's calculate how long it takes to [empty a conical tank](https://www.youtube.com/watch?v=2jQ1jA8uJuU)\n",
    "\n",
    "The simplification of the continuity equation leads, for a generic $h$, to\n",
    "\n",
    "$$\n",
    "u_1 D_h^2 = u_1 \\left(d + 2h \\tan \\theta \\right)^2 = u_2 d^2 \\tag{1}\n",
    "$$\n",
    "\n",
    "$$\n",
    "\\Rightarrow \\; u_2 = u_1\\left(1 + 2\\frac{h}{d} \\tan \\theta \\right)^2 \\tag{2}\n",
    "$$\n",
    "\n",
    "On the other hand, Bernoulli's equation, considering quasi-steady flow and without viscosity,\n",
    "\n",
    "$$\n",
    "u_1^2 + 2gh = u_2^2 = u_1^2 \\left(1 + 2\\frac{h}{d} \\tan \\theta \\right)^4 \\tag{3}\n",
    "$$\n",
    "\n",
    "$$\n",
    "\\Rightarrow \\; u_1^2 \\left[ \\left(1 + 2\\frac{h}{d} \\tan \\theta \\right)^4 -1 \\right] = 2gh \\tag{4}\n",
    "$$\n",
    "\n",
    "$$\n",
    "\\Rightarrow \\; u_1 = \\left[ \\frac{2gh}{\\left(1 + 2\\frac{h}{d} \\tan \\theta \\right)^4 -1} \\right]^\\frac{1}{2} = -\\frac{\\textrm{d} h}{\\textrm{d} t} \\tag{5}\n",
    "$$\n",
    "\n",
    "$$\n",
    "\\Rightarrow \\; \\boxed{dt = - \\left[ \\frac{\\left(1 + 2\\frac{h}{d} \\tan \\theta \\right)^4 -1}{2gh}\\right]^\\frac{1} {2} \\textrm{d} h}  \\tag{6} %\\label{eq:int}\n",
    "$$\n",
    "\n",
    "This can be written dimensionless with a time characteristic $\\tau = \\sqrt{\\frac{d}{2g}}$, a change to dimensionless variable $\\xi = \\frac{h}{d}$, and a parameter $A = 2\\tan \\theta$, becoming\n",
    "\n",
    "$$\n",
    "\\frac{\\textrm{d} t}{\\tau} = - \\left[ \\frac{\\left(1 + A \\xi \\right)^4 -1}{\\xi}\\right]^\\frac{1 }{2} \\textrm{d} \\xi \\tag{7}\n",
    "$$\n",
    "\n",
    "Use sympy to analytically compute this time, making an estimation with  $d \\ll h$ so that it can be supposed that  $\\xi \\gg 1$."
   ]
  },
  {
   "cell_type": "markdown",
   "id": "726adf83",
   "metadata": {},
   "source": [
    "---------------------------------------------------------------------------------------------------------------\n",
    "# GROUP 1 SOLUTION:\n",
    "\n",
    "---------------------------------------------------------------------------------------------------------------\n",
    "\n",
    "## 0. Importing sympy:"
   ]
  },
  {
   "cell_type": "code",
   "execution_count": 1,
   "id": "00fed288-84ff-432e-8f1e-7c8ca8bf739d",
   "metadata": {},
   "outputs": [],
   "source": [
    "%reset -f\n",
    "try:\n",
    "    import sympy as sp\n",
    "except:\n",
    "    !pip install sympy==1.7.1\n",
    "    import sympy as sp"
   ]
  },
  {
   "cell_type": "markdown",
   "id": "818fd2c4",
   "metadata": {},
   "source": [
    "The equation can be written to solve the ODE by integration, to determine the $t_f$ to empty the conical tank:\n",
    "    \n",
    "$$ \n",
    "dt = - \\tau \\left[ \\dfrac{(1+A \\xi)^4-1}{\\xi}  \\right]^{\\frac{1}{2}} d \\xi \\;\\;\\; \\to \\;\\;\\; \\int_{0}^{t_f} dt = \\int_{\\xi_0}^{\\xi_f} - \\tau \\left[ \\dfrac{(1+A \\xi)^4-1}{\\xi}  \\right]^{\\frac{1}{2}} d \\xi \\;\\;\\; \\to \\;\\;\\; t_f = \\int_{\\xi_0}^{\\xi_f} - \\tau \\left[ \\dfrac{(1+A \\xi)^4-1}{\\xi}  \\right]^{\\frac{1}{2}} d \\xi\n",
    "$$\n",
    "\n",
    "Considering that $ \\xi \\gg 1 $, then $(1+A \\xi)^4-1 \\sim (1+A \\xi)^4$ for a simplified solution:\n",
    "\n",
    "$$\n",
    "t_f=\\int_{\\xi_0}^{\\xi_f} - \\tau \\left[ \\dfrac{(1+A \\xi)^4}{\\xi}  \\right]^{\\frac{1}{2}} d \\xi =- \\tau \\int_{\\xi_0}^{\\xi_f}  \\left[ \\dfrac{(1+A \\xi)^2}{\\sqrt{\\xi}}  \\right] d \\xi\n",
    "$$"
   ]
  },
  {
   "cell_type": "markdown",
   "id": "2ceb5163",
   "metadata": {},
   "source": [
    "## 1. Declaring variables with sympy (limitating to positive and real values):"
   ]
  },
  {
   "cell_type": "code",
   "execution_count": 2,
   "id": "3fdf7ef0",
   "metadata": {},
   "outputs": [],
   "source": [
    "tau,xi,A,xi_0,xi_f=sp.symbols('tau,xi,A,xi_0,xi_f', positive=True, real=True)"
   ]
  },
  {
   "cell_type": "markdown",
   "id": "c8d268de",
   "metadata": {},
   "source": [
    "## 2. Defining the right-hand side of the expression to integrate $rhs$ as:\n",
    "\n",
    "$$\n",
    "rhs=\\left[ \\dfrac{(1+A \\xi)^2}{\\sqrt{\\xi}}  \\right]\n",
    "$$\n",
    "\n",
    "So that $t_f$:\n",
    "\n",
    "$$\n",
    "t_f=-\\tau \\int_{\\xi_0}^{\\xi_f} rhs \\; d\\xi\n",
    "$$"
   ]
  },
  {
   "cell_type": "code",
   "execution_count": 3,
   "id": "052add9d",
   "metadata": {},
   "outputs": [
    {
     "data": {
      "text/latex": [
       "$\\displaystyle \\frac{\\left(A \\xi + 1\\right)^{2}}{\\sqrt{\\xi}}$"
      ],
      "text/plain": [
       "(A*xi + 1)**2/sqrt(xi)"
      ]
     },
     "metadata": {},
     "output_type": "display_data"
    }
   ],
   "source": [
    "rhs=sp.sqrt(((1+A*xi)**4)/(xi))\n",
    "display(rhs)"
   ]
  },
  {
   "cell_type": "markdown",
   "id": "988fdc31",
   "metadata": {},
   "source": [
    "## 3. The indefinite integral for $t_f$:"
   ]
  },
  {
   "cell_type": "code",
   "execution_count": 4,
   "id": "ee7a9e96",
   "metadata": {},
   "outputs": [
    {
     "data": {
      "text/latex": [
       "$\\displaystyle - \\tau \\left(\\frac{2 A^{2} \\xi^{\\frac{5}{2}}}{5} + \\frac{4 A \\xi^{\\frac{3}{2}}}{3} + 2 \\sqrt{\\xi}\\right)$"
      ],
      "text/plain": [
       "-tau*(2*A**2*xi**(5/2)/5 + 4*A*xi**(3/2)/3 + 2*sqrt(xi))"
      ]
     },
     "metadata": {},
     "output_type": "display_data"
    }
   ],
   "source": [
    "indef_solution=rhs.integrate(xi)*(-tau)\n",
    "indef_solution.simplify()\n",
    "display(indef_solution)"
   ]
  },
  {
   "cell_type": "markdown",
   "id": "c5c7c369",
   "metadata": {},
   "source": [
    "## 4. The definite integral for $t_f$:"
   ]
  },
  {
   "cell_type": "code",
   "execution_count": 5,
   "id": "2207fb6d",
   "metadata": {},
   "outputs": [
    {
     "data": {
      "text/latex": [
       "$\\displaystyle - \\tau \\left(- \\frac{2 A^{2} \\xi_{0}^{\\frac{5}{2}}}{5} + \\frac{2 A^{2} \\xi_{f}^{\\frac{5}{2}}}{5} - \\frac{4 A \\xi_{0}^{\\frac{3}{2}}}{3} + \\frac{4 A \\xi_{f}^{\\frac{3}{2}}}{3} - 2 \\sqrt{\\xi_{0}} + 2 \\sqrt{\\xi_{f}}\\right)$"
      ],
      "text/plain": [
       "-tau*(-2*A**2*xi_0**(5/2)/5 + 2*A**2*xi_f**(5/2)/5 - 4*A*xi_0**(3/2)/3 + 4*A*xi_f**(3/2)/3 - 2*sqrt(xi_0) + 2*sqrt(xi_f))"
      ]
     },
     "metadata": {},
     "output_type": "display_data"
    }
   ],
   "source": [
    "def_solution=rhs.integrate((xi,xi_0,xi_f))*(-tau)\n",
    "display(def_solution)"
   ]
  },
  {
   "cell_type": "markdown",
   "id": "871df2d1",
   "metadata": {},
   "source": [
    "For $t_{f}$ (time to empty the conical tank), $\\xi_f=0$, and the equation:"
   ]
  },
  {
   "cell_type": "code",
   "execution_count": 6,
   "id": "4c809ccb",
   "metadata": {},
   "outputs": [
    {
     "data": {
      "text/latex": [
       "$\\displaystyle t_{f} = \\frac{2 \\tau \\sqrt{\\xi_{0}} \\left(3 A^{2} \\xi_{0}^{2} + 10 A \\xi_{0} + 15\\right)}{15}$"
      ],
      "text/plain": [
       "Eq(t_f, 2*tau*sqrt(xi_0)*(3*A**2*xi_0**2 + 10*A*xi_0 + 15)/15)"
      ]
     },
     "metadata": {},
     "output_type": "display_data"
    }
   ],
   "source": [
    "t_f=sp.symbols('t_f',positive=True,real=True)               # new symbol\n",
    "tSolution = sp.Eq(t_f,def_solution)                         # create equation\n",
    "tSolution = tSolution.replace(xi_f,0)                       # condition for empty tank at final time\n",
    "tSolution = tSolution.simplify()                            # simplify expression\n",
    "display(tSolution)"
   ]
  },
  {
   "cell_type": "markdown",
   "id": "25af51d3",
   "metadata": {},
   "source": [
    "Finally, replacing the parameters $\\tau = \\sqrt{\\frac{d}{2g}}$, $\\xi_i = \\frac{h_i}{d}$ and $A = 2\\tan{\\theta}$, the final analytical expression for the time is obtained:"
   ]
  },
  {
   "cell_type": "code",
   "execution_count": 7,
   "id": "d768a5bb",
   "metadata": {},
   "outputs": [
    {
     "data": {
      "text/latex": [
       "$\\displaystyle t_{f} = \\frac{\\sqrt{2} \\sqrt{h_{i}} \\left(15 + \\frac{20 h_{i} \\tan{\\left(\\theta \\right)}}{d} + \\frac{12 h_{i}^{2} \\tan^{2}{\\left(\\theta \\right)}}{d^{2}}\\right)}{15 \\sqrt{g}}$"
      ],
      "text/plain": [
       "Eq(t_f, sqrt(2)*sqrt(h_i)*(15 + 20*h_i*tan(theta)/d + 12*h_i**2*tan(theta)**2/d**2)/(15*sqrt(g)))"
      ]
     },
     "metadata": {},
     "output_type": "display_data"
    }
   ],
   "source": [
    "thetaS,dS,gS,hiS = sp.symbols('theta,d,g,h_i',positive=True,real=True) # new symbols \"S\"\n",
    "tSolution = tSolution.replace(tau,sp.sqrt(dS/(2*gS)))\n",
    "tSolution = tSolution.replace(xi_0,hiS/dS)\n",
    "tSolution = tSolution.replace(A,2*sp.tan(thetaS))\n",
    "display(tSolution)"
   ]
  },
  {
   "cell_type": "markdown",
   "id": "5fb75973",
   "metadata": {},
   "source": [
    "## 5. Substituting numerical values for a real solution:\n",
    "\n",
    "$$\n",
    "\\tau = \\sqrt{\\frac{d}{2g}}\n",
    "$$\n",
    "\n",
    "$$\n",
    "\\xi = \\frac{h}{d}\n",
    "$$\n",
    "\n",
    "$$\n",
    "A = 2 \\; tan \\theta\n",
    "$$"
   ]
  },
  {
   "cell_type": "markdown",
   "id": "b91d0281",
   "metadata": {},
   "source": [
    "For a cone of 1m of height, an angle of 15º and a bottom hole of 3cm of diameter, the next data can be defined: $h_i = 1\\:m$, $\\theta = 15º$, $d = 3\\:cm = 0.03\\:m$ and $g = 9.81\\:m/s^2$.\n",
    "\n",
    "Replacing these values in the last expression, the time it takes to empty the cone is (in seconds):"
   ]
  },
  {
   "cell_type": "code",
   "execution_count": 8,
   "id": "bbefeed2",
   "metadata": {},
   "outputs": [
    {
     "data": {
      "text/plain": [
       "34.644597974586205"
      ]
     },
     "execution_count": 8,
     "metadata": {},
     "output_type": "execute_result"
    }
   ],
   "source": [
    "try:\n",
    "    import numpy as np\n",
    "except:\n",
    "    !pip install numpy\n",
    "    import numpy as np\n",
    "\n",
    "# NUMERICAL VALUES:\n",
    "g = 9.81                    # gravity [m/s2]\n",
    "h0 = 1                      # height initial [m]\n",
    "hf = 0                      # height final [m] -> 0 for empty tank\n",
    "d = 0.03                    # bottom hole diameter [m]\n",
    "theta = 15 * np.pi / 180    # conical slope [rad]\n",
    "\n",
    "# \"tau\" CHARACTERISTIC, \"xi\" NON DIMENSIONAL, \"A\" PARAMETER:\n",
    "xi_0_par = h0/d             # initial tank [-]\n",
    "xi_f_par = hf/d             # empty tank [-]\n",
    "tau_par = np.sqrt(d/(2*g))  # characteristic time [s]\n",
    "A_par = 2 * np.tan(theta)   # [-]\n",
    "\n",
    "num_solution = sp.lambdify((xi_0,xi_f,A,tau),def_solution)\n",
    "num_solution(xi_0_par,xi_f_par,A_par,tau_par)"
   ]
  },
  {
   "cell_type": "markdown",
   "id": "0f9839d4",
   "metadata": {},
   "source": [
    "## 6. Unsimplified solution:\n",
    "\n",
    "$$\n",
    "t_f = - \\tau \\int_{\\xi_0}^{\\xi_f}  \\left[ \\dfrac{(1+A \\xi)^4-1}{\\xi}  \\right]^{\\frac{1}{2}} d \\xi\n",
    "$$\n",
    "\n",
    "Considering $rhs_A$ as:\n",
    "\n",
    "$$\n",
    "rhs_A = \\left[ \\dfrac{(1+A \\xi)^4-1}{\\xi}  \\right]^{\\frac{1}{2}}\n",
    "$$\n",
    "\n",
    "And the solution:\n",
    "\n",
    "$$\n",
    "t_f = - \\tau \\int_{\\xi_0}^{\\xi_f}  rhs_A \\; d \\xi\n",
    "$$"
   ]
  },
  {
   "cell_type": "code",
   "execution_count": 9,
   "id": "587eae79",
   "metadata": {},
   "outputs": [
    {
     "data": {
      "text/latex": [
       "$\\displaystyle \\frac{\\sqrt{\\left(A \\xi + 1\\right)^{4} - 1}}{\\sqrt{\\xi}}$"
      ],
      "text/plain": [
       "sqrt((A*xi + 1)**4 - 1)/sqrt(xi)"
      ]
     },
     "metadata": {},
     "output_type": "display_data"
    }
   ],
   "source": [
    "rhs_A=sp.sqrt(((1+A*xi)**4-1)/(xi))\n",
    "display(rhs_A)"
   ]
  },
  {
   "cell_type": "code",
   "execution_count": 10,
   "id": "bd11125d",
   "metadata": {},
   "outputs": [
    {
     "data": {
      "text/latex": [
       "$\\displaystyle - \\sqrt{A} \\tau \\int\\limits_{\\xi_{0}}^{\\xi_{f}} \\sqrt{A \\xi + 2} \\sqrt{A^{2} \\xi^{2} + 2 A \\xi + 2}\\, d\\xi$"
      ],
      "text/plain": [
       "-sqrt(A)*tau*Integral(sqrt(A*xi + 2)*sqrt(A**2*xi**2 + 2*A*xi + 2), (xi, xi_0, xi_f))"
      ]
     },
     "metadata": {},
     "output_type": "display_data"
    }
   ],
   "source": [
    "def_solutionA=rhs_A.integrate((xi,xi_0,xi_f))*(-tau)\n",
    "display(def_solutionA)"
   ]
  },
  {
   "cell_type": "code",
   "execution_count": 11,
   "id": "4c046ffd",
   "metadata": {},
   "outputs": [
    {
     "data": {
      "text/plain": [
       "34.591526353823404"
      ]
     },
     "execution_count": 11,
     "metadata": {},
     "output_type": "execute_result"
    }
   ],
   "source": [
    "# NUMERICAL VALUES AND PARAMETERS ALREADY DEFINED FOR SIMPLIFIED SOLUTION\n",
    "# *** If compilation fails, install scipy library (pip install scipy)***\n",
    "\n",
    "num_solutionA = sp.lambdify((xi_0,xi_f,A,tau),def_solutionA)\n",
    "num_solutionA(xi_0_par,xi_f_par,A_par,tau_par)"
   ]
  },
  {
   "cell_type": "markdown",
   "id": "c93fd526",
   "metadata": {},
   "source": [
    "The error between the approximated solution and the exact is:"
   ]
  },
  {
   "cell_type": "code",
   "execution_count": 12,
   "id": "98bbcc77",
   "metadata": {},
   "outputs": [
    {
     "name": "stdout",
     "output_type": "stream",
     "text": [
      "Simplified solution has an error of -0.15342376112563286 %.\n"
     ]
    }
   ],
   "source": [
    "error=(num_solutionA(xi_0_par,xi_f_par,A_par,tau_par)-num_solution(xi_0_par,xi_f_par,A_par,tau_par))/num_solutionA(xi_0_par,xi_f_par,A_par,tau_par)\n",
    "error=error*100\n",
    "print('Simplified solution has an error of {0} %.'.format(error))"
   ]
  },
  {
   "cell_type": "markdown",
   "id": "70cb43cb",
   "metadata": {},
   "source": [
    "## 7. PLOTTING PROGRESSION OF ERROR AS A FUNCTION OF $\\xi_0$"
   ]
  },
  {
   "cell_type": "markdown",
   "id": "4817bdaa",
   "metadata": {},
   "source": [
    "Doing calculations for a number of $\\xi$:"
   ]
  },
  {
   "cell_type": "code",
   "execution_count": 13,
   "id": "63d98277",
   "metadata": {},
   "outputs": [],
   "source": [
    "# NUMERICAL VALUES:\n",
    "g = 9.81                    # gravity [m/s2]\n",
    "hf = 0                      # height final [m] -> 0 for empty tank\n",
    "d = 0.03                    # bottom hole diameter [m]\n",
    "theta = 15 * np.pi / 180    # conical slope [rad]\n",
    "\n",
    "h0_Array = np.arange(d,d*100,0.03) # height initial, from (0.03,3.0) [m]\n",
    "\n",
    "# \"tau\" CHARACTERISTIC, \"xi\" NON DIMENSIONAL, \"A\" PARAMETER:\n",
    "xi_0_Array = h0_Array*(1/d) # initial tank [-]\n",
    "xi_f_par = hf/d # empty tank [-]\n",
    "tau_par = np.sqrt(d/(2*g)) # [s]\n",
    "A_par = 2 * np.tan(theta) # [-]\n",
    "\n",
    "# Initializing lists\n",
    "error_Array=[]\n",
    "for xi_0_par in xi_0_Array:\n",
    "    sim_sol=num_solution(xi_0_par,xi_f_par,A_par,tau_par)\n",
    "    abs_sol=num_solutionA(xi_0_par,xi_f_par,A_par,tau_par)\n",
    "    error_Array.append(np.abs((sim_sol-abs_sol)/abs_sol))    \n"
   ]
  },
  {
   "cell_type": "markdown",
   "id": "0b46285b",
   "metadata": {},
   "source": [
    "Importing matplotlib and plotting:"
   ]
  },
  {
   "cell_type": "code",
   "execution_count": 14,
   "id": "230f49fe",
   "metadata": {},
   "outputs": [
    {
     "data": {
      "image/png": "[encoded data removed]",
      "text/plain": [
       "<Figure size 800x400 with 1 Axes>"
      ]
     },
     "metadata": {},
     "output_type": "display_data"
    }
   ],
   "source": [
    "try:\n",
    "    import matplotlib.pyplot as plt\n",
    "except:\n",
    "    !pip install matplotlib\n",
    "    import matplotlib.pyplot as plt\n",
    "\n",
    "fig,ax = plt.subplots(figsize=(8,4))\n",
    "ax.plot(xi_0_Array,error_Array)\n",
    "ax.set_xlabel(r'$\\xi_0$')\n",
    "ax.set_ylabel(r'$error$')\n",
    "ax.set_title(r'Conical empty tank, with d={0} [m] and $\\theta$={1} [deg].'.format(d,round(theta*180/np.pi)))\n",
    "ax.grid(which='major',axis='both')"
   ]
  },
  {
   "cell_type": "markdown",
   "id": "4c7a4bba",
   "metadata": {},
   "source": [
    "As it can be seen, the error is lowered if $\\xi_0$ is higher, as the hypothesis $\\xi \\gg 1$ is respected. \n",
    "\n",
    "The first and last values for the error plot:"
   ]
  },
  {
   "cell_type": "code",
   "execution_count": 15,
   "id": "77090bcd",
   "metadata": {},
   "outputs": [
    {
     "data": {
      "text/latex": [
       "$\\displaystyle \\xi_0=1.0 \\;\\;\\; \\to \\;\\;\\; error=0.5833739341582044.$"
      ],
      "text/plain": [
       "<IPython.core.display.Math object>"
      ]
     },
     "metadata": {},
     "output_type": "display_data"
    },
    {
     "data": {
      "text/latex": [
       "$\\displaystyle \\xi_0=99.99999999999999 \\;\\;\\; \\to \\;\\;\\; error=0.0001114291365461832.$"
      ],
      "text/plain": [
       "<IPython.core.display.Math object>"
      ]
     },
     "metadata": {},
     "output_type": "display_data"
    }
   ],
   "source": [
    "from IPython.display import display, Math\n",
    "display(Math(r'\\xi_0={0} \\;\\;\\; \\to \\;\\;\\; error={1}.'.format(xi_0_Array[0],error_Array[0])))\n",
    "display(Math(r'\\xi_0={0} \\;\\;\\; \\to \\;\\;\\; error={1}.'.format(xi_0_Array[-1],error_Array[-1])))"
   ]
  },
  {
   "cell_type": "markdown",
   "id": "f4ea8ccd",
   "metadata": {},
   "source": [
    "On a logarithmic axis, the plot:"
   ]
  },
  {
   "cell_type": "code",
   "execution_count": 16,
   "id": "c832aefc",
   "metadata": {},
   "outputs": [
    {
     "data": {
      "image/png": "[encoded data removed]",
      "text/plain": [
       "<Figure size 800x400 with 1 Axes>"
      ]
     },
     "metadata": {},
     "output_type": "display_data"
    }
   ],
   "source": [
    "fig,ax = plt.subplots(figsize=(8,4))\n",
    "ax.plot(xi_0_Array,error_Array)\n",
    "ax.set_xlabel(r'$\\xi_0$')\n",
    "ax.set_ylabel(r'$error$')\n",
    "ax.set_title(r'Conical empty tank, with d={0} [m] and $\\theta$={1} [deg].'.format(d,round(theta*180/np.pi)))\n",
    "ax.grid(which='minor',axis='both')\n",
    "\n",
    "ax.set_xscale('log')\n",
    "ax.set_yscale('log')"
   ]
  },
  {
   "cell_type": "code",
   "execution_count": 17,
   "id": "cbddfc47",
   "metadata": {},
   "outputs": [
    {
     "name": "stdout",
     "output_type": "stream",
     "text": [
      "Python implementation: CPython\n",
      "Python version       : 3.8.16\n",
      "IPython version      : 8.9.0\n",
      "\n",
      "Compiler    : MSC v.1929 64 bit (AMD64)\n",
      "OS          : Windows\n",
      "Release     : 10\n",
      "Machine     : AMD64\n",
      "Processor   : Intel64 Family 6 Model 60 Stepping 3, GenuineIntel\n",
      "CPU cores   : 4\n",
      "Architecture: 64bit\n",
      "\n",
      "matplotlib: 3.6.3\n",
      "numpy     : 1.24.2\n",
      "sympy     : 1.7.1\n",
      "\n"
     ]
    }
   ],
   "source": [
    "try:\n",
    "    %load_ext watermark\n",
    "except:\n",
    "    !pip install watermark\n",
    "%watermark -v -m -iv"
   ]
  }
 ],
 "metadata": {
  "kernelspec": {
   "display_name": "Python 3 (ipykernel)",
   "language": "python",
   "name": "python3"
  },
  "language_info": {
   "codemirror_mode": {
    "name": "ipython",
    "version": 3
   },
   "file_extension": ".py",
   "mimetype": "text/x-python",
   "name": "python",
   "nbconvert_exporter": "python",
   "pygments_lexer": "ipython3",
   "version": "3.8.16"
  },
  "vscode": {
   "interpreter": {
    "hash": "aeb983440857e3ff99d7e99b4d1c6039495192dec07e23c4ba91b4b9744e7cf8"
   }
  }
 },
 "nbformat": 4,
 "nbformat_minor": 5
}
