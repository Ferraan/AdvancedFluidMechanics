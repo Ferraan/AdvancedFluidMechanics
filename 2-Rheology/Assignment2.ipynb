{
 "cells": [
  {
   "cell_type": "markdown",
   "id": "b7a0c9cf-b589-4da1-8b4b-e8e6fde7f631",
   "metadata": {},
   "source": [
    "# Assignment 2. Rheological behaviour of cosmetic creams\n",
    "\n",
    "It is a sample of rheological behaviour of some cosmetic creams, taken from [here](https://www.rheologylab.com/articles/emulsion-stability/)\n",
    "\n",
    "![image.png](CSVP-of-Lotions-and-Creams-names-removed.webp)\n",
    "\n",
    "What conclusions would you get from that about the behaviour of day creams in front of body creams? \n",
    "\n",
    "Let's consider the case of the body lotion C. Fit the Power Law model, get coefficients and plot it. You will see that it is not good. You will see that it does not agree with very low (_zero-shear rate viscosity_) or high (_infinity-shear rate viscosity_) shear stress. There are some other models that deals with this behaviour. The molt usual is the [Carreau model](https://en.wikipedia.org/wiki/Carreau_fluid). Apply this law to obtain a more accurate model of this fluid and discuss it.\n"
   ]
  },
  {
   "cell_type": "code",
   "execution_count": 2,
   "id": "d59385dd",
   "metadata": {},
   "outputs": [],
   "source": [
    "try:\n",
    "    import statsmodels.api as sm\n",
    "except:\n",
    "    !pip install statsmodels\n",
    "import statsmodels.formula.api as smf\n",
    "import statsmodels.graphics.api as smg\n",
    "import patsy\n",
    "import matplotlib.pyplot as plt\n",
    "import numpy as np\n",
    "import pandas as pd"
   ]
  },
  {
   "cell_type": "code",
   "execution_count": 3,
   "id": "4b8910e9-bf44-4876-855b-9088968a4213",
   "metadata": {},
   "outputs": [
    {
     "data": {
      "text/html": [
       "<div>\n",
       "<style scoped>\n",
       "    .dataframe tbody tr th:only-of-type {\n",
       "        vertical-align: middle;\n",
       "    }\n",
       "\n",
       "    .dataframe tbody tr th {\n",
       "        vertical-align: top;\n",
       "    }\n",
       "\n",
       "    .dataframe thead th {\n",
       "        text-align: right;\n",
       "    }\n",
       "</style>\n",
       "<table border=\"1\" class=\"dataframe\">\n",
       "  <thead>\n",
       "    <tr style=\"text-align: right;\">\n",
       "      <th></th>\n",
       "      <th></th>\n",
       "      <th>x</th>\n",
       "      <th>y</th>\n",
       "    </tr>\n",
       "  </thead>\n",
       "  <tbody>\n",
       "    <tr>\n",
       "      <th rowspan=\"4\" valign=\"top\">1</th>\n",
       "      <th>0029798893919648; 8986</th>\n",
       "      <td>044894008824; 116; 2143</td>\n",
       "      <td>9.655172e+11</td>\n",
       "    </tr>\n",
       "    <tr>\n",
       "      <th>260690310057963; 10199</th>\n",
       "      <td>747423022625; 117; 2181</td>\n",
       "      <td>6.068376e+12</td>\n",
       "    </tr>\n",
       "    <tr>\n",
       "      <th>5855207522878974; 9577</th>\n",
       "      <td>778881652637; 117; 2182</td>\n",
       "      <td>2.222222e+12</td>\n",
       "    </tr>\n",
       "    <tr>\n",
       "      <th>9940472579820163; 9881</th>\n",
       "      <td>191894240894; 117; 2181</td>\n",
       "      <td>6.068376e+11</td>\n",
       "    </tr>\n",
       "    <tr>\n",
       "      <th>4</th>\n",
       "      <th>01278883774198; 8170</th>\n",
       "      <td>799886449471; 118; 2230</td>\n",
       "      <td>8.220339e+12</td>\n",
       "    </tr>\n",
       "  </tbody>\n",
       "</table>\n",
       "</div>"
      ],
      "text/plain": [
       "                                                x             y\n",
       "1 0029798893919648; 8986  044894008824; 116; 2143  9.655172e+11\n",
       "  260690310057963; 10199  747423022625; 117; 2181  6.068376e+12\n",
       "  5855207522878974; 9577  778881652637; 117; 2182  2.222222e+12\n",
       "  9940472579820163; 9881  191894240894; 117; 2181  6.068376e+11\n",
       "4 01278883774198; 8170    799886449471; 118; 2230  8.220339e+12"
      ]
     },
     "execution_count": 3,
     "metadata": {},
     "output_type": "execute_result"
    }
   ],
   "source": [
    "ScatterData = pd.read_csv(\"BodyLotionC.csv\",header=None,names=[\"x\",\"y\"]) # It's important the names for the columns data\n",
    "ScatterData.head()"
   ]
  },
  {
   "cell_type": "code",
   "execution_count": null,
   "id": "4e6268a2",
   "metadata": {},
   "outputs": [],
   "source": []
  }
 ],
 "metadata": {
  "kernelspec": {
   "display_name": "Python 3 (ipykernel)",
   "language": "python",
   "name": "python3"
  },
  "language_info": {
   "codemirror_mode": {
    "name": "ipython",
    "version": 3
   },
   "file_extension": ".py",
   "mimetype": "text/x-python",
   "name": "python",
   "nbconvert_exporter": "python",
   "pygments_lexer": "ipython3",
   "version": "3.10.6"
  }
 },
 "nbformat": 4,
 "nbformat_minor": 5
}
