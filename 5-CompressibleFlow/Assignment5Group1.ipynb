{
 "cells": [
  {
   "cell_type": "markdown",
   "id": "3060f4f2",
   "metadata": {},
   "source": [
    "# Assignment 5. A function to compute the flow after a deflection angle\n",
    "\n",
    "Write a function, say `OSWFlow(U1,theta,T1, p1, theta)`, that gives for the flow 1 entering a deflection angle $\\theta$, the characteristics of the flow after the OSW.  That is:\n",
    "\n",
    "- Is there an OSW?\n",
    "- $\\text{Ma}_1$ and $\\text{Ma}_2$\n",
    "- Angle of the OSW ($\\beta$)\n",
    "- Flow conditions after the OSW: $u_2$, $T_2$ and $p_2$\n",
    "\n",
    "Don't forget to properly document the function."
   ]
  },
  {
   "cell_type": "markdown",
   "id": "d3413cfe",
   "metadata": {},
   "source": [
    "---------------------------------\n",
    "# A5: GROUP 1 SOLUTION (Pol Padilla, Ferran de Miguel, Alejandro Sanchez)\n",
    "---------------------------------"
   ]
  },
  {
   "cell_type": "markdown",
   "id": "3a16400d",
   "metadata": {},
   "source": [
    "Normal shock waves are a particular case of the more general [oblique shock waves](https://en.wikipedia.org/wiki/Oblique_shock). In a oblique shock, supersonic flow is deviated by an obstacle. We are going to consider, for the shake of simplicity that the obstacle is a corner of angle $\\theta$, and the flow is everywhere uniform and parallel to ground\n",
    "\n",
    "![image.png](OSW.png)\n",
    "\n"
   ]
  },
  {
   "cell_type": "markdown",
   "id": "e52faba2",
   "metadata": {},
   "source": [
    "## 0. Secondary support functions:"
   ]
  },
  {
   "cell_type": "code",
   "execution_count": 27,
   "id": "0b9d6a43",
   "metadata": {},
   "outputs": [],
   "source": [
    "from IPython.display import Latex\n",
    "import numpy as np\n",
    "import matplotlib.pyplot as plt\n",
    "\n",
    "def print_separator():\n",
    "    print(\"--- --- --- --- --- --- --- --- --- --- --- ---\")"
   ]
  },
  {
   "cell_type": "markdown",
   "id": "588d43f8",
   "metadata": {},
   "source": [
    "Basic compressible flow functions about the fluid:"
   ]
  },
  {
   "cell_type": "code",
   "execution_count": 28,
   "id": "01b1d27b",
   "metadata": {},
   "outputs": [],
   "source": [
    "def gasConstant(M=0.0289647):\n",
    "    \"\"\"\n",
    "    Returns the gas constant for a gas with molecular mass M (in J/molK)\n",
    "    \n",
    "    \"\"\"\n",
    "    R = 8.314463 # Universal Gas Constant\n",
    "    return R/M\n",
    "\n",
    "def sound_velocity(gamma=1.4,M=0.0289647,T=293.15):\n",
    "    \"\"\"\n",
    "    Returns the velocity of sound for a gas with adiabatic index gamma and molecular mass M,\n",
    "    at the temperature T (in K).\n",
    "    The default arguments are for air at T = 20 C deg = 293 K\n",
    "    \n",
    "    Usage:\n",
    "    \n",
    "    c = sound_velocity(gamma = 1.34, M = 0.045, T = 312)\n",
    "    \"\"\"\n",
    "    from numpy import sqrt\n",
    "    r = gasConstant(M=M)\n",
    "    return sqrt(gamma*r*T)\n",
    "\n",
    "def MaNumber(u,gamma=1.4,M=0.0289647,T=293.15):\n",
    "    \"\"\"\n",
    "    Returns the Mach number for a velocity u for a gas with adiabatic index gamma and molecular mass M,\n",
    "    at the temperature T (in K).\n",
    "    The default arguments are for air at T = 20 C deg = 293 K\n",
    "    \n",
    "    Usage:\n",
    "    \n",
    "    Ma = MaNumber(u = 750, gamma = 1.34, M = 0.045, T = 312)\n",
    "    \"\"\"\n",
    "\n",
    "    return u/sound_velocity(gamma,M,T)\n",
    "\n"
   ]
  },
  {
   "cell_type": "markdown",
   "id": "2fc4d175",
   "metadata": {},
   "source": [
    "Normal shock wave functions:"
   ]
  },
  {
   "cell_type": "code",
   "execution_count": 29,
   "id": "1b41a691",
   "metadata": {},
   "outputs": [],
   "source": [
    "def MaStar(Ma,gamma=1.4):\n",
    "    \"\"\" Returns Ma* as function of Ma \"\"\"\n",
    "    return np.sqrt((gamma+1)/(2/Ma**2+gamma-1))\n",
    "\n",
    "def MaShockwave(Ma,gamma=1.4):\n",
    "    \"\"\"\n",
    "    Return the Mach number after a normal shock wave as funtion of Ma before the shock wave.\n",
    "    \"\"\"\n",
    "    if np.any(Ma) < 1:\n",
    "        print('Ma has to be greater or equal to 1')\n",
    "        return\n",
    "    else:\n",
    "        Ma2 = Ma**2\n",
    "        beta = (gamma-1)/2\n",
    "        Ma22 = (1+beta*Ma2)/(gamma*Ma2-beta)\n",
    "        return np.sqrt(Ma22)\n",
    "    \n",
    "def rho2_rho1(Ma,gamma=1.4):\n",
    "    \"\"\"Returns rho_2/rho_1 for a shock wave with Mach number Ma > 1\"\"\"\n",
    "    if np.any(Ma) < 1:\n",
    "        print('Ma has to be greater or equal to 1')\n",
    "        return\n",
    "    else:\n",
    "        return MaStar(Ma,gamma=gamma)**2\n",
    "    \n",
    "def u2_u1(Ma,gamma=1.4):\n",
    "    \"\"\"Returns u_2/u_1 for a shock wave with Mach number Ma > 1\"\"\"\n",
    "    if np.any(Ma) < 1:\n",
    "        print('Ma has to be greater or equal to 1')\n",
    "        return\n",
    "    else:\n",
    "        return 1/MaStar(Ma,gamma=gamma)**2\n",
    "\n",
    "def p2_p1(Ma,gamma=1.4):\n",
    "    \"\"\"Returns p_2/p_1 for a shock wave with Mach number Ma > 1\"\"\"\n",
    "    if np.any(Ma) < 1:\n",
    "        print('Ma has to be greater or equal to 1')\n",
    "        return\n",
    "    else:\n",
    "        return 1 + 2*gamma/(gamma+1)*(Ma**2-1)\n",
    "    \n",
    "def T2_T1(Ma,gamma=1.4):\n",
    "    \"\"\"Returns T_2/T_1 for a shock wave with Mach number Ma > 1\"\"\"\n",
    "    if np.any(Ma) < 1:\n",
    "        print('Ma has to be greater or equal to 1')\n",
    "        return\n",
    "    else:\n",
    "        return p2_p1(Ma,gamma)/rho2_rho1(Ma,gamma)"
   ]
  },
  {
   "cell_type": "markdown",
   "id": "795d6a38",
   "metadata": {},
   "source": [
    "OSW secondary functions:"
   ]
  },
  {
   "cell_type": "code",
   "execution_count": 30,
   "id": "1f729b1e",
   "metadata": {},
   "outputs": [],
   "source": [
    "def ThetaOSW(Ma,beta,gamma=1.4):\n",
    "    \"\"\"\n",
    "    Returns the deflection angle theta for an oblique shock wave, given the incident Ma number and the angle os the SW, beta. \n",
    "    \"\"\"\n",
    "    tanTheta = 2/np.tan(beta)*(Ma**2*np.sin(beta)**2-1)/(Ma**2*(gamma+np.cos(2*beta))+2)\n",
    "    return np.arctan(tanTheta)\n",
    "\n",
    "def MaxThetaOSW(Ma,gamma=1.4):\n",
    "    \"\"\"\n",
    "    Returns the beta OSW angle corresponding to the maximum theta value (in degrees) for a given Mach 1.\n",
    "    \"\"\"\n",
    "    from scipy.optimize import brent\n",
    "    def f(beta):\n",
    "        return -ThetaOSW(Ma,beta,gamma)\n",
    "    interval = (np.deg2rad(50),np.deg2rad(80))\n",
    "    betaMax = brent(f,brack=interval)\n",
    "    return np.rad2deg(betaMax),np.rad2deg(ThetaOSW(Ma,betaMax,gamma))\n",
    "\n",
    "from scipy.optimize import brentq\n",
    "def betaOSW(Ma,theta,gamma=1.4):\n",
    "    \"\"\"Returns the 2 beta values for oblique shock wave:\n",
    "\n",
    "    Args:\n",
    "        Ma (float): Mach number\n",
    "        theta (float): in degrees\n",
    "        gamma (float): Defaults to 1.4.\n",
    "\n",
    "    Returns:\n",
    "        beta values, in degrees\n",
    "        a boolean if there is or not a solution\n",
    "    \"\"\"\n",
    "    \n",
    "    theta = np.deg2rad(theta)\n",
    "    MaxBeta,MaxTheta = MaxThetaOSW(Ma)\n",
    "    MaxBeta = np.deg2rad(MaxBeta)\n",
    "    MaxTheta = np.deg2rad(MaxTheta)\n",
    "    \n",
    "    if theta > MaxTheta:\n",
    "        print(\"No solution for the oblique shock wave (theta > MaxTheta); MaxTheta = {0:3g}\".format(np.rad2deg(MaxTheta)))\n",
    "        return None,None,False\n",
    "    \n",
    "    def func(beta):\n",
    "        return 2/np.tan(beta)*(Ma**2*np.sin(beta)**2-1)/(Ma**2*(gamma+np.cos(2*beta))+2)-np.tan(theta)\n",
    "    \n",
    "    betaWeak = brentq(func,0.001,MaxBeta)\n",
    "    betaStrong = brentq(func,MaxBeta,np.pi/2)\n",
    "    \n",
    "    return np.rad2deg(betaWeak),np.rad2deg(betaStrong), True\n",
    "    \n",
    "    "
   ]
  },
  {
   "cell_type": "markdown",
   "id": "32a21560",
   "metadata": {},
   "source": [
    "## 1. MAIN FUNCTION OSWFLOW:"
   ]
  },
  {
   "cell_type": "code",
   "execution_count": 31,
   "id": "ecbd181d",
   "metadata": {},
   "outputs": [],
   "source": [
    "def print_separator():\n",
    "    print(\"--- --- --- --- --- --- --- --- --- --- --- ---\")\n",
    "\n",
    "def OSWFLOW(U1,T1,p1,theta,gamma=1.4,M=0.0289647):\n",
    "    \n",
    "    \"\"\"Prints and returns data of the OSW:\n",
    "    \n",
    "    Args:\n",
    "        U1 (float): free stream flow velocity [m/s]\n",
    "        T1 (float): free stream flow temperature [K]\n",
    "        p1 (float): free stream flow pressure [Pa]\n",
    "        theta (float): surface deflection angle [deg]\n",
    "        gamma (float): adiabatic index; defaults to 1.4 \n",
    "        M (float): molecular mass; defaults to 0.0289647 [kg/mol]\n",
    "\n",
    "    Returns:\n",
    "        OSWtrue (bool): True for a solution, False if no OSW; (if False, all other values are None)\n",
    "        betaWeak (float): weak beta angle [deg]\n",
    "        betaStrong (float): strong beta angle [deg] \n",
    "        Ma_2 (float): Mach after the OSW [-]\n",
    "        U2 (float): flow velocity after the OSW [m/s]\n",
    "        T2 (float): flow temperature after the OSW [K]\n",
    "        p2 (float): flow pressure after the OSW [Pa]\n",
    "        rho2 (float): flow density after the OSW [kg/m3]\n",
    "    \"\"\"\n",
    "    \n",
    "    # UNDISTURBED FLOW 1:\n",
    "    r = gasConstant(M)              # [J/molK]\n",
    "    rho1 = p1/(r*T1)                # [kg/m3]\n",
    "    c1 = sound_velocity(gamma,M,T1) # [m/s]\n",
    "    Ma = MaNumber(U1,gamma,M,T1)    # [-]\n",
    "    print_separator()\n",
    "    print(\"U1 [m/s] = {0:3f}\".format(U1))\n",
    "    print(\"T1 [K] = {0:3f}\".format(T1))\n",
    "    print(\"p1 [Pa] = {0:3f}\".format(p1))\n",
    "    print(\"rho1 [kg/m3] = {0:3f}\".format(rho1))\n",
    "    print(\"Ma1 = {0:3f}\".format(Ma))\n",
    "    print_separator()\n",
    "    if Ma < 1: \n",
    "        print(\"Subsonic flow, there is no Shock Wave... ending function\")\n",
    "        print_separator()\n",
    "        return False, None, None, None, None, None, None, None\n",
    "    \n",
    "    # BETA solutions for the OSW and testing if there is:\n",
    "    betaWeak,betaStrong,OSWtrue = betaOSW(Ma,theta,gamma) # [deg,deg,bool]\n",
    "    if OSWtrue is False:\n",
    "        print(\"There is no OSW, the angle of the plate is too much inclinated and the shock wave has detached... ending function\")\n",
    "        print_separator()\n",
    "        return OSWtrue, None, None, None, None, None, None, None\n",
    "    \n",
    "    print(\"The weak and strong solutions of beta respectively (deg): [{0} , {1}]\".format(betaWeak,betaStrong))\n",
    "    print(\"In nature, the weak solution is the shock wave that manifests, the solution will proceed with it...\")\n",
    "    \n",
    "    theta = np.deg2rad(theta)   # [rad]\n",
    "    beta = np.deg2rad(betaWeak) # [rad]\n",
    "    \n",
    "    # Computation of the normal_shock wave inside the oblique:\n",
    "    Ma_n = Ma * np.sin(beta)            # [-]\n",
    "    Ma_n2 = MaShockwave(Ma_n,gamma)     # [-]\n",
    "    Ma_2 = Ma_n2 / np.sin(beta-theta)   # [-]\n",
    "    print_separator()\n",
    "    print(\"The resulting Mach after the OSW Ma2 = {0:3f}\".format(Ma_2))\n",
    "    \n",
    "    # Conditions after the OSW (using the normal Mach Ma_n):\n",
    "    p2p1 = p2_p1(Ma_n,gamma)  \n",
    "    t2t1 = T2_T1(Ma_n,gamma)\n",
    "    rho2rho1 = rho2_rho1(Ma_n,gamma)\n",
    "    p2 = p2p1 * p1              # [Pa]\n",
    "    T2 = t2t1 * T1              # [K]\n",
    "    rho2 = rho2rho1 * rho1      # [kg/m3]\n",
    "    # velocity after OSW\n",
    "    c2 = sound_velocity(gamma,M,T2) # [m/s]\n",
    "    U2 = c2 * Ma_2                  # [m/s]\n",
    "    \n",
    "    print_separator()\n",
    "    print(\"U2 [m/s] = {0:3f}\".format(U2))\n",
    "    print(\"T2 [K] = {0:3f}\".format(T2))\n",
    "    print(\"p2 [Pa] = {0:3f}\".format(p2))\n",
    "    print(\"rho2 [kg/m3] = {0:3f}\".format(rho2))\n",
    "    print_separator()\n",
    "    \n",
    "    return OSWtrue, betaWeak, betaStrong, Ma_2, U2, T2, p2, rho2\n",
    "    \n",
    "    "
   ]
  },
  {
   "cell_type": "code",
   "execution_count": 20,
   "id": "55e27927",
   "metadata": {},
   "outputs": [
    {
     "name": "stdout",
     "output_type": "stream",
     "text": [
      "--- --- --- --- --- --- --- --- --- --- --- ---\n",
      "U1 [m/s] = 750.000000\n",
      "T1 [K] = 298.000000\n",
      "p1 [Pa] = 101325.000000\n",
      "rho1 [kg/m3] = 1.184500\n",
      "Ma1 = 2.167238\n",
      "--- --- --- --- --- --- --- --- --- --- --- ---\n",
      "The weak and strong solutions of beta respectively (deg): [41.85251570852257 , 81.31509565567059]\n",
      "In nature, the weak solution is the shock wave that manifests, the solution will proceed with it...\n",
      "--- --- --- --- --- --- --- --- --- --- --- ---\n",
      "The resulting Mach after the OSW Ma2 = 1.596438\n",
      "--- --- --- --- --- --- --- --- --- --- --- ---\n",
      "U2 [m/s] = 626.166768\n",
      "T2 [K] = 382.809610\n",
      "p2 [Pa] = 230289.852757\n",
      "rho2 [kg/m3] = 2.095689\n",
      "--- --- --- --- --- --- --- --- --- --- --- ---\n"
     ]
    }
   ],
   "source": [
    "### TESTING:\n",
    "U1= 750 # [m/s]\n",
    "T1= 298 # [K]\n",
    "p1 = 1*101325 # [Pa]s\n",
    "theta = 15 # [deg]\n",
    "OSWtrue, betaWeak, betaStrong, Ma_2, U2, T2, p2, rho2 = OSWFLOW(U1,T1,p1,theta,gamma=1.4,M=0.0289647)"
   ]
  },
  {
   "cell_type": "code",
   "execution_count": 21,
   "id": "b835a577",
   "metadata": {},
   "outputs": [],
   "source": [
    "# Try requesting help:\n",
    "OSWFLOW?"
   ]
  },
  {
   "cell_type": "code",
   "execution_count": 34,
   "id": "6391deef",
   "metadata": {},
   "outputs": [
    {
     "name": "stdout",
     "output_type": "stream",
     "text": [
      "--- --- --- --- --- --- --- --- --- --- --- ---\n",
      "U1 [m/s] = 2096.500000\n",
      "T1 [K] = 223.250000\n",
      "p1 [Pa] = 26500.000000\n",
      "rho1 [kg/m3] = 0.413513\n",
      "Ma1 = 6.999267\n",
      "--- --- --- --- --- --- --- --- --- --- --- ---\n",
      "The weak and strong solutions of beta respectively (deg): [14.465311439593851 , 88.17859818580617]\n",
      "In nature, the weak solution is the shock wave that manifests, the solution will proceed with it...\n",
      "--- --- --- --- --- --- --- --- --- --- --- ---\n",
      "The resulting Mach after the OSW Ma2 = 5.581443\n",
      "--- --- --- --- --- --- --- --- --- --- --- ---\n",
      "U2 [m/s] = 2043.032215\n",
      "T2 [K] = 333.398922\n",
      "p2 [Pa] = 90089.702453\n",
      "rho2 [kg/m3] = 0.941338\n",
      "--- --- --- --- --- --- --- --- --- --- --- ---\n"
     ]
    }
   ],
   "source": [
    "### TESTING 2:\n",
    "U1= 299.5*7 # [m/s]\n",
    "T1= 223.25 # [K]\n",
    "p1 = 2.65e+4 # [Pa]s\n",
    "theta = 8 # [deg]\n",
    "OSWtrue, betaWeak, betaStrong, Ma_2, U2, T2, p2, rho2 = OSWFLOW(U1,T1,p1,theta,gamma=1.4,M=0.0289647)"
   ]
  },
  {
   "cell_type": "markdown",
   "id": "5ee69c72",
   "metadata": {},
   "source": [
    "---------------------------"
   ]
  },
  {
   "cell_type": "code",
   "execution_count": 35,
   "id": "c72be212",
   "metadata": {},
   "outputs": [
    {
     "name": "stdout",
     "output_type": "stream",
     "text": [
      "Defaulting to user installation because normal site-packages is not writeable\n",
      "Looking in indexes: https://mirrors.ustc.edu.cn/pypi/web/simple\n",
      "Requirement already satisfied: watermark in /home/ferran/.local/lib/python3.10/site-packages (2.3.1)\n",
      "Requirement already satisfied: ipython in /usr/lib/python3/dist-packages (from watermark) (7.31.1)\n"
     ]
    }
   ],
   "source": [
    "try:\n",
    "    %load_ext watermark\n",
    "except:\n",
    "    !pip install watermark\n"
   ]
  },
  {
   "cell_type": "code",
   "execution_count": 36,
   "id": "c327a408",
   "metadata": {},
   "outputs": [
    {
     "name": "stderr",
     "output_type": "stream",
     "text": [
      "UsageError: Line magic function `%watermark` not found.\n"
     ]
    }
   ],
   "source": [
    "%watermark -v -m -iv"
   ]
  },
  {
   "cell_type": "code",
   "execution_count": null,
   "id": "c0bf8471",
   "metadata": {},
   "outputs": [],
   "source": []
  }
 ],
 "metadata": {
  "kernelspec": {
   "display_name": "Python 3 (ipykernel)",
   "language": "python",
   "name": "python3"
  },
  "language_info": {
   "codemirror_mode": {
    "name": "ipython",
    "version": 3
   },
   "file_extension": ".py",
   "mimetype": "text/x-python",
   "name": "python",
   "nbconvert_exporter": "python",
   "pygments_lexer": "ipython3",
   "version": "3.10.6"
  }
 },
 "nbformat": 4,
 "nbformat_minor": 5
}
