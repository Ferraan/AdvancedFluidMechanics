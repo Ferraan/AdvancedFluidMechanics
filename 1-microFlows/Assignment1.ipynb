{
 "cells": [
  {
   "cell_type": "markdown",
   "id": "de72bbf3-f61e-4574-a6c5-23a8e761544c",
   "metadata": {},
   "source": [
    "# Assignment 1. Computation of journal bearing"
   ]
  },
  {
   "cell_type": "markdown",
   "id": "dddfa6fc-5a11-46ae-bea4-5a8262bc04e8",
   "metadata": {},
   "source": [
    "It is possible to use the Reynolds equation to compute de eccentricity and the angle of a journal bearing with fluid film lubrication, given the load $W$\n",
    "\n",
    "![image.png](Journal_bearing1.png)\n",
    "\n",
    "Consider that the journal is displaced in the $x$ negative direction, so that $h(\\theta) = h_0(1+\\varepsilon \\cos(\\theta))$ where $\\varepsilon=\\frac{e}{h_0}$ is the relative eccentricity and $h_0 = \\frac{1}{2}(D_b -D_a)$ is the average gap thickness. The journal is rotating in the positive direction of $\\theta$ (polar coordinates)\n",
    "\n",
    "![image.png](Journal_bearing2.png)\n",
    "\n",
    "1. Calculate the pressure distribution $p(\\theta)$ and the value and direction of $\\mathbf{W}$, in the approximation $\\varepsilon \\ll 1$.\n",
    "2. What happens to the journal if $\\mathbf{W}$ increase a little bit?\n",
    "3. Apply the results to this real [example](https://www.mcmaster.com/6658K738/), and discuss the value of the maximum load given by the manufactures at this rotational velocity.\n",
    "![image.png](McMaster-Carr_JB.png)"
   ]
  },
  {
   "cell_type": "code",
   "execution_count": 47,
   "id": "2dc35a6f-bba9-4d1d-82cf-c39dfdab2c84",
   "metadata": {},
   "outputs": [],
   "source": [
    "import sympy as sp\n",
    "import numpy as np"
   ]
  },
  {
   "cell_type": "code",
   "execution_count": 55,
   "id": "73ce34e0",
   "metadata": {},
   "outputs": [],
   "source": [
    "x,y,t,mu,U,Ub,Ut,h0,epsilon,theta,C,q,R,P_0,omega=sp.symbols('x,y,t,mu,U,Ub,Ut,h0,epsilon,theta,C,q,R,P_0,omega')\n",
    "p=sp.Function('p')\n",
    "p_x=sp.Function('p_x')\n",
    "u=sp.Function('u')\n",
    "h=sp.Function('h')\n"
   ]
  },
  {
   "cell_type": "code",
   "execution_count": 56,
   "id": "58eab51e",
   "metadata": {},
   "outputs": [
    {
     "data": {
      "text/latex": [
       "$\\displaystyle \\frac{d}{d x} p{\\left(x \\right)} = \\frac{6 \\mu \\left(U h{\\left(x \\right)} - 2 q\\right)}{h^{3}{\\left(x \\right)}}$"
      ],
      "text/plain": [
       "Eq(Derivative(p(x), x), 6*mu*(U*h(x) - 2*q)/h(x)**3)"
      ]
     },
     "metadata": {},
     "output_type": "display_data"
    }
   ],
   "source": [
    "p_eq=sp.Eq(sp.diff(p(x),x),(6*mu*(U*h(x)-2*q))/h(x)**3)\n",
    "display(p_eq)"
   ]
  },
  {
   "cell_type": "code",
   "execution_count": 57,
   "id": "8fe8524c",
   "metadata": {},
   "outputs": [
    {
     "data": {
      "text/latex": [
       "$\\displaystyle \\frac{d}{d \\theta} p{\\left(\\theta \\right)} = \\frac{6 R \\mu \\left(U h{\\left(\\theta \\right)} - 2 q\\right)}{h^{3}{\\left(\\theta \\right)}}$"
      ],
      "text/plain": [
       "Eq(Derivative(p(theta), theta), 6*R*mu*(U*h(theta) - 2*q)/h(theta)**3)"
      ]
     },
     "metadata": {},
     "output_type": "display_data"
    }
   ],
   "source": [
    "p_eq_cil=sp.Eq(sp.diff(p(theta),theta),R*(6*mu*(U*h(theta)-2*q))/h(theta)**3)\n",
    "display(p_eq_cil)"
   ]
  },
  {
   "cell_type": "code",
   "execution_count": 58,
   "id": "9e8be981",
   "metadata": {},
   "outputs": [
    {
     "data": {
      "text/latex": [
       "$\\displaystyle \\frac{d}{d \\theta} p{\\left(\\theta \\right)} = \\frac{6 R \\mu \\left(R h_{0} \\omega - 2 q\\right)}{h_{0}^{3}}$"
      ],
      "text/plain": [
       "Eq(Derivative(p(theta), theta), 6*R*mu*(R*h0*omega - 2*q)/h0**3)"
      ]
     },
     "metadata": {},
     "output_type": "display_data"
    }
   ],
   "source": [
    "p_eq_cil=p_eq_cil.replace(h(theta),h0)\n",
    "p_eq_cil=p_eq_cil.replace(U,omega*R)\n",
    "display(p_eq_cil)"
   ]
  },
  {
   "cell_type": "code",
   "execution_count": 59,
   "id": "7278fd0f",
   "metadata": {},
   "outputs": [
    {
     "data": {
      "text/latex": [
       "$\\displaystyle p{\\left(\\theta \\right)} = P_{0} + \\frac{6 R \\mu \\theta \\left(R h_{0} \\omega - 2 q\\right)}{h_{0}^{3}}$"
      ],
      "text/plain": [
       "Eq(p(theta), P_0 + 6*R*mu*theta*(R*h0*omega - 2*q)/h0**3)"
      ]
     },
     "metadata": {},
     "output_type": "display_data"
    }
   ],
   "source": [
    "p_sol=sp.dsolve(p_eq_cil,p(theta),ics={p(0):P_0})\n",
    "display(p_sol)"
   ]
  },
  {
   "cell_type": "code",
   "execution_count": 44,
   "id": "5aec85d1",
   "metadata": {},
   "outputs": [
    {
     "data": {
      "text/latex": [
       "$\\displaystyle \\frac{1}{h_{0}^{2} \\left(\\epsilon \\cos{\\left(\\theta \\right)} + 1\\right)^{2}}$"
      ],
      "text/plain": [
       "1/(h0**2*(epsilon*cos(theta) + 1)**2)"
      ]
     },
     "metadata": {},
     "output_type": "display_data"
    }
   ],
   "source": [
    "I1=1/(h0*(1+epsilon*sp.cos(theta)))**2\n",
    "display(I1)"
   ]
  },
  {
   "cell_type": "code",
   "execution_count": 46,
   "id": "be348e09",
   "metadata": {},
   "outputs": [
    {
     "ename": "KeyboardInterrupt",
     "evalue": "",
     "output_type": "error",
     "traceback": [
      "\u001b[0;31m---------------------------------------------------------------------------\u001b[0m",
      "\u001b[0;31mKeyboardInterrupt\u001b[0m                         Traceback (most recent call last)",
      "Cell \u001b[0;32mIn[46], line 1\u001b[0m\n\u001b[0;32m----> 1\u001b[0m I1\u001b[38;5;241m=\u001b[39m\u001b[43mI1\u001b[49m\u001b[38;5;241;43m.\u001b[39;49m\u001b[43mintegrate\u001b[49m\u001b[43m(\u001b[49m\u001b[43mtheta\u001b[49m\u001b[43m)\u001b[49m\n",
      "File \u001b[0;32m~/.local/lib/python3.8/site-packages/sympy/core/expr.py:3492\u001b[0m, in \u001b[0;36mExpr.integrate\u001b[0;34m(self, *args, **kwargs)\u001b[0m\n\u001b[1;32m   3490\u001b[0m \u001b[38;5;250m\u001b[39m\u001b[38;5;124;03m\"\"\"See the integrate function in sympy.integrals\"\"\"\u001b[39;00m\n\u001b[1;32m   3491\u001b[0m \u001b[38;5;28;01mfrom\u001b[39;00m \u001b[38;5;21;01msympy\u001b[39;00m\u001b[38;5;21;01m.\u001b[39;00m\u001b[38;5;21;01mintegrals\u001b[39;00m \u001b[38;5;28;01mimport\u001b[39;00m integrate\n\u001b[0;32m-> 3492\u001b[0m \u001b[38;5;28;01mreturn\u001b[39;00m \u001b[43mintegrate\u001b[49m\u001b[43m(\u001b[49m\u001b[38;5;28;43mself\u001b[39;49m\u001b[43m,\u001b[49m\u001b[43m \u001b[49m\u001b[38;5;241;43m*\u001b[39;49m\u001b[43margs\u001b[49m\u001b[43m,\u001b[49m\u001b[43m \u001b[49m\u001b[38;5;241;43m*\u001b[39;49m\u001b[38;5;241;43m*\u001b[39;49m\u001b[43mkwargs\u001b[49m\u001b[43m)\u001b[49m\n",
      "File \u001b[0;32m~/.local/lib/python3.8/site-packages/sympy/integrals/integrals.py:1522\u001b[0m, in \u001b[0;36mintegrate\u001b[0;34m(*args, **kwargs)\u001b[0m\n\u001b[1;32m   1519\u001b[0m integral \u001b[38;5;241m=\u001b[39m Integral(\u001b[38;5;241m*\u001b[39margs, \u001b[38;5;241m*\u001b[39m\u001b[38;5;241m*\u001b[39mkwargs)\n\u001b[1;32m   1521\u001b[0m \u001b[38;5;28;01mif\u001b[39;00m \u001b[38;5;28misinstance\u001b[39m(integral, Integral):\n\u001b[0;32m-> 1522\u001b[0m     \u001b[38;5;28;01mreturn\u001b[39;00m \u001b[43mintegral\u001b[49m\u001b[38;5;241;43m.\u001b[39;49m\u001b[43mdoit\u001b[49m\u001b[43m(\u001b[49m\u001b[38;5;241;43m*\u001b[39;49m\u001b[38;5;241;43m*\u001b[39;49m\u001b[43mdoit_flags\u001b[49m\u001b[43m)\u001b[49m\n\u001b[1;32m   1523\u001b[0m \u001b[38;5;28;01melse\u001b[39;00m:\n\u001b[1;32m   1524\u001b[0m     new_args \u001b[38;5;241m=\u001b[39m [a\u001b[38;5;241m.\u001b[39mdoit(\u001b[38;5;241m*\u001b[39m\u001b[38;5;241m*\u001b[39mdoit_flags) \u001b[38;5;28;01mif\u001b[39;00m \u001b[38;5;28misinstance\u001b[39m(a, Integral) \u001b[38;5;28;01melse\u001b[39;00m a\n\u001b[1;32m   1525\u001b[0m         \u001b[38;5;28;01mfor\u001b[39;00m a \u001b[38;5;129;01min\u001b[39;00m integral\u001b[38;5;241m.\u001b[39margs]\n",
      "File \u001b[0;32m~/.local/lib/python3.8/site-packages/sympy/integrals/integrals.py:575\u001b[0m, in \u001b[0;36mIntegral.doit\u001b[0;34m(self, **hints)\u001b[0m\n\u001b[1;32m    573\u001b[0m     antideriv \u001b[38;5;241m=\u001b[39m \u001b[38;5;28;01mNone\u001b[39;00m\n\u001b[1;32m    574\u001b[0m \u001b[38;5;28;01melse\u001b[39;00m:\n\u001b[0;32m--> 575\u001b[0m     antideriv \u001b[38;5;241m=\u001b[39m \u001b[38;5;28;43mself\u001b[39;49m\u001b[38;5;241;43m.\u001b[39;49m\u001b[43m_eval_integral\u001b[49m\u001b[43m(\u001b[49m\n\u001b[1;32m    576\u001b[0m \u001b[43m        \u001b[49m\u001b[43mfunction\u001b[49m\u001b[43m,\u001b[49m\u001b[43m \u001b[49m\u001b[43mxab\u001b[49m\u001b[43m[\u001b[49m\u001b[38;5;241;43m0\u001b[39;49m\u001b[43m]\u001b[49m\u001b[43m,\u001b[49m\u001b[43m \u001b[49m\u001b[38;5;241;43m*\u001b[39;49m\u001b[38;5;241;43m*\u001b[39;49m\u001b[43meval_kwargs\u001b[49m\u001b[43m)\u001b[49m\n\u001b[1;32m    577\u001b[0m     \u001b[38;5;28;01mif\u001b[39;00m antideriv \u001b[38;5;129;01mis\u001b[39;00m \u001b[38;5;28;01mNone\u001b[39;00m \u001b[38;5;129;01mand\u001b[39;00m meijerg \u001b[38;5;129;01mis\u001b[39;00m \u001b[38;5;28;01mTrue\u001b[39;00m:\n\u001b[1;32m    578\u001b[0m         ret \u001b[38;5;241m=\u001b[39m try_meijerg(function, xab)\n",
      "File \u001b[0;32m~/.local/lib/python3.8/site-packages/sympy/integrals/integrals.py:1032\u001b[0m, in \u001b[0;36mIntegral._eval_integral\u001b[0;34m(self, f, x, meijerg, risch, manual, heurisch, conds)\u001b[0m\n\u001b[1;32m   1030\u001b[0m \u001b[38;5;28;01mtry\u001b[39;00m:\n\u001b[1;32m   1031\u001b[0m     \u001b[38;5;28;01mif\u001b[39;00m conds \u001b[38;5;241m==\u001b[39m \u001b[38;5;124m'\u001b[39m\u001b[38;5;124mpiecewise\u001b[39m\u001b[38;5;124m'\u001b[39m:\n\u001b[0;32m-> 1032\u001b[0m         h \u001b[38;5;241m=\u001b[39m \u001b[43mheurisch_wrapper\u001b[49m\u001b[43m(\u001b[49m\u001b[43mg\u001b[49m\u001b[43m,\u001b[49m\u001b[43m \u001b[49m\u001b[43mx\u001b[49m\u001b[43m,\u001b[49m\u001b[43m \u001b[49m\u001b[43mhints\u001b[49m\u001b[38;5;241;43m=\u001b[39;49m\u001b[43m[\u001b[49m\u001b[43m]\u001b[49m\u001b[43m)\u001b[49m\n\u001b[1;32m   1033\u001b[0m     \u001b[38;5;28;01melse\u001b[39;00m:\n\u001b[1;32m   1034\u001b[0m         h \u001b[38;5;241m=\u001b[39m heurisch_(g, x, hints\u001b[38;5;241m=\u001b[39m[])\n",
      "File \u001b[0;32m~/.local/lib/python3.8/site-packages/sympy/integrals/heurisch.py:169\u001b[0m, in \u001b[0;36mheurisch_wrapper\u001b[0;34m(f, x, rewrite, hints, mappings, retries, degree_offset, unnecessary_permutations, _try_heurisch)\u001b[0m\n\u001b[1;32m    167\u001b[0m pairs \u001b[38;5;241m=\u001b[39m []\n\u001b[1;32m    168\u001b[0m \u001b[38;5;28;01mfor\u001b[39;00m sub_dict \u001b[38;5;129;01min\u001b[39;00m slns:\n\u001b[0;32m--> 169\u001b[0m     expr \u001b[38;5;241m=\u001b[39m \u001b[43mheurisch\u001b[49m\u001b[43m(\u001b[49m\u001b[43mf\u001b[49m\u001b[38;5;241;43m.\u001b[39;49m\u001b[43msubs\u001b[49m\u001b[43m(\u001b[49m\u001b[43msub_dict\u001b[49m\u001b[43m)\u001b[49m\u001b[43m,\u001b[49m\u001b[43m \u001b[49m\u001b[43mx\u001b[49m\u001b[43m,\u001b[49m\u001b[43m \u001b[49m\u001b[43mrewrite\u001b[49m\u001b[43m,\u001b[49m\u001b[43m \u001b[49m\u001b[43mhints\u001b[49m\u001b[43m,\u001b[49m\u001b[43m \u001b[49m\u001b[43mmappings\u001b[49m\u001b[43m,\u001b[49m\u001b[43m \u001b[49m\u001b[43mretries\u001b[49m\u001b[43m,\u001b[49m\n\u001b[1;32m    170\u001b[0m \u001b[43m                    \u001b[49m\u001b[43mdegree_offset\u001b[49m\u001b[43m,\u001b[49m\u001b[43m \u001b[49m\u001b[43munnecessary_permutations\u001b[49m\u001b[43m,\u001b[49m\n\u001b[1;32m    171\u001b[0m \u001b[43m                    \u001b[49m\u001b[43m_try_heurisch\u001b[49m\u001b[43m)\u001b[49m\n\u001b[1;32m    172\u001b[0m     cond \u001b[38;5;241m=\u001b[39m And(\u001b[38;5;241m*\u001b[39m[Eq(key, value) \u001b[38;5;28;01mfor\u001b[39;00m key, value \u001b[38;5;129;01min\u001b[39;00m sub_dict\u001b[38;5;241m.\u001b[39mitems()])\n\u001b[1;32m    173\u001b[0m     generic \u001b[38;5;241m=\u001b[39m Or(\u001b[38;5;241m*\u001b[39m[Ne(key, value) \u001b[38;5;28;01mfor\u001b[39;00m key, value \u001b[38;5;129;01min\u001b[39;00m sub_dict\u001b[38;5;241m.\u001b[39mitems()])\n",
      "File \u001b[0;32m~/.local/lib/python3.8/site-packages/sympy/integrals/heurisch.py:718\u001b[0m, in \u001b[0;36mheurisch\u001b[0;34m(f, x, rewrite, hints, mappings, retries, degree_offset, unnecessary_permutations, _try_heurisch)\u001b[0m\n\u001b[1;32m    714\u001b[0m         \u001b[38;5;28;01mreturn\u001b[39;00m candidate\u001b[38;5;241m.\u001b[39msubs(solution)\u001b[38;5;241m.\u001b[39msubs(\n\u001b[1;32m    715\u001b[0m             \u001b[38;5;28mlist\u001b[39m(\u001b[38;5;28mzip\u001b[39m(poly_coeffs, [S\u001b[38;5;241m.\u001b[39mZero]\u001b[38;5;241m*\u001b[39m\u001b[38;5;28mlen\u001b[39m(poly_coeffs))))\n\u001b[1;32m    717\u001b[0m \u001b[38;5;28;01mif\u001b[39;00m \u001b[38;5;129;01mnot\u001b[39;00m (F\u001b[38;5;241m.\u001b[39mfree_symbols \u001b[38;5;241m-\u001b[39m \u001b[38;5;28mset\u001b[39m(V)):\n\u001b[0;32m--> 718\u001b[0m     solution \u001b[38;5;241m=\u001b[39m \u001b[43m_integrate\u001b[49m\u001b[43m(\u001b[49m\u001b[38;5;124;43m'\u001b[39;49m\u001b[38;5;124;43mQ\u001b[39;49m\u001b[38;5;124;43m'\u001b[39;49m\u001b[43m)\u001b[49m\n\u001b[1;32m    720\u001b[0m     \u001b[38;5;28;01mif\u001b[39;00m solution \u001b[38;5;129;01mis\u001b[39;00m \u001b[38;5;28;01mNone\u001b[39;00m:\n\u001b[1;32m    721\u001b[0m         solution \u001b[38;5;241m=\u001b[39m _integrate()\n",
      "File \u001b[0;32m~/.local/lib/python3.8/site-packages/sympy/integrals/heurisch.py:709\u001b[0m, in \u001b[0;36mheurisch.<locals>._integrate\u001b[0;34m(field)\u001b[0m\n\u001b[1;32m    707\u001b[0m \u001b[38;5;28;01mexcept\u001b[39;00m \u001b[38;5;167;01mValueError\u001b[39;00m:\n\u001b[1;32m    708\u001b[0m     \u001b[38;5;28;01mraise\u001b[39;00m PolynomialError\n\u001b[0;32m--> 709\u001b[0m solution \u001b[38;5;241m=\u001b[39m \u001b[43msolve_lin_sys\u001b[49m\u001b[43m(\u001b[49m\u001b[43mnumer\u001b[49m\u001b[38;5;241;43m.\u001b[39;49m\u001b[43mcoeffs\u001b[49m\u001b[43m(\u001b[49m\u001b[43m)\u001b[49m\u001b[43m,\u001b[49m\u001b[43m \u001b[49m\u001b[43mcoeff_ring\u001b[49m\u001b[43m,\u001b[49m\u001b[43m \u001b[49m\u001b[43m_raw\u001b[49m\u001b[38;5;241;43m=\u001b[39;49m\u001b[38;5;28;43;01mFalse\u001b[39;49;00m\u001b[43m)\u001b[49m\n\u001b[1;32m    711\u001b[0m \u001b[38;5;28;01mif\u001b[39;00m solution \u001b[38;5;129;01mis\u001b[39;00m \u001b[38;5;28;01mNone\u001b[39;00m:\n\u001b[1;32m    712\u001b[0m     \u001b[38;5;28;01mreturn\u001b[39;00m \u001b[38;5;28;01mNone\u001b[39;00m\n",
      "File \u001b[0;32m~/.local/lib/python3.8/site-packages/sympy/polys/solvers.py:38\u001b[0m, in \u001b[0;36msolve_lin_sys\u001b[0;34m(eqs, ring, _raw)\u001b[0m\n\u001b[1;32m     35\u001b[0m matrix \u001b[38;5;241m=\u001b[39m eqs_to_matrix(eqs, ring)\n\u001b[1;32m     37\u001b[0m \u001b[38;5;66;03m# solve by row-reduction\u001b[39;00m\n\u001b[0;32m---> 38\u001b[0m echelon, pivots \u001b[38;5;241m=\u001b[39m \u001b[43mmatrix\u001b[49m\u001b[38;5;241;43m.\u001b[39;49m\u001b[43mrref\u001b[49m\u001b[43m(\u001b[49m\u001b[43miszerofunc\u001b[49m\u001b[38;5;241;43m=\u001b[39;49m\u001b[38;5;28;43;01mlambda\u001b[39;49;00m\u001b[43m \u001b[49m\u001b[43mx\u001b[49m\u001b[43m:\u001b[49m\u001b[43m \u001b[49m\u001b[38;5;129;43;01mnot\u001b[39;49;00m\u001b[43m \u001b[49m\u001b[43mx\u001b[49m\u001b[43m,\u001b[49m\u001b[43m \u001b[49m\u001b[43msimplify\u001b[49m\u001b[38;5;241;43m=\u001b[39;49m\u001b[38;5;28;43;01mlambda\u001b[39;49;00m\u001b[43m \u001b[49m\u001b[43mx\u001b[49m\u001b[43m:\u001b[49m\u001b[43m \u001b[49m\u001b[43mx\u001b[49m\u001b[43m)\u001b[49m\n\u001b[1;32m     40\u001b[0m \u001b[38;5;66;03m# construct the returnable form of the solutions\u001b[39;00m\n\u001b[1;32m     41\u001b[0m keys \u001b[38;5;241m=\u001b[39m ring\u001b[38;5;241m.\u001b[39msymbols \u001b[38;5;28;01mif\u001b[39;00m as_expr \u001b[38;5;28;01melse\u001b[39;00m ring\u001b[38;5;241m.\u001b[39mgens\n",
      "File \u001b[0;32m~/.local/lib/python3.8/site-packages/sympy/matrices/matrices.py:941\u001b[0m, in \u001b[0;36mMatrixReductions.rref\u001b[0;34m(self, iszerofunc, simplify, pivots, normalize_last)\u001b[0m\n\u001b[1;32m    888\u001b[0m \u001b[38;5;250m\u001b[39m\u001b[38;5;124;03m\"\"\"Return reduced row-echelon form of matrix and indices of pivot vars.\u001b[39;00m\n\u001b[1;32m    889\u001b[0m \n\u001b[1;32m    890\u001b[0m \u001b[38;5;124;03mParameters\u001b[39;00m\n\u001b[0;32m   (...)\u001b[0m\n\u001b[1;32m    936\u001b[0m \u001b[38;5;124;03m(0, 1)\u001b[39;00m\n\u001b[1;32m    937\u001b[0m \u001b[38;5;124;03m\"\"\"\u001b[39;00m\n\u001b[1;32m    938\u001b[0m simpfunc \u001b[38;5;241m=\u001b[39m simplify \u001b[38;5;28;01mif\u001b[39;00m \u001b[38;5;28misinstance\u001b[39m(\n\u001b[1;32m    939\u001b[0m     simplify, FunctionType) \u001b[38;5;28;01melse\u001b[39;00m _simplify\n\u001b[0;32m--> 941\u001b[0m ret, pivot_cols \u001b[38;5;241m=\u001b[39m \u001b[38;5;28;43mself\u001b[39;49m\u001b[38;5;241;43m.\u001b[39;49m\u001b[43m_eval_rref\u001b[49m\u001b[43m(\u001b[49m\u001b[43miszerofunc\u001b[49m\u001b[38;5;241;43m=\u001b[39;49m\u001b[43miszerofunc\u001b[49m\u001b[43m,\u001b[49m\n\u001b[1;32m    942\u001b[0m \u001b[43m                                  \u001b[49m\u001b[43msimpfunc\u001b[49m\u001b[38;5;241;43m=\u001b[39;49m\u001b[43msimpfunc\u001b[49m\u001b[43m,\u001b[49m\n\u001b[1;32m    943\u001b[0m \u001b[43m                                  \u001b[49m\u001b[43mnormalize_last\u001b[49m\u001b[38;5;241;43m=\u001b[39;49m\u001b[43mnormalize_last\u001b[49m\u001b[43m)\u001b[49m\n\u001b[1;32m    944\u001b[0m \u001b[38;5;28;01mif\u001b[39;00m pivots:\n\u001b[1;32m    945\u001b[0m     ret \u001b[38;5;241m=\u001b[39m (ret, pivot_cols)\n",
      "File \u001b[0;32m~/.local/lib/python3.8/site-packages/sympy/matrices/matrices.py:593\u001b[0m, in \u001b[0;36mMatrixReductions._eval_rref\u001b[0;34m(self, iszerofunc, simpfunc, normalize_last)\u001b[0m\n\u001b[1;32m    592\u001b[0m \u001b[38;5;28;01mdef\u001b[39;00m \u001b[38;5;21m_eval_rref\u001b[39m(\u001b[38;5;28mself\u001b[39m, iszerofunc, simpfunc, normalize_last\u001b[38;5;241m=\u001b[39m\u001b[38;5;28;01mTrue\u001b[39;00m):\n\u001b[0;32m--> 593\u001b[0m     reduced, pivot_cols, swaps \u001b[38;5;241m=\u001b[39m \u001b[38;5;28;43mself\u001b[39;49m\u001b[38;5;241;43m.\u001b[39;49m\u001b[43m_row_reduce\u001b[49m\u001b[43m(\u001b[49m\u001b[43miszerofunc\u001b[49m\u001b[43m,\u001b[49m\u001b[43m \u001b[49m\u001b[43msimpfunc\u001b[49m\u001b[43m,\u001b[49m\n\u001b[1;32m    594\u001b[0m \u001b[43m                                                  \u001b[49m\u001b[43mnormalize_last\u001b[49m\u001b[43m,\u001b[49m\u001b[43m \u001b[49m\u001b[43mnormalize\u001b[49m\u001b[38;5;241;43m=\u001b[39;49m\u001b[38;5;28;43;01mTrue\u001b[39;49;00m\u001b[43m,\u001b[49m\n\u001b[1;32m    595\u001b[0m \u001b[43m                                                  \u001b[49m\u001b[43mzero_above\u001b[49m\u001b[38;5;241;43m=\u001b[39;49m\u001b[38;5;28;43;01mTrue\u001b[39;49;00m\u001b[43m)\u001b[49m\n\u001b[1;32m    596\u001b[0m     \u001b[38;5;28;01mreturn\u001b[39;00m reduced, pivot_cols\n",
      "File \u001b[0;32m~/.local/lib/python3.8/site-packages/sympy/matrices/matrices.py:754\u001b[0m, in \u001b[0;36mMatrixReductions._row_reduce\u001b[0;34m(self, iszerofunc, simpfunc, normalize_last, normalize, zero_above)\u001b[0m\n\u001b[1;32m    751\u001b[0m         \u001b[38;5;28;01mif\u001b[39;00m iszerofunc(val):\n\u001b[1;32m    752\u001b[0m             \u001b[38;5;28;01mcontinue\u001b[39;00m\n\u001b[0;32m--> 754\u001b[0m         \u001b[43mcross_cancel\u001b[49m\u001b[43m(\u001b[49m\u001b[43mpivot_val\u001b[49m\u001b[43m,\u001b[49m\u001b[43m \u001b[49m\u001b[43mrow\u001b[49m\u001b[43m,\u001b[49m\u001b[43m \u001b[49m\u001b[43mval\u001b[49m\u001b[43m,\u001b[49m\u001b[43m \u001b[49m\u001b[43mpiv_row\u001b[49m\u001b[43m)\u001b[49m\n\u001b[1;32m    755\u001b[0m     piv_row \u001b[38;5;241m+\u001b[39m\u001b[38;5;241m=\u001b[39m \u001b[38;5;241m1\u001b[39m\n\u001b[1;32m    757\u001b[0m \u001b[38;5;66;03m# normalize each row\u001b[39;00m\n",
      "File \u001b[0;32m~/.local/lib/python3.8/site-packages/sympy/matrices/matrices.py:705\u001b[0m, in \u001b[0;36mMatrixReductions._row_reduce.<locals>.cross_cancel\u001b[0;34m(a, i, b, j)\u001b[0m\n\u001b[1;32m    703\u001b[0m q \u001b[38;5;241m=\u001b[39m (j \u001b[38;5;241m-\u001b[39m i)\u001b[38;5;241m*\u001b[39mcols\n\u001b[1;32m    704\u001b[0m \u001b[38;5;28;01mfor\u001b[39;00m p \u001b[38;5;129;01min\u001b[39;00m \u001b[38;5;28mrange\u001b[39m(i\u001b[38;5;241m*\u001b[39mcols, (i \u001b[38;5;241m+\u001b[39m \u001b[38;5;241m1\u001b[39m)\u001b[38;5;241m*\u001b[39mcols):\n\u001b[0;32m--> 705\u001b[0m     mat[p] \u001b[38;5;241m=\u001b[39m a\u001b[38;5;241m*\u001b[39m\u001b[43mmat\u001b[49m\u001b[43m[\u001b[49m\u001b[43mp\u001b[49m\u001b[43m]\u001b[49m \u001b[38;5;241m-\u001b[39m b\u001b[38;5;241m*\u001b[39mmat[p \u001b[38;5;241m+\u001b[39m q]\n",
      "\u001b[0;31mKeyboardInterrupt\u001b[0m: "
     ]
    }
   ],
   "source": [
    "I1=I1.integrate(theta)"
   ]
  },
  {
   "cell_type": "code",
   "execution_count": null,
   "id": "b1bc8a1b",
   "metadata": {},
   "outputs": [],
   "source": []
  }
 ],
 "metadata": {
  "kernelspec": {
   "display_name": "Python 3 (ipykernel)",
   "language": "python",
   "name": "python3"
  },
  "language_info": {
   "codemirror_mode": {
    "name": "ipython",
    "version": 3
   },
   "file_extension": ".py",
   "mimetype": "text/x-python",
   "name": "python",
   "nbconvert_exporter": "python",
   "pygments_lexer": "ipython3",
   "version": "3.8.10"
  }
 },
 "nbformat": 4,
 "nbformat_minor": 5
}
