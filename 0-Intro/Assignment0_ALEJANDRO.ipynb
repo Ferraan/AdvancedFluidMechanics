{
 "cells": [
  {
   "cell_type": "markdown",
   "id": "76c8030b-1f59-413d-836c-c73319301013",
   "metadata": {},
   "source": [
    "# Assignment 0: Conical tank emptying time\n",
    "\n",
    "Let's calculate how long it takes to [empty a conical tank](https://www.youtube.com/watch?v=2jQ1jA8uJuU)\n",
    "\n",
    "The simplification of the continuity equation leads, for a generic $h$, to\n",
    "\n",
    "$$\n",
    "u_1 D_h^2 = u_1 \\left(d + 2h \\tan \\theta \\right)^2 = u_2 d^2 \\tag{1}\n",
    "$$\n",
    "\n",
    "$$\n",
    "\\Rightarrow \\; u_2 = u_1\\left(1 + 2\\frac{h}{d} \\tan \\theta \\right)^2 \\tag{2}\n",
    "$$\n",
    "\n",
    "On the other hand, Bernoulli's equation, considering quasi-steady flow and without viscosity,\n",
    "\n",
    "$$\n",
    "u_1^2 + 2gh = u_2^2 = u_1^2 \\left(1 + 2\\frac{h}{d} \\tan \\theta \\right)^4 \\tag{3}\n",
    "$$\n",
    "\n",
    "$$\n",
    "\\Rightarrow \\; u_1^2 \\left[ \\left(1 + 2\\frac{h}{d} \\tan \\theta \\right)^4 -1 \\right] = 2gh \\tag{4}\n",
    "$$\n",
    "\n",
    "$$\n",
    "\\Rightarrow \\; u_1 = \\left[ \\frac{2gh}{\\left(1 + 2\\frac{h}{d} \\tan \\theta \\right)^4 -1} \\right]^\\frac{1}{2} = -\\frac{\\textrm{d} h}{\\textrm{d} t} \\tag{5}\n",
    "$$\n",
    "\n",
    "$$\n",
    "\\Rightarrow \\; \\boxed{dt = - \\left[ \\frac{\\left(1 + 2\\frac{h}{d} \\tan \\theta \\right)^4 -1}{2gh}\\right]^\\frac{1} {2} \\textrm{d} h} \\label{eq:int} \\tag{6}\n",
    "$$\n",
    "\n",
    "This can be written dimensionless with a time characteristic $\\tau = \\sqrt{\\frac{d}{2g}}$, a change to dimensionless variable $\\xi = \\frac{h}{d}$, and a parameter $A = 2\\tan \\theta$, becoming\n",
    "\n",
    "$$\n",
    "\\frac{\\textrm{d} t}{\\tau} = - \\left[ \\frac{\\left(1 + A \\xi \\right)^4 -1}{\\xi}\\right]^\\frac{1 }{2} \\textrm{d} \\xi \\tag{7}\n",
    "$$\n",
    "\n",
    "Use sympy to analytically compute this time, making an estimation with  $d \\ll h$ so that it can be supposed that  $\\xi \\gg 1$."
   ]
  },
  {
   "cell_type": "markdown",
   "id": "6bd53a86-bacc-4d34-a841-b1d1033cf710",
   "metadata": {},
   "source": [
    "## Solution"
   ]
  },
  {
   "cell_type": "markdown",
   "id": "a677f0fc-e4af-4f87-abd7-80cefe002d60",
   "metadata": {},
   "source": [
    "First of all, the `sympy` library is imported. If it fails to do so, the `sympy` library is installed in its 1.7.1 version."
   ]
  },
  {
   "cell_type": "code",
   "execution_count": 1,
   "id": "00fed288-84ff-432e-8f1e-7c8ca8bf739d",
   "metadata": {
    "tags": []
   },
   "outputs": [],
   "source": [
    "try:\n",
    "    import sympy as sp\n",
    "except:\n",
    "    !pip install sympy==1.7.1\n",
    "    import sympy as sp"
   ]
  },
  {
   "cell_type": "markdown",
   "id": "a5cb5430-6ac1-428a-b6a6-77341b279d73",
   "metadata": {},
   "source": [
    "Next, the estimation $d \\ll h$ that leads to $\\xi \\gg 1$ is applied to Equation `7`:\n",
    "$$\n",
    "(1+A\\xi)^4-1\\hspace{0.5cm}\\rightarrow\\hspace{0.5cm}(1+A\\xi)^4\n",
    "$$"
   ]
  },
  {
   "cell_type": "markdown",
   "id": "b830d8a7-fed3-4681-817f-df712416e11c",
   "metadata": {},
   "source": [
    "With that, the differential equation to be solved is the following:\n",
    "$$\n",
    "\\frac{\\textrm{d} t}{\\tau} = - \\left[ \\frac{\\left(1 + A \\xi \\right)^4 }{\\xi}\\right]^\\frac{1 }{2} \\textrm{d} \\xi \\tag{8}\n",
    "$$"
   ]
  },
  {
   "cell_type": "markdown",
   "id": "49827295-af0e-4a6d-aef2-2ea3c806a3f2",
   "metadata": {},
   "source": [
    "Solving for the time needed to empty the conical tank $t_{empty}$:\n",
    "$$\n",
    "t_{empty} = \\int_0^{t_{empty}} \\textrm{d}t = -\\tau\\int_{\\xi_i}^{\\xi_f}\\left[ \\frac{\\left(1 + A \\xi \\right)^4 }{\\xi}\\right]^\\frac{1 }{2} \\textrm{d} \\xi \\tag{9}\n",
    "$$"
   ]
  },
  {
   "cell_type": "markdown",
   "id": "216846e7-1d67-45c6-a48d-481a01d1ff9a",
   "metadata": {
    "tags": []
   },
   "source": [
    "Where at $t=0$ the initial condition is $\\xi_i = \\frac{h_i}{d}$, and at the end ($t=t_{empty}$) the final condition is $\\xi_f = \\frac{h_f}{d} = \\frac{0}{d} = 0$."
   ]
  },
  {
   "cell_type": "markdown",
   "id": "ad139a02-b37c-4997-b51f-f0d59f00740b",
   "metadata": {
    "tags": []
   },
   "source": [
    "The integral of the right-hand side of Equation `9` can be solved analytically using `sympy`.\n",
    "\n",
    "First of all, the symbols to be used are declared:"
   ]
  },
  {
   "cell_type": "code",
   "execution_count": 2,
   "id": "3bc1f2f9-8202-4735-badc-a8d8a086f2c5",
   "metadata": {
    "tags": []
   },
   "outputs": [],
   "source": [
    "sp.init_printing()\n",
    "xi,A,xii,xif,tau,tempty = sp.symbols('xi,A,xi_i,xi_f,tau,t_{empty}',positive=True,real=True)"
   ]
  },
  {
   "cell_type": "markdown",
   "id": "b1c8fed1-4383-4bc1-ba26-82a97499e445",
   "metadata": {},
   "source": [
    "Then, the expression to integrate is defined:"
   ]
  },
  {
   "cell_type": "code",
   "execution_count": 3,
   "id": "d76e187e-8153-45cd-ac2e-7df25e005f8b",
   "metadata": {
    "tags": []
   },
   "outputs": [
    {
     "data": {
      "image/png": "[encoded data removed]",
      "text/latex": [
       "$\\displaystyle \\frac{\\left(A \\xi + 1\\right)^{2}}{\\sqrt{\\xi}}$"
      ],
      "text/plain": [
       "         2\n",
       "(A⋅ξ + 1) \n",
       "──────────\n",
       "    √ξ    "
      ]
     },
     "metadata": {},
     "output_type": "display_data"
    }
   ],
   "source": [
    "expr = sp.sqrt((1+A*xi)**4/xi)\n",
    "display(expr)"
   ]
  },
  {
   "cell_type": "markdown",
   "id": "7fbb16e1-bed5-4155-8523-d1d118b84d3a",
   "metadata": {},
   "source": [
    "And finally, the expression is integrated from $\\xi_i$ to $\\xi_f$:"
   ]
  },
  {
   "cell_type": "code",
   "execution_count": 4,
   "id": "eadad0a3-3670-47fb-ab7e-2ce1424fa312",
   "metadata": {
    "tags": []
   },
   "outputs": [
    {
     "data": {
      "image/png": "[encoded data removed]",
      "text/latex": [
       "$\\displaystyle \\frac{2 A^{2} \\xi_{f}^{\\frac{5}{2}}}{5} - \\frac{2 A^{2} \\xi_{i}^{\\frac{5}{2}}}{5} + \\frac{4 A \\xi_{f}^{\\frac{3}{2}}}{3} - \\frac{4 A \\xi_{i}^{\\frac{3}{2}}}{3} + 2 \\sqrt{\\xi_{f}} - 2 \\sqrt{\\xi_{i}}$"
      ],
      "text/plain": [
       "   2    5/2      2   5/2          3/2         3/2                       \n",
       "2⋅A ⋅ξ_f      2⋅A ⋅ξᵢ      4⋅A⋅ξ_f      4⋅A⋅ξᵢ          _____       ____\n",
       "─────────── - ────────── + ────────── - ───────── + 2⋅╲╱ ξ_f  - 2⋅╲╱ ξᵢ \n",
       "     5            5            3            3                           "
      ]
     },
     "metadata": {},
     "output_type": "display_data"
    }
   ],
   "source": [
    "sol_int = expr.integrate((xi,xii,xif))\n",
    "display(sol_int)"
   ]
  },
  {
   "cell_type": "markdown",
   "id": "16139637-6807-461f-98c9-cbca3e001394",
   "metadata": {},
   "source": [
    "According to Equation `9`, the time it takes to empty a conical tank is:"
   ]
  },
  {
   "cell_type": "code",
   "execution_count": 5,
   "id": "6fc8e453-f248-44dc-bcb1-b9594a9856a6",
   "metadata": {
    "tags": []
   },
   "outputs": [
    {
     "data": {
      "image/png": "[encoded data removed]",
      "text/latex": [
       "$\\displaystyle t_{empty} = - \\tau \\left(\\frac{2 A^{2} \\xi_{f}^{\\frac{5}{2}}}{5} - \\frac{2 A^{2} \\xi_{i}^{\\frac{5}{2}}}{5} + \\frac{4 A \\xi_{f}^{\\frac{3}{2}}}{3} - \\frac{4 A \\xi_{i}^{\\frac{3}{2}}}{3} + 2 \\sqrt{\\xi_{f}} - 2 \\sqrt{\\xi_{i}}\\right)$"
      ],
      "text/plain": [
       "               ⎛   2    5/2      2   5/2          3/2         3/2             \n",
       "               ⎜2⋅A ⋅ξ_f      2⋅A ⋅ξᵢ      4⋅A⋅ξ_f      4⋅A⋅ξᵢ          _____ \n",
       "t_{empty} = -τ⋅⎜─────────── - ────────── + ────────── - ───────── + 2⋅╲╱ ξ_f  \n",
       "               ⎝     5            5            3            3                 \n",
       "\n",
       "          ⎞\n",
       "      ____⎟\n",
       "- 2⋅╲╱ ξᵢ ⎟\n",
       "          ⎠"
      ]
     },
     "metadata": {},
     "output_type": "display_data"
    }
   ],
   "source": [
    "sol = sp.Eq(tempty,-tau*sol_int)\n",
    "display(sol)"
   ]
  },
  {
   "cell_type": "markdown",
   "id": "f00757e1-ed41-41db-ab72-4152d020bbf0",
   "metadata": {},
   "source": [
    "And knowing that $\\xi_f = 0$, it becomes:"
   ]
  },
  {
   "cell_type": "code",
   "execution_count": 6,
   "id": "093fbc82-4cc9-4501-82e0-f613649de361",
   "metadata": {
    "tags": []
   },
   "outputs": [
    {
     "data": {
      "image/png": "[encoded data removed]",
      "text/latex": [
       "$\\displaystyle t_{empty} = - \\tau \\left(- \\frac{2 A^{2} \\xi_{i}^{\\frac{5}{2}}}{5} - \\frac{4 A \\xi_{i}^{\\frac{3}{2}}}{3} - 2 \\sqrt{\\xi_{i}}\\right)$"
      ],
      "text/plain": [
       "               ⎛     2   5/2         3/2           ⎞\n",
       "               ⎜  2⋅A ⋅ξᵢ      4⋅A⋅ξᵢ          ____⎟\n",
       "t_{empty} = -τ⋅⎜- ────────── - ───────── - 2⋅╲╱ ξᵢ ⎟\n",
       "               ⎝      5            3               ⎠"
      ]
     },
     "metadata": {},
     "output_type": "display_data"
    }
   ],
   "source": [
    "sol = sol.replace(xif,0)\n",
    "display(sol)"
   ]
  },
  {
   "cell_type": "markdown",
   "id": "360e88dd-8e4a-4932-8e1b-3f82301795a5",
   "metadata": {},
   "source": [
    "Simplifying:"
   ]
  },
  {
   "cell_type": "code",
   "execution_count": 7,
   "id": "ff7ad922-28ba-40c1-852c-799c67c15055",
   "metadata": {
    "tags": []
   },
   "outputs": [
    {
     "data": {
      "image/png": "[encoded data removed]",
      "text/latex": [
       "$\\displaystyle t_{empty} = \\frac{2 \\tau \\sqrt{\\xi_{i}} \\left(3 A^{2} \\xi_{i}^{2} + 10 A \\xi_{i} + 15\\right)}{15}$"
      ],
      "text/plain": [
       "                  ____ ⎛   2   2               ⎞\n",
       "            2⋅τ⋅╲╱ ξᵢ ⋅⎝3⋅A ⋅ξᵢ  + 10⋅A⋅ξᵢ + 15⎠\n",
       "t_{empty} = ────────────────────────────────────\n",
       "                             15                 "
      ]
     },
     "metadata": {},
     "output_type": "display_data"
    }
   ],
   "source": [
    "sol = sol.simplify()\n",
    "display(sol)"
   ]
  },
  {
   "cell_type": "markdown",
   "id": "02c62a30-6110-4b49-9205-c0ba16fd481d",
   "metadata": {},
   "source": [
    "Finally, replacing the parameters $\\tau = \\sqrt{\\frac{d}{2g}}$, $\\xi_i = \\frac{h_i}{d}$ and $A = 2\\tan{\\theta}$, the final expression for the time is obtained:"
   ]
  },
  {
   "cell_type": "code",
   "execution_count": 8,
   "id": "5e618090-e367-4e85-872c-bb47de84a03c",
   "metadata": {
    "tags": []
   },
   "outputs": [
    {
     "data": {
      "image/png": "[encoded data removed]",
      "text/latex": [
       "$\\displaystyle t_{empty} = \\frac{\\sqrt{2} \\sqrt{h_{i}} \\left(15 + \\frac{20 h_{i} \\tan{\\left(\\theta \\right)}}{d} + \\frac{12 h_{i}^{2} \\tan^{2}{\\left(\\theta \\right)}}{d^{2}}\\right)}{15 \\sqrt{g}}$"
      ],
      "text/plain": [
       "                      ⎛                         2    2   ⎞\n",
       "                 ____ ⎜     20⋅hᵢ⋅tan(θ)   12⋅hᵢ ⋅tan (θ)⎟\n",
       "            √2⋅╲╱ hᵢ ⋅⎜15 + ──────────── + ──────────────⎟\n",
       "                      ⎜          d                2      ⎟\n",
       "                      ⎝                          d       ⎠\n",
       "t_{empty} = ──────────────────────────────────────────────\n",
       "                                15⋅√g                     "
      ]
     },
     "metadata": {},
     "output_type": "display_data"
    }
   ],
   "source": [
    "theta,d,g,hi = sp.symbols('theta,d,g,h_i',positive=True,real=True)\n",
    "sol = sol.replace(tau,sp.sqrt(d/(2*g)))\n",
    "sol = sol.replace(xii,hi/d)\n",
    "sol = sol.replace(A,2*sp.tan(theta))\n",
    "display(sol)"
   ]
  },
  {
   "cell_type": "markdown",
   "id": "8d0c40c7-157c-4519-bd86-7b66e2a258ff",
   "metadata": {},
   "source": [
    "### Numerical case\n",
    "\n",
    "For a cone of 1m of height, an angle of 15º and a bottom hole of 3cm of diameter, the next data can be defined: $h_i = 1\\:m$, $\\theta = 15º$, $d = 3\\:cm = 0.03\\:m$ and $g = 9.81\\:m/s^2$.\n",
    "\n",
    "Replacing these values in the last expression, the time it takes to empty the cone is (in seconds):"
   ]
  },
  {
   "cell_type": "code",
   "execution_count": 9,
   "id": "dbe34127-c302-4223-a263-3e72fd2d5b22",
   "metadata": {
    "tags": []
   },
   "outputs": [
    {
     "data": {
      "image/png": "[encoded data removed]",
      "text/latex": [
       "$\\displaystyle 34.6445979745862$"
      ],
      "text/plain": [
       "34.6445979745862"
      ]
     },
     "execution_count": 9,
     "metadata": {},
     "output_type": "execute_result"
    }
   ],
   "source": [
    "try:\n",
    "    import numpy as np\n",
    "except:\n",
    "    !pip install numpy\n",
    "    import numpy as np\n",
    "\n",
    "num_sol = sp.lambdify((hi,theta,d,g),sol.rhs)\n",
    "num_sol(1,15*np.pi/180,0.03,9.81)"
   ]
  }
 ],
 "metadata": {
  "kernelspec": {
   "display_name": "Python 3 (ipykernel)",
   "language": "python",
   "name": "python3"
  },
  "language_info": {
   "codemirror_mode": {
    "name": "ipython",
    "version": 3
   },
   "file_extension": ".py",
   "mimetype": "text/x-python",
   "name": "python",
   "nbconvert_exporter": "python",
   "pygments_lexer": "ipython3",
   "version": "3.8.16"
  }
 },
 "nbformat": 4,
 "nbformat_minor": 5
}
