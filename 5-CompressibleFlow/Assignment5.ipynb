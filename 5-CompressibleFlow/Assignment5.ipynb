{
 "cells": [
  {
   "cell_type": "markdown",
   "id": "3060f4f2",
   "metadata": {},
   "source": [
    "# Assignment 5. A function to compute the flow after a deflection angle\n",
    "\n",
    "Write a function, say `OSWFlow(U1,theta,T1, p1, theta)`, that gives for the flow 1 entering a deflection angle $\\theta$, the characteristics of the flow after the OSW.  That is:\n",
    "\n",
    "- Is there an OSW?\n",
    "- $\\text{Ma}_1$ and $\\text{Ma}_2$\n",
    "- Angle of the OSW ($\\beta$)\n",
    "- Flow conditions after the OSW: $u_2$, $T_2$ and $p_2$\n",
    "\n",
    "Don't forget to properly document the function."
   ]
  },
  {
   "cell_type": "code",
   "execution_count": null,
   "id": "ecbd181d",
   "metadata": {},
   "outputs": [],
   "source": []
  }
 ],
 "metadata": {
  "kernelspec": {
   "display_name": "Python 3 (ipykernel)",
   "language": "python",
   "name": "python3"
  },
  "language_info": {
   "codemirror_mode": {
    "name": "ipython",
    "version": 3
   },
   "file_extension": ".py",
   "mimetype": "text/x-python",
   "name": "python",
   "nbconvert_exporter": "python",
   "pygments_lexer": "ipython3",
   "version": "3.10.6"
  }
 },
 "nbformat": 4,
 "nbformat_minor": 5
}
