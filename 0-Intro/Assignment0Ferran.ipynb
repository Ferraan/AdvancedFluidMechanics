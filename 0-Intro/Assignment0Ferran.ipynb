{
 "cells": [
  {
   "cell_type": "markdown",
   "id": "76c8030b-1f59-413d-836c-c73319301013",
   "metadata": {},
   "source": [
    "# Assignment 0: Conical tank emptying time\n",
    "\n",
    "Let's calculate how long it takes to [empty a conical tank](https://www.youtube.com/watch?v=2jQ1jA8uJuU)\n",
    "\n",
    "The simplification of the continuity equation leads, for a generic $h$, to\n",
    "\n",
    "$$\n",
    "u_1 D_h^2 = u_1 \\left(d + 2h \\tan \\theta \\right)^2 = u_2 d^2 \\tag{1}\n",
    "$$\n",
    "\n",
    "$$\n",
    "\\Rightarrow \\; u_2 = u_1\\left(1 + 2\\frac{h}{d} \\tan \\theta \\right)^2 \\tag{2}\n",
    "$$\n",
    "\n",
    "On the other hand, Bernoulli's equation, considering quasi-steady flow and without viscosity,\n",
    "\n",
    "$$\n",
    "u_1^2 + 2gh = u_2^2 = u_1^2 \\left(1 + 2\\frac{h}{d} \\tan \\theta \\right)^4 \\tag{3}\n",
    "$$\n",
    "\n",
    "$$\n",
    "\\Rightarrow \\; u_1^2 \\left[ \\left(1 + 2\\frac{h}{d} \\tan \\theta \\right)^4 -1 \\right] = 2gh \\tag{4}\n",
    "$$\n",
    "\n",
    "$$\n",
    "\\Rightarrow \\; u_1 = \\left[ \\frac{2gh}{\\left(1 + 2\\frac{h}{d} \\tan \\theta \\right)^4 -1} \\right]^\\frac{1}{2} = -\\frac{\\textrm{d} h}{\\textrm{d} t} \\tag{5}\n",
    "$$\n",
    "\n",
    "$$\n",
    "\\Rightarrow \\; \\boxed{dt = - \\left[ \\frac{\\left(1 + 2\\frac{h}{d} \\tan \\theta \\right)^4 -1}{2gh}\\right]^\\frac{1} {2} \\textrm{d} h} \\label{eq:int} \\tag{6}\n",
    "$$\n",
    "\n",
    "This can be written dimensionless with a time characteristic $\\tau = \\sqrt{\\frac{d}{2g}}$, a change to dimensionless variable $\\xi = \\frac{h}{d}$, and a parameter $A = 2\\tan \\theta$, becoming\n",
    "\n",
    "$$\n",
    "\\frac{\\textrm{d} t}{\\tau} = - \\left[ \\frac{\\left(1 + A \\xi \\right)^4 -1}{\\xi}\\right]^\\frac{1 }{2} \\textrm{d} \\xi \\tag{7}\n",
    "$$\n",
    "\n",
    "Use sympy to analytically compute this time, making an estimation with  $d \\ll h$ so that it can be supposed that  $\\xi \\gg 1$."
   ]
  },
  {
   "cell_type": "code",
   "execution_count": 115,
   "id": "00fed288-84ff-432e-8f1e-7c8ca8bf739d",
   "metadata": {},
   "outputs": [],
   "source": [
    "import sympy as sp\n",
    "import numpy as np"
   ]
  },
  {
   "cell_type": "markdown",
   "id": "c8930b16",
   "metadata": {},
   "source": [
    "We define the variables in sympy"
   ]
  },
  {
   "cell_type": "code",
   "execution_count": 116,
   "id": "55423393",
   "metadata": {},
   "outputs": [
    {
     "data": {
      "text/latex": [
       "$\\displaystyle - \\frac{\\left(A \\xi + 1\\right)^{2}}{\\sqrt{\\xi}}$"
      ],
      "text/plain": [
       "-(A*xi + 1)**2/sqrt(xi)"
      ]
     },
     "metadata": {},
     "output_type": "display_data"
    }
   ],
   "source": [
    "xi,xi0,xi_f,A,tau=sp.symbols('xi,xi0,xi_f,A,tau',positive=True,real=True)\n",
    "expr=-sp.sqrt((1+A*xi)**4/xi)\n",
    "display(expr)"
   ]
  },
  {
   "cell_type": "code",
   "execution_count": 117,
   "id": "427599ef",
   "metadata": {},
   "outputs": [
    {
     "data": {
      "text/latex": [
       "$\\displaystyle \\tau \\left(\\frac{2 A^{2} \\xi_{0}^{\\frac{5}{2}}}{5} - \\frac{2 A^{2} \\xi_{f}^{\\frac{5}{2}}}{5} + \\frac{4 A \\xi_{0}^{\\frac{3}{2}}}{3} - \\frac{4 A \\xi_{f}^{\\frac{3}{2}}}{3} + 2 \\sqrt{\\xi_{0}} - 2 \\sqrt{\\xi_{f}}\\right)$"
      ],
      "text/plain": [
       "tau*(2*A**2*xi0**(5/2)/5 - 2*A**2*xi_f**(5/2)/5 + 4*A*xi0**(3/2)/3 - 4*A*xi_f**(3/2)/3 + 2*sqrt(xi0) - 2*sqrt(xi_f))"
      ]
     },
     "metadata": {},
     "output_type": "display_data"
    }
   ],
   "source": [
    "sol=sp.integrate(expr,(xi,xi0,xi_f))*tau\n",
    "sol.simplify()\n",
    "display(sol)"
   ]
  },
  {
   "cell_type": "code",
   "execution_count": 118,
   "id": "977ac426",
   "metadata": {},
   "outputs": [],
   "source": [
    "t1=sp.lambdify((tau,A,xi0,xi_f),sol)"
   ]
  },
  {
   "cell_type": "code",
   "execution_count": 119,
   "id": "d28b63c3",
   "metadata": {},
   "outputs": [],
   "source": [
    "d=0.03\n",
    "H0=1\n",
    "Hf=0\n",
    "theta=np.deg2rad(15)\n",
    "g=9.81\n",
    "taunum=np.sqrt(d/(2*g))\n",
    "Anum=2*np.tan(theta)\n",
    "xi_0num = H0/d\n",
    "xi_fnum = Hf/d"
   ]
  },
  {
   "cell_type": "code",
   "execution_count": 120,
   "id": "cf576557",
   "metadata": {},
   "outputs": [
    {
     "data": {
      "text/latex": [
       "$\\displaystyle 34.645$"
      ],
      "text/plain": [
       "34.645"
      ]
     },
     "execution_count": 120,
     "metadata": {},
     "output_type": "execute_result"
    }
   ],
   "source": [
    "t1num = sp.Float(t1(taunum,Anum,xi_0num,xi_fnum),5)\n",
    "t1num"
   ]
  },
  {
   "cell_type": "markdown",
   "id": "9c5db304",
   "metadata": {},
   "source": [
    "No approximations:"
   ]
  },
  {
   "cell_type": "code",
   "execution_count": 121,
   "id": "bb95a484",
   "metadata": {},
   "outputs": [
    {
     "data": {
      "text/latex": [
       "$\\displaystyle \\frac{\\sqrt{\\left(A \\xi + 1\\right)^{4} - 1}}{\\sqrt{\\xi}}$"
      ],
      "text/plain": [
       "sqrt((A*xi + 1)**4 - 1)/sqrt(xi)"
      ]
     },
     "metadata": {},
     "output_type": "display_data"
    }
   ],
   "source": [
    "xi,xi0,xi_f,A,tau=sp.symbols('xi,xi0,xi_f,A,tau',positive=True,real=True)\n",
    "no_approx=sp.sqrt(((1+A*xi)**4-1)/xi)\n",
    "display(no_approx)"
   ]
  },
  {
   "cell_type": "code",
   "execution_count": 122,
   "id": "b2adf8ba",
   "metadata": {},
   "outputs": [
    {
     "data": {
      "text/latex": [
       "$\\displaystyle \\sqrt{A} \\int\\limits_{\\xi_{0}}^{\\xi_{f}} \\sqrt{A \\xi + 2} \\sqrt{A^{2} \\xi^{2} + 2 A \\xi + 2}\\, d\\xi$"
      ],
      "text/plain": [
       "sqrt(A)*Integral(sqrt(A*xi + 2)*sqrt(A**2*xi**2 + 2*A*xi + 2), (xi, xi0, xi_f))"
      ]
     },
     "metadata": {},
     "output_type": "display_data"
    }
   ],
   "source": [
    "sol2=sp.integrate(no_approx,(xi,xi0,xi_f))\n",
    "sol2.simplify()\n",
    "display(sol2)"
   ]
  },
  {
   "cell_type": "code",
   "execution_count": 123,
   "id": "5166fca5",
   "metadata": {},
   "outputs": [],
   "source": [
    "t2=sp.lambdify((A,xi),sol2)"
   ]
  },
  {
   "cell_type": "code",
   "execution_count": 124,
   "id": "773984f8",
   "metadata": {},
   "outputs": [],
   "source": [
    "Hf = 0\n",
    "xi_0 = H0/d\n",
    "xi_f = Hf/d\n",
    "f2I = mpmath.quad(lambda xi:f2_mpmath(Anum,xi),(xi_0num,xi_fnum))"
   ]
  },
  {
   "cell_type": "code",
   "execution_count": 125,
   "id": "eaaa937b",
   "metadata": {},
   "outputs": [],
   "source": [
    "f2I=-taunum*f2I"
   ]
  },
  {
   "cell_type": "code",
   "execution_count": 126,
   "id": "db000f22",
   "metadata": {},
   "outputs": [
    {
     "data": {
      "text/plain": [
       "mpf('34.591526353815304')"
      ]
     },
     "execution_count": 126,
     "metadata": {},
     "output_type": "execute_result"
    }
   ],
   "source": [
    "f2I"
   ]
  },
  {
   "cell_type": "code",
   "execution_count": null,
   "id": "31007722",
   "metadata": {},
   "outputs": [],
   "source": []
  }
 ],
 "metadata": {
  "kernelspec": {
   "display_name": "Python 3 (ipykernel)",
   "language": "python",
   "name": "python3"
  },
  "language_info": {
   "codemirror_mode": {
    "name": "ipython",
    "version": 3
   },
   "file_extension": ".py",
   "mimetype": "text/x-python",
   "name": "python",
   "nbconvert_exporter": "python",
   "pygments_lexer": "ipython3",
   "version": "3.8.10"
  }
 },
 "nbformat": 4,
 "nbformat_minor": 5
}
