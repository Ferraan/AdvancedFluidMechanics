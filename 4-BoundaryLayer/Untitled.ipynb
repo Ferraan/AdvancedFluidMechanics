{
 "cells": [
  {
   "cell_type": "markdown",
   "id": "bd138560",
   "metadata": {},
   "source": [
    "# Assignment 4. Growth of Turbulent Boundary Layer\n",
    "\n",
    "In the Notebook we have found a function that computes, for every $c_f$ the corresponding value of $\\text{Re}_\\delta$ (and, consequently, $\\delta$). \n",
    "\n",
    "1. Use this function to find a power fit of the type \n",
    "\n",
    "$$\n",
    "c_f = K \\text{Re}_\\delta^n\n",
    "$$\n",
    "\n",
    "2.  Use this to define a function for the friction velocity as a function of $\\delta$ and $U$, `u_tau(delta, U)`\n",
    "\n",
    "3. Introduce this function into the log-law to find a cloud of points $(y,u)$ and fit again witha power law\n",
    "\n",
    "$$ \n",
    "\\left(\\frac{u}{U}\\right) = K'\\left(\\frac{y}{\\delta}\\right)^m\n",
    "$$\n",
    "\n",
    "This is know as the power-law for the turbulent boundary layer. It is, as the log-law, valid only for $y^+ \\gtrapprox 30$\n",
    "\n",
    "4. Finally use the von Kármán equation for steady uniform flow, equation (27), to find how a turbulent boundary layer grows, $\\delta(x)$."
   ]
  },
  {
   "cell_type": "code",
   "execution_count": null,
   "id": "c644b27f",
   "metadata": {},
   "outputs": [],
   "source": []
  }
 ],
 "metadata": {
  "kernelspec": {
   "display_name": "Python 3 (ipykernel)",
   "language": "python",
   "name": "python3"
  },
  "language_info": {
   "codemirror_mode": {
    "name": "ipython",
    "version": 3
   },
   "file_extension": ".py",
   "mimetype": "text/x-python",
   "name": "python",
   "nbconvert_exporter": "python",
   "pygments_lexer": "ipython3",
   "version": "3.10.6"
  }
 },
 "nbformat": 4,
 "nbformat_minor": 5
}
