{
 "cells": [
  {
   "cell_type": "markdown",
   "id": "c4bad38d-e6e8-44e7-bf3b-b041a3b65665",
   "metadata": {},
   "source": [
    "# Assignment 3 : Computation of length scales and spectrum in space\n",
    "\n",
    "We have fluctuations of velocity in time, but not in space. In order to get fluctuations of velocity in space (for a given time $t_0$) we should have an array of anemometers very close to each other (microns, probably), which is quite difficult (it is much more easier for CFD results). \n",
    "\n",
    "Fortunately, there is the [Taylor hypothesis](https://www-sciencedirect-com.recursos.biblioteca.upc.edu/science/article/pii/B9780080443508500014#p15) (see also Pope's book reference at the beginning of the chapter, p. 223), which says that if turbulence can be considered (average) steady and fluctuations are much smaller than average velocity, time can be replaced by $x/\\overline{u}$. The we can estimate the lenght scales of turbulence by replacing $t$ by $x$ and frequency $f$ by wavenumber $k$ (do not confuse with turbulent kinetic energy).\n",
    "\n",
    "In this assignment it is proposed to to make all the previous analysis and find, in space:\n",
    "\n",
    "- Kolmogorov's scale\n",
    "- Autocorrelation function\n",
    "- Integral scale\n",
    "- Power spectrum (in $k$) and check the Kolmogorov's power law.\n",
    "\n",
    "Do not do that for $y = 0 \\,\\text{mm}$. Choose another $y$ !"
   ]
  },
  {
   "cell_type": "code",
   "execution_count": null,
   "id": "7891de3b-a977-42b7-a90b-eae1af6a6f95",
   "metadata": {},
   "outputs": [],
   "source": []
  },
  {
   "cell_type": "code",
   "execution_count": null,
   "id": "726ee3a4",
   "metadata": {},
   "outputs": [],
   "source": []
  }
 ],
 "metadata": {
  "kernelspec": {
   "display_name": "Python 3 (ipykernel)",
   "language": "python",
   "name": "python3"
  },
  "language_info": {
   "codemirror_mode": {
    "name": "ipython",
    "version": 3
   },
   "file_extension": ".py",
   "mimetype": "text/x-python",
   "name": "python",
   "nbconvert_exporter": "python",
   "pygments_lexer": "ipython3",
   "version": "3.10.6"
  }
 },
 "nbformat": 4,
 "nbformat_minor": 5
}
