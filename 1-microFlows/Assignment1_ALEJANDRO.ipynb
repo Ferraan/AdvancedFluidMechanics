{
 "cells": [
  {
   "cell_type": "markdown",
   "id": "de72bbf3-f61e-4574-a6c5-23a8e761544c",
   "metadata": {},
   "source": [
    "# Assignment 1. Computation of journal bearing"
   ]
  },
  {
   "cell_type": "markdown",
   "id": "dddfa6fc-5a11-46ae-bea4-5a8262bc04e8",
   "metadata": {},
   "source": [
    "It is possible to use the Reynolds equation to compute de eccentricity and the angle of a journal bearing with fluid film lubrication, given the load $W$\n",
    "\n",
    "![image.png](Journal_bearing1.png)\n",
    "\n",
    "Consider that the journal is displaced in the $x$ negative direction, so that $h(\\theta) = h_0(1+\\varepsilon \\cos(\\theta))$ where $\\varepsilon=\\frac{e}{h_0}$ is the relative eccentricity and $h_0 = \\frac{1}{2}(D_b -D_a)$ is the average gap thickness. The journal is rotating in the positive direction of $\\theta$ (polar coordinates)\n",
    "\n",
    "![image.png](Journal_bearing2.png)\n",
    "\n",
    "1. Calculate the pressure distribution $p(\\theta)$ and the value and direction of $\\mathbf{W}$, in the approximation $\\varepsilon \\ll 1$.\n",
    "2. What happens to the journal if $\\mathbf{W}$ increase a little bit?\n",
    "3. Apply the results to this real [example](https://www.mcmaster.com/6658K738/), and discuss the value of the maximum load given by the manufactures at this rotational velocity.\n",
    "![image.png](McMaster-Carr_JB.png)"
   ]
  },
  {
   "cell_type": "markdown",
   "id": "2bb9444d-033f-4479-96d5-e84a89a66d36",
   "metadata": {},
   "source": [
    "## Solution"
   ]
  },
  {
   "cell_type": "markdown",
   "id": "b094da99-5379-4053-8892-32f778c4e0aa",
   "metadata": {},
   "source": [
    "### 1. Pressure distribution and value and direction of W\n",
    "#### 1.1. Pressure distribution"
   ]
  },
  {
   "cell_type": "markdown",
   "id": "498afb01-309e-420b-95df-44233527e2de",
   "metadata": {},
   "source": [
    "From the theory notes, the differential equation of the pressure distribution is already known:"
   ]
  },
  {
   "cell_type": "code",
   "execution_count": 1,
   "id": "82e636e8-97e1-4382-9979-454be2c2a593",
   "metadata": {
    "tags": []
   },
   "outputs": [],
   "source": [
    "try:\n",
    "    import sympy as sp\n",
    "except:\n",
    "    !pip install sympy\n",
    "    import sympy as sp"
   ]
  },
  {
   "cell_type": "code",
   "execution_count": 2,
   "id": "c3e3f868-c043-4315-9d44-1e6c7f7da034",
   "metadata": {
    "tags": []
   },
   "outputs": [
    {
     "data": {
      "text/latex": [
       "$\\displaystyle \\frac{d}{d x} p{\\left(x \\right)} = \\frac{6 \\mu \\left(U h{\\left(x \\right)} - 2 q\\right)}{h^{3}{\\left(x \\right)}}$"
      ],
      "text/plain": [
       "Eq(Derivative(p(x), x), 6*mu*(U*h(x) - 2*q)/h(x)**3)"
      ]
     },
     "metadata": {},
     "output_type": "display_data"
    }
   ],
   "source": [
    "x,mu,U,q = sp.symbols('x,mu,U,q')\n",
    "p = sp.Function('p')\n",
    "u = sp.Function('u')\n",
    "h = sp.Function('h')\n",
    "ode = sp.Eq(p(x).diff(x),(6*mu*(U*h(x)-2*q))/(h(x)**3))\n",
    "display(ode)"
   ]
  },
  {
   "cell_type": "markdown",
   "id": "78b1f86b-befd-4e63-acbd-bd0b7e9858d8",
   "metadata": {},
   "source": [
    "For this journal bearing problem, as $p(\\theta)$ is the desired function, the following change in the coordinate system can be made:\n",
    "$$\n",
    "x = R_a\\theta = \\frac{D_a}{2}\\theta\\\\\n",
    "dx = \\frac{D_a}{2}d\\theta\\\\\n",
    "U = \\Omega R_a = \\Omega \\frac{D_a}{2}\n",
    "$$\n",
    "Making this change in the previous equation, it is obtained:"
   ]
  },
  {
   "cell_type": "code",
   "execution_count": 3,
   "id": "93607827-feaa-4f42-856b-b6b86f8d7a7a",
   "metadata": {
    "tags": []
   },
   "outputs": [
    {
     "data": {
      "text/latex": [
       "$\\displaystyle \\frac{2 \\frac{d}{d \\theta} p{\\left(\\theta \\right)}}{D_{a}} = \\frac{6 \\mu \\left(\\frac{D_{a} \\Omega h{\\left(\\theta \\right)}}{2} - 2 q\\right)}{h^{3}{\\left(\\theta \\right)}}$"
      ],
      "text/plain": [
       "Eq(2*Derivative(p(theta), theta)/D_a, 6*mu*(D_a*Omega*h(theta)/2 - 2*q)/h(theta)**3)"
      ]
     },
     "metadata": {},
     "output_type": "display_data"
    }
   ],
   "source": [
    "Da,theta,Omega = sp.symbols('D_a,theta,Omega')\n",
    "ode_theta = sp.Eq(1/(Da/2)*p(theta).diff(theta),(6*mu*((Omega*Da/2)*h(theta)-2*q))/(h(theta)**3))\n",
    "display(ode_theta)"
   ]
  },
  {
   "cell_type": "code",
   "execution_count": 4,
   "id": "26530054-55bb-4cf7-bcd7-f41be5d51a2a",
   "metadata": {
    "tags": []
   },
   "outputs": [
    {
     "data": {
      "text/latex": [
       "$\\displaystyle \\frac{d}{d \\theta} p{\\left(\\theta \\right)} = \\frac{3 D_{a} \\mu \\left(\\frac{D_{a} \\Omega h{\\left(\\theta \\right)}}{2} - 2 q\\right)}{h^{3}{\\left(\\theta \\right)}}$"
      ],
      "text/plain": [
       "Eq(Derivative(p(theta), theta), 3*D_a*mu*(D_a*Omega*h(theta)/2 - 2*q)/h(theta)**3)"
      ]
     },
     "metadata": {},
     "output_type": "display_data"
    }
   ],
   "source": [
    "ode_theta = sp.Eq(p(theta).diff(theta),Da/2*(6*mu*((Omega*Da/2)*h(theta)-2*q))/(h(theta)**3))\n",
    "display(ode_theta)"
   ]
  },
  {
   "cell_type": "markdown",
   "id": "ceb7efc7-60bc-4ab6-a5d2-1f4b65aff68d",
   "metadata": {},
   "source": [
    "Then, the geometry can be introduced with $h(\\theta) = h_0(1+\\epsilon\\cos{\\theta})$ to the previous equation:"
   ]
  },
  {
   "cell_type": "code",
   "execution_count": 5,
   "id": "0f288319-3bd4-4deb-82f0-124fbf234674",
   "metadata": {
    "tags": []
   },
   "outputs": [
    {
     "data": {
      "text/latex": [
       "$\\displaystyle \\frac{d}{d \\theta} p{\\left(\\theta \\right)} = \\frac{3 D_{a} \\mu \\left(\\frac{D_{a} \\Omega h_{0} \\left(\\epsilon \\cos{\\left(\\theta \\right)} + 1\\right)}{2} - 2 q\\right)}{h_{0}^{3} \\left(\\epsilon \\cos{\\left(\\theta \\right)} + 1\\right)^{3}}$"
      ],
      "text/plain": [
       "Eq(Derivative(p(theta), theta), 3*D_a*mu*(D_a*Omega*h_0*(epsilon*cos(theta) + 1)/2 - 2*q)/(h_0**3*(epsilon*cos(theta) + 1)**3))"
      ]
     },
     "metadata": {},
     "output_type": "display_data"
    }
   ],
   "source": [
    "h0,eps = sp.symbols('h_0,epsilon')\n",
    "ode_theta = ode_theta.replace(h(theta),h0*(1+eps*sp.cos(theta)))\n",
    "display(ode_theta)"
   ]
  },
  {
   "cell_type": "markdown",
   "id": "1ed05ebc-5add-4bfc-b415-1f3df3fe45a3",
   "metadata": {},
   "source": [
    "Now, the approximation $\\epsilon\\ll1$ is applied by means of Taylor expansion series of $\\epsilon$ around 0 up to the linear factor:"
   ]
  },
  {
   "cell_type": "code",
   "execution_count": 6,
   "id": "4dfc1c86-327f-4c85-a940-3626391b8a9d",
   "metadata": {
    "tags": []
   },
   "outputs": [
    {
     "data": {
      "text/latex": [
       "$\\displaystyle \\frac{d}{d \\theta} p{\\left(\\theta \\right)} = \\frac{3 D_{a}^{2} \\Omega \\mu}{2 h_{0}^{2}} - \\frac{6 D_{a} \\mu q}{h_{0}^{3}} + \\epsilon \\left(- \\frac{3 D_{a}^{2} \\Omega \\mu \\cos{\\left(\\theta \\right)}}{h_{0}^{2}} + \\frac{18 D_{a} \\mu q \\cos{\\left(\\theta \\right)}}{h_{0}^{3}}\\right)$"
      ],
      "text/plain": [
       "Eq(Derivative(p(theta), theta), 3*D_a**2*Omega*mu/(2*h_0**2) - 6*D_a*mu*q/h_0**3 + epsilon*(-3*D_a**2*Omega*mu*cos(theta)/h_0**2 + 18*D_a*mu*q*cos(theta)/h_0**3))"
      ]
     },
     "metadata": {},
     "output_type": "display_data"
    }
   ],
   "source": [
    "ode_approx_lhs = ode_theta.lhs\n",
    "ode_approx_rhs = ode_theta.rhs.series(eps,0,n=2).removeO()\n",
    "ode_approx = sp.Eq(ode_approx_lhs,ode_approx_rhs)\n",
    "display(ode_approx)"
   ]
  },
  {
   "cell_type": "markdown",
   "id": "2e69b91c-f4ef-4851-a17a-e18606fe7063",
   "metadata": {},
   "source": [
    "Now, the differential equation can be solved for $p(\\theta)$:"
   ]
  },
  {
   "cell_type": "code",
   "execution_count": 8,
   "id": "d12e3426-44b0-4847-9bd3-a8431b82205b",
   "metadata": {
    "tags": []
   },
   "outputs": [
    {
     "data": {
      "text/latex": [
       "$\\displaystyle p{\\left(\\theta \\right)} = C_{1} + \\frac{3 D_{a} \\mu \\left(2 \\epsilon \\left(- D_{a} \\Omega h_{0} + 6 q\\right) \\sin{\\left(\\theta \\right)} + \\theta \\left(D_{a} \\Omega h_{0} - 4 q\\right)\\right)}{2 h_{0}^{3}}$"
      ],
      "text/plain": [
       "Eq(p(theta), C1 + 3*D_a*mu*(2*epsilon*(-D_a*Omega*h_0 + 6*q)*sin(theta) + theta*(D_a*Omega*h_0 - 4*q))/(2*h_0**3))"
      ]
     },
     "metadata": {},
     "output_type": "display_data"
    }
   ],
   "source": [
    "ptheta_ind = sp.dsolve(ode_approx,p(theta))\n",
    "display(ptheta_ind)"
   ]
  },
  {
   "cell_type": "markdown",
   "id": "5d12365d-989f-4ab2-b7d6-8af7e0f66bf0",
   "metadata": {},
   "source": [
    "This is the indefinite integral. Then, at $\\theta = 0º$ some unknown pressure $p_0$ may be found, hence:"
   ]
  },
  {
   "cell_type": "code",
   "execution_count": 14,
   "id": "9e20062c-8642-4429-a6a6-54b4fd5b697c",
   "metadata": {
    "tags": []
   },
   "outputs": [
    {
     "data": {
      "text/latex": [
       "$\\displaystyle p{\\left(\\theta \\right)} = \\frac{3 D_{a} \\mu \\left(2 \\epsilon \\left(- D_{a} \\Omega h_{0} + 6 q\\right) \\sin{\\left(\\theta \\right)} + \\theta \\left(D_{a} \\Omega h_{0} - 4 q\\right)\\right)}{2 h_{0}^{3}} + p_{0}$"
      ],
      "text/plain": [
       "Eq(p(theta), 3*D_a*mu*(2*epsilon*(-D_a*Omega*h_0 + 6*q)*sin(theta) + theta*(D_a*Omega*h_0 - 4*q))/(2*h_0**3) + p_0)"
      ]
     },
     "metadata": {},
     "output_type": "display_data"
    }
   ],
   "source": [
    "p0 = sp.symbols('p_0')\n",
    "ptheta = sp.dsolve(ode_approx,p(theta),ics={p(0):p0})\n",
    "display(ptheta)"
   ]
  },
  {
   "cell_type": "markdown",
   "id": "5eb7b89f-1fb3-4db9-a0ad-578b815c73b9",
   "metadata": {},
   "source": [
    "After one revolution, i.e. $\\theta = 2\\pi$, it is seen that the pressure will also be $p_0$: $p(\\theta = 2\\pi) = p_0$. From this boundary condition and the previous equation, the flow rate $q$ can be found:"
   ]
  },
  {
   "cell_type": "code",
   "execution_count": 17,
   "id": "91158cd1-7a92-4edb-9f7a-14cefdaa7149",
   "metadata": {
    "tags": []
   },
   "outputs": [
    {
     "data": {
      "text/latex": [
       "$\\displaystyle \\frac{D_{a} \\Omega h_{0}}{4}$"
      ],
      "text/plain": [
       "D_a*Omega*h_0/4"
      ]
     },
     "metadata": {},
     "output_type": "display_data"
    }
   ],
   "source": [
    "qexp = sp.solve(ptheta.replace(theta,2*sp.pi).replace(p(2*sp.pi),p0),q)\n",
    "display(qexp[0])"
   ]
  },
  {
   "cell_type": "markdown",
   "id": "8aad570e-a894-477f-9306-904853672620",
   "metadata": {},
   "source": [
    "This flow rate $q$ is replaced in the previous equation of $p(\\theta)$:"
   ]
  },
  {
   "cell_type": "code",
   "execution_count": 18,
   "id": "d96760b4-e3b2-42d3-9f46-64dd0aed92cb",
   "metadata": {
    "tags": []
   },
   "outputs": [
    {
     "data": {
      "text/latex": [
       "$\\displaystyle p{\\left(\\theta \\right)} = \\frac{3 D_{a}^{2} \\Omega \\epsilon \\mu \\sin{\\left(\\theta \\right)}}{2 h_{0}^{2}} + p_{0}$"
      ],
      "text/plain": [
       "Eq(p(theta), 3*D_a**2*Omega*epsilon*mu*sin(theta)/(2*h_0**2) + p_0)"
      ]
     },
     "metadata": {},
     "output_type": "display_data"
    }
   ],
   "source": [
    "ptheta = ptheta.replace(q,qexp[0])\n",
    "display(ptheta)"
   ]
  },
  {
   "cell_type": "markdown",
   "id": "2840f50d-8680-4b78-83d2-04b4d6f20eb0",
   "metadata": {},
   "source": [
    "#### 1.2. Value and direction of W\n",
    "\n",
    "In order to find the forces generated by the pressure distribution, these can be computed by its integration on the surface that receives the force. Supposing unit length in the z-axis, then:\n",
    "\n",
    "$$\n",
    "F_x = \\int_{0}^{2\\pi} p_x(\\theta)\\:R_a\\:d\\theta = \\int_{0}^{2\\pi} p_x(\\theta)\\:\\frac{D_a}{2}\\:d\\theta\\\\\n",
    "F_y = \\int_{0}^{2\\pi} p_y(\\theta)\\:R_a\\:d\\theta = \\int_{0}^{2\\pi} p_y(\\theta)\\:\\frac{D_a}{2}\\:d\\theta\n",
    "$$\n",
    "\n",
    "As the pressure acts directly in the orthogonal direction of a differential element of surface of the journal, then (according to the axes of the second figure):\n",
    "\n",
    "$$\n",
    "p_x(\\theta) = -p(\\theta)\\cos{\\theta}\\\\\n",
    "p_y(\\theta) = -p(\\theta)\\sin{\\theta}\n",
    "$$\n",
    "\n",
    "The forces are:"
   ]
  },
  {
   "cell_type": "code",
   "execution_count": 25,
   "id": "ab1849df-243b-4cc1-808b-877329bd8aff",
   "metadata": {
    "tags": []
   },
   "outputs": [],
   "source": [
    "px = -ptheta.rhs*sp.cos(theta)\n",
    "py = -ptheta.rhs*sp.sin(theta)"
   ]
  },
  {
   "cell_type": "code",
   "execution_count": 26,
   "id": "83f60b35-9d69-48dd-a5aa-88f2600d9182",
   "metadata": {
    "tags": []
   },
   "outputs": [
    {
     "data": {
      "text/latex": [
       "$\\displaystyle 0$"
      ],
      "text/plain": [
       "0"
      ]
     },
     "metadata": {},
     "output_type": "display_data"
    }
   ],
   "source": [
    "Fx = px.integrate((theta,0,2*sp.pi))*Da/2\n",
    "display(Fx)"
   ]
  },
  {
   "cell_type": "markdown",
   "id": "565d72e0-adda-4784-ab88-5e73082e7730",
   "metadata": {},
   "source": [
    "The journal does not receive any force in the x direction."
   ]
  },
  {
   "cell_type": "code",
   "execution_count": 27,
   "id": "ac14dbd5-c7e6-48ea-a9ec-5aa627e9bd8f",
   "metadata": {
    "tags": []
   },
   "outputs": [
    {
     "data": {
      "text/latex": [
       "$\\displaystyle - \\frac{3 \\pi D_{a}^{3} \\Omega \\epsilon \\mu}{4 h_{0}^{2}}$"
      ],
      "text/plain": [
       "-3*pi*D_a**3*Omega*epsilon*mu/(4*h_0**2)"
      ]
     },
     "metadata": {},
     "output_type": "display_data"
    }
   ],
   "source": [
    "Fy = py.integrate((theta,0,2*sp.pi))*Da/2\n",
    "display(Fy)"
   ]
  },
  {
   "cell_type": "markdown",
   "id": "2d0aab91-0ae6-4f3e-b4ef-a46af35bcf79",
   "metadata": {},
   "source": [
    "The journal does receive a force in the negative direction of the y-axis (force per unit length in the z direction)."
   ]
  }
 ],
 "metadata": {
  "kernelspec": {
   "display_name": "Python 3 (ipykernel)",
   "language": "python",
   "name": "python3"
  },
  "language_info": {
   "codemirror_mode": {
    "name": "ipython",
    "version": 3
   },
   "file_extension": ".py",
   "mimetype": "text/x-python",
   "name": "python",
   "nbconvert_exporter": "python",
   "pygments_lexer": "ipython3",
   "version": "3.8.10"
  }
 },
 "nbformat": 4,
 "nbformat_minor": 5
}
