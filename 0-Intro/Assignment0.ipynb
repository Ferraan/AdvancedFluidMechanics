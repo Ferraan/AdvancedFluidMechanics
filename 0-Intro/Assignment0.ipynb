{
 "cells": [
  {
   "cell_type": "markdown",
   "id": "76c8030b-1f59-413d-836c-c73319301013",
   "metadata": {},
   "source": [
    "# Assignment 0: Conical tank emptying time\n",
    "\n",
    "Let's calculate how long it takes to [empty a conical tank](https://www.youtube.com/watch?v=2jQ1jA8uJuU)\n",
    "\n",
    "The simplification of the continuity equation leads, for a generic $h$, to\n",
    "\n",
    "$$\n",
    "u_1 D_h^2 = u_1 \\left(d + 2h \\tan \\theta \\right)^2 = u_2 d^2 \\tag{1}\n",
    "$$\n",
    "\n",
    "$$\n",
    "\\Rightarrow \\; u_2 = u_1\\left(1 + 2\\frac{h}{d} \\tan \\theta \\right)^2 \\tag{2}\n",
    "$$\n",
    "\n",
    "On the other hand, Bernoulli's equation, considering quasi-steady flow and without viscosity,\n",
    "\n",
    "$$\n",
    "u_1^2 + 2gh = u_2^2 = u_1^2 \\left(1 + 2\\frac{h}{d} \\tan \\theta \\right)^4 \\tag{3}\n",
    "$$\n",
    "\n",
    "$$\n",
    "\\Rightarrow \\; u_1^2 \\left[ \\left(1 + 2\\frac{h}{d} \\tan \\theta \\right)^4 -1 \\right] = 2gh \\tag{4}\n",
    "$$\n",
    "\n",
    "$$\n",
    "\\Rightarrow \\; u_1 = \\left[ \\frac{2gh}{\\left(1 + 2\\frac{h}{d} \\tan \\theta \\right)^4 -1} \\right]^\\frac{1}{2} = -\\frac{\\textrm{d} h}{\\textrm{d} t} \\tag{5}\n",
    "$$\n",
    "\n",
    "$$\n",
    "\\Rightarrow \\; \\boxed{dt = - \\left[ \\frac{\\left(1 + 2\\frac{h}{d} \\tan \\theta \\right)^4 -1}{2gh}\\right]^\\frac{1} {2} \\textrm{d} h} \\label{eq:int} \\tag{6}\n",
    "$$\n",
    "\n",
    "This can be written dimensionless with a time characteristic $\\tau = \\sqrt{\\frac{d}{2g}}$, a change to dimensionless variable $\\xi = \\frac{h}{d}$, and a parameter $A = 2\\tan \\theta$, becoming\n",
    "\n",
    "$$\n",
    "\\frac{\\textrm{d} t}{\\tau} = - \\left[ \\frac{\\left(1 + A \\xi \\right)^4 -1}{\\xi}\\right]^\\frac{1 }{2} \\textrm{d} \\xi \\tag{7}\n",
    "$$\n",
    "\n",
    "Use sympy to analytically compute this time, making an estimation with  $d \\ll h$ so that it can be supposed that  $\\xi \\gg 1$."
   ]
  },
  {
   "cell_type": "code",
   "execution_count": 46,
   "id": "00fed288-84ff-432e-8f1e-7c8ca8bf739d",
   "metadata": {},
   "outputs": [],
   "source": [
    "import sympy as sp\n",
    "\n"
   ]
  },
  {
   "cell_type": "markdown",
   "id": "c8930b16",
   "metadata": {},
   "source": [
    "We define the variables in sympy"
   ]
  },
  {
   "cell_type": "code",
   "execution_count": 52,
   "id": "ea5718d0",
   "metadata": {},
   "outputs": [],
   "source": [
    "t,tau,A,xi0,xi_f,t_f=sp.symbols('t,tau,A,xi0,xi_f,t_f',positive=True,real=True)\n",
    "xi=sp.Function(\"xi\")"
   ]
  },
  {
   "cell_type": "markdown",
   "id": "40436f64",
   "metadata": {},
   "source": [
    "Now we create the differential equation"
   ]
  },
  {
   "cell_type": "code",
   "execution_count": 53,
   "id": "1c91d3f5",
   "metadata": {},
   "outputs": [
    {
     "data": {
      "text/latex": [
       "$\\displaystyle - \\frac{1}{\\tau \\left(\\frac{\\left(A \\xi{\\left(t \\right)} + 1\\right)^{4}}{\\xi{\\left(t \\right)}}\\right)^{0.5}} = \\frac{d}{d t} \\xi{\\left(t \\right)}$"
      ],
      "text/plain": [
       "Eq(-1/(tau*((A*xi(t) + 1)**4/xi(t))**0.5), Derivative(xi(t), t))"
      ]
     },
     "metadata": {},
     "output_type": "display_data"
    }
   ],
   "source": [
    "ode = sp.Eq((1/(tau*-(((1+A*(xi(t)))**4)/(xi(t)))**0.5)),xi(t).diff(t))\n",
    "display(ode)"
   ]
  },
  {
   "cell_type": "code",
   "execution_count": 56,
   "id": "8c73b327",
   "metadata": {
    "scrolled": true
   },
   "outputs": [
    {
     "data": {
      "text/latex": [
       "$\\displaystyle \\int\\limits^{\\xi{\\left(t \\right)}} \\sqrt{y^{3} A^{4} + 4 y^{2} A^{3} + 6 y A^{2} + 4 A + \\frac{1}{y}}\\, dy = - \\frac{1.0 t}{\\tau} + \\int\\limits^{\\xi_{0}} \\sqrt{y^{3} A^{4} + 4 y^{2} A^{3} + 6 y A^{2} + 4 A + \\frac{1}{y}}\\, dy$"
      ],
      "text/plain": [
       "Eq(Integral(sqrt(_y**3*A**4 + 4*_y**2*A**3 + 6*_y*A**2 + 4*A + 1/_y), (_y, xi(t))), -1.0*t/tau + Integral(sqrt(_y**3*A**4 + 4*_y**2*A**3 + 6*_y*A**2 + 4*A + 1/_y), (_y, xi0)))"
      ]
     },
     "metadata": {},
     "output_type": "display_data"
    }
   ],
   "source": [
    "ode_sol=sp.dsolve(ode,ics={xi(0):xi0})\n",
    "display(ode_sol)"
   ]
  },
  {
   "cell_type": "code",
   "execution_count": 80,
   "id": "55423393",
   "metadata": {},
   "outputs": [
    {
     "data": {
      "text/latex": [
       "$\\displaystyle - \\frac{\\left(A \\xi + 1\\right)^{2}}{\\sqrt{\\xi}}$"
      ],
      "text/plain": [
       "-(A*xi + 1)**2/sqrt(xi)"
      ]
     },
     "metadata": {},
     "output_type": "display_data"
    }
   ],
   "source": [
    "xi,xi0,xi_f,A,tau=sp.symbols('xi,xi0,xi_f,A,tau',positive=True,real=True)\n",
    "expr=-sp.sqrt((1+A*xi)**4/xi)\n",
    "display(expr)"
   ]
  },
  {
   "cell_type": "code",
   "execution_count": 97,
   "id": "427599ef",
   "metadata": {},
   "outputs": [
    {
     "data": {
      "text/latex": [
       "$\\displaystyle \\tau \\left(- \\frac{2 A^{2} \\xi^{\\frac{5}{2}}}{5} - \\frac{4 A \\xi^{\\frac{3}{2}}}{3} - 2 \\sqrt{\\xi}\\right)$"
      ],
      "text/plain": [
       "tau*(-2*A**2*xi**(5/2)/5 - 4*A*xi**(3/2)/3 - 2*sqrt(xi))"
      ]
     },
     "metadata": {},
     "output_type": "display_data"
    }
   ],
   "source": [
    "sol=expr.integrate(xi)*tau\n",
    "sol.simplify()\n",
    "display(sol)"
   ]
  },
  {
   "cell_type": "code",
   "execution_count": 99,
   "id": "d28b63c3",
   "metadata": {},
   "outputs": [
    {
     "data": {
      "text/latex": [
       "$\\displaystyle 0$"
      ],
      "text/plain": [
       "0"
      ]
     },
     "metadata": {},
     "output_type": "display_data"
    }
   ],
   "source": [
    "sol=sol.replace(xi,xi_f)-sol.replace(xi,xi0)\n",
    "sol.simplify()\n",
    "display(sol)"
   ]
  },
  {
   "cell_type": "code",
   "execution_count": null,
   "id": "cf576557",
   "metadata": {},
   "outputs": [],
   "source": []
  }
 ],
 "metadata": {
  "kernelspec": {
   "display_name": "Python 3 (ipykernel)",
   "language": "python",
   "name": "python3"
  },
  "language_info": {
   "codemirror_mode": {
    "name": "ipython",
    "version": 3
   },
   "file_extension": ".py",
   "mimetype": "text/x-python",
   "name": "python",
   "nbconvert_exporter": "python",
   "pygments_lexer": "ipython3",
   "version": "3.10.6"
  }
 },
 "nbformat": 4,
 "nbformat_minor": 5
}
