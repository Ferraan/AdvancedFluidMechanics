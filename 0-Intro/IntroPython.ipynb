{
 "cells": [
  {
   "cell_type": "markdown",
   "metadata": {},
   "source": [
    "# Introduction to scientific computation with Python\n",
    "***"
   ]
  },
  {
   "cell_type": "markdown",
   "metadata": {},
   "source": [
    "[Python](https://en.wikipedia.org/wiki/Python_(programming_language)) is a high level computational language. It is quite similar to Matlab, but with the advantage that is is open source, free and internet is [plenty of libraries](https://pypi.org/) that \n",
    "allow to solve a large variety of problems.\n",
    "\n",
    "The main libraries used in scientific computations are **[numpy](https://numpy.org/)** for numerical computation, **[sympy](https://www.sympy.org/en/index.html)** for Computer Albegra System (CAS), **[matplotlib](https://matplotlib.org/)** for plotting, and **[pandas](https://pandas.pydata.org/)** for data analysis. All this packages are collected in the **[scipy](https://www.scipy.org/)** ecosystem.\n",
    "\n",
    "One practical way to compute with python is a [Jupyter](https://jupyter.org/) notebook, like the present one. It allows to combine text, equations, graphs and pictures with code. One of the most interesting features of a Jupyter Notebook is that it is interactive. That means that the user can download, open and play with it. \n",
    "\n",
    "All that can be installed in any system (Windows, Mac, Linux,...) (and even in an android phone!) but it is highly recommended to install through an special distribution. The most popular is now [Anaconda](https://en.wikipedia.org/wiki/Anaconda_(Python_distribution)) that has free and paid versions. However, recently it has been launched an small multi-platform application called [Jupyterlab Desktop](https://github.com/jupyterlab/jupyterlab-desktop) that is very recommended because of its size and practicality."
   ]
  },
  {
   "cell_type": "markdown",
   "metadata": {},
   "source": [
    "## 1. Numpy\n",
    "\n",
    "Python is a powerful language. Its power lies mainly in its modulability. With naked python few interesting things can be done. But modules of libraries can be easily imported and used to perform almost everything we need.\n",
    "\n",
    "In maths and science, one of the main modules is numpy, which gives acces to numerical computations with arrays, matrix, functions, ... with optimized performance. \n",
    "\n",
    "To import a module in python is very easy (as long as it is installed in the system...). Just type"
   ]
  },
  {
   "cell_type": "code",
   "execution_count": 1,
   "metadata": {},
   "outputs": [],
   "source": [
    "import numpy"
   ]
  },
  {
   "cell_type": "markdown",
   "metadata": {},
   "source": [
    "and access any component of the library with, por example"
   ]
  },
  {
   "cell_type": "code",
   "execution_count": 2,
   "metadata": {},
   "outputs": [
    {
     "data": {
      "text/plain": [
       "1.0986122886681098"
      ]
     },
     "execution_count": 2,
     "metadata": {},
     "output_type": "execute_result"
    }
   ],
   "source": [
    "numpy.log(3)"
   ]
  },
  {
   "cell_type": "markdown",
   "metadata": {},
   "source": [
    "Another way to import a module is with "
   ]
  },
  {
   "cell_type": "code",
   "execution_count": 3,
   "metadata": {},
   "outputs": [],
   "source": [
    "from numpy import *"
   ]
  },
  {
   "cell_type": "markdown",
   "metadata": {},
   "source": [
    "and then you can use the same components without need of type the word _numpy_ everytime"
   ]
  },
  {
   "cell_type": "code",
   "execution_count": 4,
   "metadata": {},
   "outputs": [
    {
     "data": {
      "text/plain": [
       "1.0986122886681098"
      ]
     },
     "execution_count": 4,
     "metadata": {},
     "output_type": "execute_result"
    }
   ],
   "source": [
    "log(3)"
   ]
  },
  {
   "cell_type": "markdown",
   "metadata": {},
   "source": [
    "The last way is with"
   ]
  },
  {
   "cell_type": "code",
   "execution_count": 5,
   "metadata": {},
   "outputs": [
    {
     "data": {
      "text/plain": [
       "1.0986122886681098"
      ]
     },
     "execution_count": 5,
     "metadata": {},
     "output_type": "execute_result"
    }
   ],
   "source": [
    "import numpy as np\n",
    "np.log(3)"
   ]
  },
  {
   "cell_type": "markdown",
   "metadata": {},
   "source": [
    "This last is my favorite, but you can use whichever you prefer.\n",
    "\n",
    "If the module is not installed in the system it can be easily downloaded and installed with a `pip` (Package Installer for Python)  command in a python cell:\n",
    "\n",
    "> !pip install numpy\n",
    "\n",
    "The `!` symbols is to scape to shell to execute the command.\n",
    "\n",
    "To get fast information about any component of python or any module, just type a '?' at the end of the command"
   ]
  },
  {
   "cell_type": "code",
   "execution_count": 6,
   "metadata": {},
   "outputs": [],
   "source": [
    "np.log?"
   ]
  },
  {
   "cell_type": "markdown",
   "metadata": {},
   "source": [
    "## 2. Sympy\n",
    "\n",
    "With the library [_sympy_](https://peerj.com/articles/cs-103/) symbolic manipulation of mathematical equations can be performed, in a similar way as with Maple, Mathematica or Wolfram Alpha. \n",
    "\n",
    "The command \n",
    "\n",
    "```python\n",
    "try:\n",
    "    ...\n",
    "except:\n",
    "    ...\n",
    "```\n",
    "tries to execute something (in this case, it tries to import `sympy`) and, if it fails, run the command in `except:`, in this case, it install \n",
    "the version 1.7.1 of `sympy`."
   ]
  },
  {
   "cell_type": "code",
   "execution_count": 7,
   "metadata": {},
   "outputs": [],
   "source": [
    "try:\n",
    "    import sympy as sp\n",
    "except:\n",
    "    !pip install sympy==1.7.1"
   ]
  },
  {
   "cell_type": "markdown",
   "metadata": {},
   "source": [
    "The first step to perform symbolic computation is to declare the _symbols_ that are going to used"
   ]
  },
  {
   "cell_type": "code",
   "execution_count": 8,
   "metadata": {},
   "outputs": [],
   "source": [
    "x,y = sp.symbols('x,y')"
   ]
  },
  {
   "cell_type": "markdown",
   "metadata": {},
   "source": [
    "If, in addition, we include the command "
   ]
  },
  {
   "cell_type": "code",
   "execution_count": 9,
   "metadata": {},
   "outputs": [],
   "source": [
    "sp.init_printing()"
   ]
  },
  {
   "cell_type": "markdown",
   "metadata": {},
   "source": [
    "the ouput will be nicely rendered in a Jupyter notebook"
   ]
  },
  {
   "cell_type": "code",
   "execution_count": 10,
   "metadata": {},
   "outputs": [
    {
     "data": {
      "image/png": "[encoded data removed]",
      "text/latex": [
       "$\\displaystyle \\sqrt{x}$"
      ],
      "text/plain": [
       "√x"
      ]
     },
     "execution_count": 10,
     "metadata": {},
     "output_type": "execute_result"
    }
   ],
   "source": [
    "sp.sqrt(x)"
   ]
  },
  {
   "cell_type": "markdown",
   "metadata": {},
   "source": [
    "An expression can be build with our symbols"
   ]
  },
  {
   "cell_type": "code",
   "execution_count": 11,
   "metadata": {},
   "outputs": [
    {
     "data": {
      "image/png": "[encoded data removed]",
      "text/latex": [
       "$\\displaystyle - x^{3} + 2 x^{2} \\left(x - 1\\right) + 1$"
      ],
      "text/plain": [
       "   3      2            \n",
       "- x  + 2⋅x ⋅(x - 1) + 1"
      ]
     },
     "metadata": {},
     "output_type": "display_data"
    }
   ],
   "source": [
    "expr = 1+2*x**2*(x-1)-x**3\n",
    "display(expr)"
   ]
  },
  {
   "cell_type": "markdown",
   "metadata": {},
   "source": [
    "and it can be simplified, either with"
   ]
  },
  {
   "cell_type": "code",
   "execution_count": 12,
   "metadata": {},
   "outputs": [
    {
     "data": {
      "image/png": "[encoded data removed]",
      "text/latex": [
       "$\\displaystyle x^{3} - 2 x^{2} + 1$"
      ],
      "text/plain": [
       " 3      2    \n",
       "x  - 2⋅x  + 1"
      ]
     },
     "execution_count": 12,
     "metadata": {},
     "output_type": "execute_result"
    }
   ],
   "source": [
    "sp.simplify(expr)"
   ]
  },
  {
   "cell_type": "markdown",
   "metadata": {},
   "source": [
    "or with"
   ]
  },
  {
   "cell_type": "code",
   "execution_count": 13,
   "metadata": {},
   "outputs": [
    {
     "data": {
      "image/png": "[encoded data removed]",
      "text/latex": [
       "$\\displaystyle x^{3} - 2 x^{2} + 1$"
      ],
      "text/plain": [
       " 3      2    \n",
       "x  - 2⋅x  + 1"
      ]
     },
     "execution_count": 13,
     "metadata": {},
     "output_type": "execute_result"
    }
   ],
   "source": [
    "expr.simplify()"
   ]
  },
  {
   "cell_type": "markdown",
   "metadata": {},
   "source": [
    "Expressions can be factorized                                                                                           "
   ]
  },
  {
   "cell_type": "code",
   "execution_count": 14,
   "metadata": {},
   "outputs": [
    {
     "data": {
      "image/png": "[encoded data removed]",
      "text/latex": [
       "$\\displaystyle \\left(x - 1\\right) \\left(x^{2} - x - 1\\right)$"
      ],
      "text/plain": [
       "        ⎛ 2        ⎞\n",
       "(x - 1)⋅⎝x  - x - 1⎠"
      ]
     },
     "metadata": {},
     "output_type": "display_data"
    }
   ],
   "source": [
    "expr = expr.factor()\n",
    "display(expr)"
   ]
  },
  {
   "cell_type": "markdown",
   "metadata": {},
   "source": [
    "or expanded again"
   ]
  },
  {
   "cell_type": "code",
   "execution_count": 15,
   "metadata": {},
   "outputs": [
    {
     "data": {
      "image/png": "[encoded data removed]",
      "text/latex": [
       "$\\displaystyle x^{3} - 2 x^{2} + 1$"
      ],
      "text/plain": [
       " 3      2    \n",
       "x  - 2⋅x  + 1"
      ]
     },
     "metadata": {},
     "output_type": "display_data"
    }
   ],
   "source": [
    "expr = expr.expand()\n",
    "display(expr)"
   ]
  },
  {
   "cell_type": "markdown",
   "metadata": {},
   "source": [
    "We can **solve equations**, by defining an equality of two expressions with the _sympy.Eq()_ class"
   ]
  },
  {
   "cell_type": "code",
   "execution_count": 16,
   "metadata": {},
   "outputs": [
    {
     "data": {
      "image/png": "[encoded data removed]",
      "text/latex": [
       "$\\displaystyle y = x^{3} - 2 x^{2} + 1$"
      ],
      "text/plain": [
       "     3      2    \n",
       "y = x  - 2⋅x  + 1"
      ]
     },
     "metadata": {},
     "output_type": "display_data"
    }
   ],
   "source": [
    "equation = sp.Eq(y,expr)\n",
    "display(equation)"
   ]
  },
  {
   "cell_type": "code",
   "execution_count": 17,
   "metadata": {},
   "outputs": [
    {
     "data": {
      "image/png": "[encoded data removed]",
      "text/latex": [
       "$\\displaystyle \\left[ - \\frac{\\left(- \\frac{1}{2} - \\frac{\\sqrt{3} i}{2}\\right) \\sqrt[3]{- \\frac{27 y}{2} + \\frac{\\sqrt{\\left(11 - 27 y\\right)^{2} - 256}}{2} + \\frac{11}{2}}}{3} + \\frac{2}{3} - \\frac{4}{3 \\left(- \\frac{1}{2} - \\frac{\\sqrt{3} i}{2}\\right) \\sqrt[3]{- \\frac{27 y}{2} + \\frac{\\sqrt{\\left(11 - 27 y\\right)^{2} - 256}}{2} + \\frac{11}{2}}}, \\  - \\frac{\\left(- \\frac{1}{2} + \\frac{\\sqrt{3} i}{2}\\right) \\sqrt[3]{- \\frac{27 y}{2} + \\frac{\\sqrt{\\left(11 - 27 y\\right)^{2} - 256}}{2} + \\frac{11}{2}}}{3} + \\frac{2}{3} - \\frac{4}{3 \\left(- \\frac{1}{2} + \\frac{\\sqrt{3} i}{2}\\right) \\sqrt[3]{- \\frac{27 y}{2} + \\frac{\\sqrt{\\left(11 - 27 y\\right)^{2} - 256}}{2} + \\frac{11}{2}}}, \\  - \\frac{\\sqrt[3]{- \\frac{27 y}{2} + \\frac{\\sqrt{\\left(11 - 27 y\\right)^{2} - 256}}{2} + \\frac{11}{2}}}{3} + \\frac{2}{3} - \\frac{4}{3 \\sqrt[3]{- \\frac{27 y}{2} + \\frac{\\sqrt{\\left(11 - 27 y\\right)^{2} - 256}}{2} + \\frac{11}{2}}}\\right]$"
      ],
      "text/plain": [
       "⎡                     _______________________________________                 \n",
       "⎢                    ╱             ____________________                       \n",
       "⎢                   ╱             ╱            2                              \n",
       "⎢  ⎛  1   √3⋅ⅈ⎞    ╱     27⋅y   ╲╱  (11 - 27⋅y)  - 256    11                  \n",
       "⎢  ⎜- ─ - ────⎟⋅3 ╱    - ──── + ─────────────────────── + ──                  \n",
       "⎢  ⎝  2    2  ⎠ ╲╱        2                2              2     2             \n",
       "⎢- ────────────────────────────────────────────────────────── + ─ - ──────────\n",
       "⎢                              3                                3             \n",
       "⎢                                                                             \n",
       "⎢                                                                             \n",
       "⎢                                                                     ⎛  1   √\n",
       "⎢                                                                   3⋅⎜- ─ - ─\n",
       "⎣                                                                     ⎝  2    \n",
       "\n",
       "                                                                         _____\n",
       "                                                                        ╱     \n",
       "                                                                       ╱      \n",
       "                                                      ⎛  1   √3⋅ⅈ⎞    ╱     27\n",
       "                                                      ⎜- ─ + ────⎟⋅3 ╱    - ──\n",
       "                   4                                  ⎝  2    2  ⎠ ╲╱        2\n",
       "──────────────────────────────────────────────────, - ────────────────────────\n",
       "           _______________________________________                            \n",
       "          ╱             ____________________                                  \n",
       "         ╱             ╱            2                                         \n",
       "3⋅ⅈ⎞    ╱     27⋅y   ╲╱  (11 - 27⋅y)  - 256    11                             \n",
       "───⎟⋅3 ╱    - ──── + ─────────────────────── + ──                             \n",
       "2  ⎠ ╲╱        2                2              2                              \n",
       "\n",
       "__________________________________                                            \n",
       "        ____________________                                                  \n",
       "       ╱            2                                                         \n",
       "⋅y   ╲╱  (11 - 27⋅y)  - 256    11                                             \n",
       "── + ─────────────────────── + ──                                             \n",
       "                2              2     2                                4       \n",
       "────────────────────────────────── + ─ - ─────────────────────────────────────\n",
       "    3                                3                        ________________\n",
       "                                                             ╱             ___\n",
       "                                                            ╱             ╱   \n",
       "                                           ⎛  1   √3⋅ⅈ⎞    ╱     27⋅y   ╲╱  (1\n",
       "                                         3⋅⎜- ─ + ────⎟⋅3 ╱    - ──── + ──────\n",
       "                                           ⎝  2    2  ⎠ ╲╱        2           \n",
       "\n",
       "                                 _______________________________________      \n",
       "                                ╱             ____________________            \n",
       "                               ╱             ╱            2                   \n",
       "                              ╱     27⋅y   ╲╱  (11 - 27⋅y)  - 256    11       \n",
       "                           3 ╱    - ──── + ─────────────────────── + ──       \n",
       "                           ╲╱        2                2              2     2  \n",
       "───────────────────────, - ───────────────────────────────────────────── + ─ -\n",
       "_______________________                          3                         3  \n",
       "_________________                                                             \n",
       "         2                                                                    \n",
       "1 - 27⋅y)  - 256    11                                                        \n",
       "───────────────── + ──                                                        \n",
       "     2              2                                                         \n",
       "\n",
       "                                                ⎤\n",
       "                                                ⎥\n",
       "                                                ⎥\n",
       "                                                ⎥\n",
       "                                                ⎥\n",
       "                        4                       ⎥\n",
       " ───────────────────────────────────────────────⎥\n",
       "         _______________________________________⎥\n",
       "        ╱             ____________________      ⎥\n",
       "       ╱             ╱            2             ⎥\n",
       "      ╱     27⋅y   ╲╱  (11 - 27⋅y)  - 256    11 ⎥\n",
       " 3⋅3 ╱    - ──── + ─────────────────────── + ── ⎥\n",
       "   ╲╱        2                2              2  ⎦"
      ]
     },
     "metadata": {},
     "output_type": "display_data"
    }
   ],
   "source": [
    "x_sol = sp.solve(equation,x)\n",
    "display(x_sol)"
   ]
  },
  {
   "cell_type": "markdown",
   "metadata": {},
   "source": [
    "It gives 3 complex solutions. We can access to each of them as member of an array"
   ]
  },
  {
   "cell_type": "code",
   "execution_count": 18,
   "metadata": {},
   "outputs": [
    {
     "data": {
      "image/png": "[encoded data removed]",
      "text/latex": [
       "$\\displaystyle - \\frac{\\left(- \\frac{1}{2} - \\frac{\\sqrt{3} i}{2}\\right) \\sqrt[3]{- \\frac{27 y}{2} + \\frac{\\sqrt{\\left(11 - 27 y\\right)^{2} - 256}}{2} + \\frac{11}{2}}}{3} + \\frac{2}{3} - \\frac{4}{3 \\left(- \\frac{1}{2} - \\frac{\\sqrt{3} i}{2}\\right) \\sqrt[3]{- \\frac{27 y}{2} + \\frac{\\sqrt{\\left(11 - 27 y\\right)^{2} - 256}}{2} + \\frac{11}{2}}}$"
      ],
      "text/plain": [
       "                     _______________________________________                  \n",
       "                    ╱             ____________________                        \n",
       "                   ╱             ╱            2                               \n",
       "  ⎛  1   √3⋅ⅈ⎞    ╱     27⋅y   ╲╱  (11 - 27⋅y)  - 256    11                   \n",
       "  ⎜- ─ - ────⎟⋅3 ╱    - ──── + ─────────────────────── + ──                   \n",
       "  ⎝  2    2  ⎠ ╲╱        2                2              2     2              \n",
       "- ────────────────────────────────────────────────────────── + ─ - ───────────\n",
       "                              3                                3              \n",
       "                                                                              \n",
       "                                                                              \n",
       "                                                                     ⎛  1   √3\n",
       "                                                                   3⋅⎜- ─ - ──\n",
       "                                                                     ⎝  2    2\n",
       "\n",
       "                                                 \n",
       "                                                 \n",
       "                                                 \n",
       "                                                 \n",
       "                                                 \n",
       "                  4                              \n",
       "─────────────────────────────────────────────────\n",
       "          _______________________________________\n",
       "         ╱             ____________________      \n",
       "        ╱             ╱            2             \n",
       "⋅ⅈ⎞    ╱     27⋅y   ╲╱  (11 - 27⋅y)  - 256    11 \n",
       "──⎟⋅3 ╱    - ──── + ─────────────────────── + ── \n",
       "  ⎠ ╲╱        2                2              2  "
      ]
     },
     "metadata": {},
     "output_type": "display_data"
    }
   ],
   "source": [
    "display(x_sol[0])"
   ]
  },
  {
   "cell_type": "markdown",
   "metadata": {},
   "source": [
    "Or we can solve systems of equations"
   ]
  },
  {
   "cell_type": "code",
   "execution_count": 19,
   "metadata": {},
   "outputs": [
    {
     "data": {
      "image/png": "[encoded data removed]",
      "text/latex": [
       "$\\displaystyle x + 2 y - 1$"
      ],
      "text/plain": [
       "x + 2⋅y - 1"
      ]
     },
     "metadata": {},
     "output_type": "display_data"
    },
    {
     "data": {
      "image/png": "[encoded data removed]",
      "text/latex": [
       "$\\displaystyle x - y + 1$"
      ],
      "text/plain": [
       "x - y + 1"
      ]
     },
     "metadata": {},
     "output_type": "display_data"
    },
    {
     "data": {
      "image/png": "[encoded data removed]",
      "text/latex": [
       "$\\displaystyle \\left\\{ x : - \\frac{1}{3}, \\  y : \\frac{2}{3}\\right\\}$"
      ],
      "text/plain": [
       "{x: -1/3, y: 2/3}"
      ]
     },
     "metadata": {},
     "output_type": "display_data"
    }
   ],
   "source": [
    "eq1 = x + 2*y - 1\n",
    "display(eq1)\n",
    "eq2 = x - y + 1\n",
    "display(eq2)\n",
    "eq_sol = sp.solve([eq1,eq2],[x,y])\n",
    "display(eq_sol)"
   ]
  },
  {
   "cell_type": "markdown",
   "metadata": {},
   "source": [
    "We can make substitutions in an expression, with _subs()_"
   ]
  },
  {
   "cell_type": "code",
   "execution_count": 20,
   "metadata": {},
   "outputs": [
    {
     "data": {
      "image/png": "[encoded data removed]",
      "text/latex": [
       "$\\displaystyle \\left(x + 1\\right)^{3} - 2 \\left(x + 1\\right)^{2} + 1$"
      ],
      "text/plain": [
       "       3            2    \n",
       "(x + 1)  - 2⋅(x + 1)  + 1"
      ]
     },
     "metadata": {},
     "output_type": "display_data"
    }
   ],
   "source": [
    "expr = expr.subs(x,x+1)\n",
    "display(expr)"
   ]
  },
  {
   "cell_type": "markdown",
   "metadata": {},
   "source": [
    "or with _replace()_ that is often more powerful "
   ]
  },
  {
   "cell_type": "code",
   "execution_count": 21,
   "metadata": {},
   "outputs": [
    {
     "data": {
      "image/png": "[encoded data removed]",
      "text/latex": [
       "$\\displaystyle \\left(3 x + 1\\right)^{3} - 2 \\left(3 x + 1\\right)^{2} + 1$"
      ],
      "text/plain": [
       "         3              2    \n",
       "(3⋅x + 1)  - 2⋅(3⋅x + 1)  + 1"
      ]
     },
     "metadata": {},
     "output_type": "display_data"
    }
   ],
   "source": [
    "expr = expr.replace(x,3*x)\n",
    "display(expr)"
   ]
  },
  {
   "cell_type": "markdown",
   "metadata": {},
   "source": [
    "Several substitutions can be performed by means of a [dictionary](https://docs.python.org/3/tutorial/datastructures.html#dictionaries)"
   ]
  },
  {
   "cell_type": "code",
   "execution_count": 22,
   "metadata": {},
   "outputs": [
    {
     "data": {
      "image/png": "[encoded data removed]",
      "text/latex": [
       "$\\displaystyle \\cos{\\left(y \\right)} = x^{\\frac{3}{2}} - 2 x + 1$"
      ],
      "text/plain": [
       "          3/2          \n",
       "cos(y) = x    - 2⋅x + 1"
      ]
     },
     "metadata": {},
     "output_type": "display_data"
    }
   ],
   "source": [
    "changes = {y:sp.cos(y),x:sp.sqrt(x)}\n",
    "equation = equation.subs(changes)\n",
    "display(equation)"
   ]
  },
  {
   "cell_type": "markdown",
   "metadata": {},
   "source": [
    "We can also perform **numerical evaluations**.\n",
    "\n",
    "The best way is with a [lambda](https://docs.python.org/3/tutorial/controlflow.html?highlight=lambda#lambda-expressions) method that creates a function to evaluate any value"
   ]
  },
  {
   "cell_type": "code",
   "execution_count": 23,
   "metadata": {},
   "outputs": [
    {
     "data": {
      "image/png": "[encoded data removed]",
      "text/latex": [
       "$\\displaystyle 246.0$"
      ],
      "text/plain": [
       "246.0"
      ]
     },
     "execution_count": 23,
     "metadata": {},
     "output_type": "execute_result"
    }
   ],
   "source": [
    "expr_func = sp.lambdify(x,expr)\n",
    "expr_func(2.0)"
   ]
  },
  {
   "cell_type": "markdown",
   "metadata": {},
   "source": [
    "### Manipulating algebraic functions and solvind ODEs\n",
    "\n",
    "Besides symbols, we can define functions, and its derivatives"
   ]
  },
  {
   "cell_type": "code",
   "execution_count": 24,
   "metadata": {},
   "outputs": [
    {
     "data": {
      "image/png": "[encoded data removed]",
      "text/latex": [
       "$\\displaystyle f{\\left(x \\right)}$"
      ],
      "text/plain": [
       "f(x)"
      ]
     },
     "metadata": {},
     "output_type": "display_data"
    },
    {
     "data": {
      "image/png": "[encoded data removed]",
      "text/latex": [
       "$\\displaystyle \\frac{d}{d x} f{\\left(x \\right)}$"
      ],
      "text/plain": [
       "d       \n",
       "──(f(x))\n",
       "dx      "
      ]
     },
     "metadata": {},
     "output_type": "display_data"
    },
    {
     "data": {
      "image/png": "[encoded data removed]",
      "text/latex": [
       "$\\displaystyle \\frac{d^{2}}{d x^{2}} f{\\left(x \\right)}$"
      ],
      "text/plain": [
       "  2      \n",
       " d       \n",
       "───(f(x))\n",
       "  2      \n",
       "dx       "
      ]
     },
     "metadata": {},
     "output_type": "display_data"
    }
   ],
   "source": [
    "f = sp.Function('f')\n",
    "display(f(x))\n",
    "display(f(x).diff(x))\n",
    "display(f(x).diff(x,2))"
   ]
  },
  {
   "cell_type": "markdown",
   "metadata": {},
   "source": [
    "In this case, the function $f(x)$ is not defined and `sympy` can just represents symbolicaly its derivative. But we can\n",
    "make the derivative of any expression"
   ]
  },
  {
   "cell_type": "code",
   "execution_count": 25,
   "metadata": {},
   "outputs": [
    {
     "data": {
      "image/png": "[encoded data removed]",
      "text/latex": [
       "$\\displaystyle - 36 x + 9 \\left(3 x + 1\\right)^{2} - 12$"
      ],
      "text/plain": [
       "                   2     \n",
       "-36⋅x + 9⋅(3⋅x + 1)  - 12"
      ]
     },
     "execution_count": 25,
     "metadata": {},
     "output_type": "execute_result"
    }
   ],
   "source": [
    "expr.diff(x)"
   ]
  },
  {
   "cell_type": "code",
   "execution_count": 26,
   "metadata": {},
   "outputs": [
    {
     "data": {
      "image/png": "[encoded data removed]",
      "text/latex": [
       "$\\displaystyle 18 \\cdot \\left(9 x + 1\\right)$"
      ],
      "text/plain": [
       "18⋅(9⋅x + 1)"
      ]
     },
     "execution_count": 26,
     "metadata": {},
     "output_type": "execute_result"
    }
   ],
   "source": [
    "expr.diff(x,2)"
   ]
  },
  {
   "cell_type": "markdown",
   "metadata": {},
   "source": [
    "Also we can, of course, integrate a function"
   ]
  },
  {
   "cell_type": "code",
   "execution_count": 27,
   "metadata": {},
   "outputs": [
    {
     "data": {
      "image/png": "[encoded data removed]",
      "text/latex": [
       "$\\displaystyle \\int f{\\left(x \\right)}\\, dx$"
      ],
      "text/plain": [
       "⌠        \n",
       "⎮ f(x) dx\n",
       "⌡        "
      ]
     },
     "execution_count": 27,
     "metadata": {},
     "output_type": "execute_result"
    }
   ],
   "source": [
    "f(x).integrate()"
   ]
  },
  {
   "cell_type": "code",
   "execution_count": 28,
   "metadata": {},
   "outputs": [
    {
     "data": {
      "image/png": "[encoded data removed]",
      "text/latex": [
       "$\\displaystyle \\int\\limits_{0}^{\\pi} f{\\left(x \\right)}\\, dx$"
      ],
      "text/plain": [
       "π        \n",
       "⌠        \n",
       "⎮ f(x) dx\n",
       "⌡        \n",
       "0        "
      ]
     },
     "execution_count": 28,
     "metadata": {},
     "output_type": "execute_result"
    }
   ],
   "source": [
    "f(x).integrate((x,0,sp.pi))"
   ]
  },
  {
   "cell_type": "code",
   "execution_count": 29,
   "metadata": {},
   "outputs": [
    {
     "data": {
      "image/png": "[encoded data removed]",
      "text/latex": [
       "$\\displaystyle \\frac{27 x^{4}}{4} + 3 x^{3} - \\frac{3 x^{2}}{2}$"
      ],
      "text/plain": [
       "    4             2\n",
       "27⋅x       3   3⋅x \n",
       "───── + 3⋅x  - ────\n",
       "  4             2  "
      ]
     },
     "execution_count": 29,
     "metadata": {},
     "output_type": "execute_result"
    }
   ],
   "source": [
    "expr.integrate()"
   ]
  },
  {
   "cell_type": "code",
   "execution_count": 30,
   "metadata": {},
   "outputs": [
    {
     "data": {
      "image/png": "[encoded data removed]",
      "text/latex": [
       "$\\displaystyle \\frac{33}{4}$"
      ],
      "text/plain": [
       "33/4"
      ]
     },
     "execution_count": 30,
     "metadata": {},
     "output_type": "execute_result"
    }
   ],
   "source": [
    "expr.integrate((x,0,1))"
   ]
  },
  {
   "cell_type": "markdown",
   "metadata": {},
   "source": [
    "We can calculate series expansion, both symbolicaly"
   ]
  },
  {
   "cell_type": "code",
   "execution_count": 31,
   "metadata": {},
   "outputs": [
    {
     "data": {
      "text/latex": [
       "$\\displaystyle f{\\left(0 \\right)} + x \\left. \\frac{d}{d \\xi} f{\\left(\\xi \\right)} \\right|_{\\substack{ \\xi=0 }} + \\frac{x^{2} \\left. \\frac{d^{2}}{d \\xi^{2}} f{\\left(\\xi \\right)} \\right|_{\\substack{ \\xi=0 }}}{2} + \\frac{x^{3} \\left. \\frac{d^{3}}{d \\xi^{3}} f{\\left(\\xi \\right)} \\right|_{\\substack{ \\xi=0 }}}{6} + \\frac{x^{4} \\left. \\frac{d^{4}}{d \\xi^{4}} f{\\left(\\xi \\right)} \\right|_{\\substack{ \\xi=0 }}}{24} + \\frac{x^{5} \\left. \\frac{d^{5}}{d \\xi^{5}} f{\\left(\\xi \\right)} \\right|_{\\substack{ \\xi=0 }}}{120} + O\\left(x^{6}\\right)$"
      ],
      "text/plain": [
       "                             ⎛  2      ⎞│         ⎛  3      ⎞│         ⎛  4   \n",
       "                           2 ⎜ d       ⎟│       3 ⎜ d       ⎟│       4 ⎜ d    \n",
       "                          x ⋅⎜───(f(ξ))⎟│      x ⋅⎜───(f(ξ))⎟│      x ⋅⎜───(f(\n",
       "                             ⎜  2      ⎟│         ⎜  3      ⎟│         ⎜  4   \n",
       "         ⎛d       ⎞│         ⎝dξ       ⎠│ξ=0      ⎝dξ       ⎠│ξ=0      ⎝dξ    \n",
       "f(0) + x⋅⎜──(f(ξ))⎟│    + ────────────────── + ────────────────── + ──────────\n",
       "         ⎝dξ      ⎠│ξ=0           2                    6                    24\n",
       "\n",
       "   ⎞│         ⎛  5      ⎞│           \n",
       "   ⎟│       5 ⎜ d       ⎟│           \n",
       "ξ))⎟│      x ⋅⎜───(f(ξ))⎟│           \n",
       "   ⎟│         ⎜  5      ⎟│           \n",
       "   ⎠│ξ=0      ⎝dξ       ⎠│ξ=0    ⎛ 6⎞\n",
       "──────── + ────────────────── + O⎝x ⎠\n",
       "                  120                "
      ]
     },
     "execution_count": 31,
     "metadata": {},
     "output_type": "execute_result"
    }
   ],
   "source": [
    "f(x).series(x)"
   ]
  },
  {
   "cell_type": "code",
   "execution_count": 32,
   "metadata": {},
   "outputs": [
    {
     "data": {
      "text/latex": [
       "$\\displaystyle f{\\left(1 \\right)} + \\left(x - 1\\right) \\left. \\frac{d}{d \\xi_{1}} f{\\left(\\xi_{1} \\right)} \\right|_{\\substack{ \\xi_{1}=1 }} + \\frac{\\left(x - 1\\right)^{2} \\left. \\frac{d^{2}}{d \\xi_{1}^{2}} f{\\left(\\xi_{1} \\right)} \\right|_{\\substack{ \\xi_{1}=1 }}}{2} + \\frac{\\left(x - 1\\right)^{3} \\left. \\frac{d^{3}}{d \\xi_{1}^{3}} f{\\left(\\xi_{1} \\right)} \\right|_{\\substack{ \\xi_{1}=1 }}}{6} + \\frac{\\left(x - 1\\right)^{4} \\left. \\frac{d^{4}}{d \\xi_{1}^{4}} f{\\left(\\xi_{1} \\right)} \\right|_{\\substack{ \\xi_{1}=1 }}}{24} + \\frac{\\left(x - 1\\right)^{5} \\left. \\frac{d^{5}}{d \\xi_{1}^{5}} f{\\left(\\xi_{1} \\right)} \\right|_{\\substack{ \\xi_{1}=1 }}}{120} + O\\left(\\left(x - 1\\right)^{6}; x\\rightarrow 1\\right)$"
      ],
      "text/plain": [
       "                                            ⎛  2        ⎞│                ⎛  3\n",
       "                                          2 ⎜ d         ⎟│              3 ⎜ d \n",
       "                                   (x - 1) ⋅⎜────(f(ξ₁))⎟│       (x - 1) ⋅⎜───\n",
       "                                            ⎜   2       ⎟│                ⎜   \n",
       "               ⎛ d        ⎞│                ⎝dξ₁        ⎠│ξ₁=1            ⎝dξ₁\n",
       "f(1) + (x - 1)⋅⎜───(f(ξ₁))⎟│     + ─────────────────────────── + ─────────────\n",
       "               ⎝dξ₁       ⎠│ξ₁=1                2                             \n",
       "\n",
       "        ⎞│                ⎛  4        ⎞│                ⎛  5        ⎞│        \n",
       "        ⎟│              4 ⎜ d         ⎟│              5 ⎜ d         ⎟│        \n",
       "─(f(ξ₁))⎟│       (x - 1) ⋅⎜────(f(ξ₁))⎟│       (x - 1) ⋅⎜────(f(ξ₁))⎟│        \n",
       "3       ⎟│                ⎜   4       ⎟│                ⎜   5       ⎟│        \n",
       "        ⎠│ξ₁=1            ⎝dξ₁        ⎠│ξ₁=1            ⎝dξ₁        ⎠│ξ₁=1    \n",
       "────────────── + ─────────────────────────── + ─────────────────────────── + O\n",
       "6                             24                           120                \n",
       "\n",
       "                 \n",
       "                 \n",
       "                 \n",
       "                 \n",
       "⎛       6       ⎞\n",
       "⎝(x - 1) ; x → 1⎠\n",
       "                 "
      ]
     },
     "execution_count": 32,
     "metadata": {},
     "output_type": "execute_result"
    }
   ],
   "source": [
    "f(x).series(x,1)"
   ]
  },
  {
   "cell_type": "code",
   "execution_count": 33,
   "metadata": {},
   "outputs": [
    {
     "data": {
      "text/latex": [
       "$\\displaystyle f{\\left(1 \\right)} + \\left(x - 1\\right) \\left. \\frac{d}{d \\xi_{1}} f{\\left(\\xi_{1} \\right)} \\right|_{\\substack{ \\xi_{1}=1 }} + O\\left(\\left(x - 1\\right)^{2}; x\\rightarrow 1\\right)$"
      ],
      "text/plain": [
       "               ⎛ d        ⎞│        ⎛       2       ⎞\n",
       "f(1) + (x - 1)⋅⎜───(f(ξ₁))⎟│     + O⎝(x - 1) ; x → 1⎠\n",
       "               ⎝dξ₁       ⎠│ξ₁=1                     "
      ]
     },
     "execution_count": 33,
     "metadata": {},
     "output_type": "execute_result"
    }
   ],
   "source": [
    "f(x).series(x,1,n=2)"
   ]
  },
  {
   "cell_type": "code",
   "execution_count": 34,
   "metadata": {},
   "outputs": [
    {
     "data": {
      "text/latex": [
       "$\\displaystyle \\left(x - 1\\right) \\left. \\frac{d}{d \\xi_{1}} f{\\left(\\xi_{1} \\right)} \\right|_{\\substack{ \\xi_{1}=1 }} + f{\\left(1 \\right)}$"
      ],
      "text/plain": [
       "        ⎛ d        ⎞│           \n",
       "(x - 1)⋅⎜───(f(ξ₁))⎟│     + f(1)\n",
       "        ⎝dξ₁       ⎠│ξ₁=1       "
      ]
     },
     "execution_count": 34,
     "metadata": {},
     "output_type": "execute_result"
    }
   ],
   "source": [
    "f(x).series(x,1,n=2).removeO()"
   ]
  },
  {
   "cell_type": "markdown",
   "metadata": {},
   "source": [
    "or explicitely"
   ]
  },
  {
   "cell_type": "code",
   "execution_count": 35,
   "metadata": {},
   "outputs": [
    {
     "data": {
      "image/png": "[encoded data removed]",
      "text/latex": [
       "$\\displaystyle \\sqrt{x}$"
      ],
      "text/plain": [
       "√x"
      ]
     },
     "metadata": {},
     "output_type": "display_data"
    }
   ],
   "source": [
    "sqrt_x = sp.sqrt(x)\n",
    "display(sqrt_x)"
   ]
  },
  {
   "cell_type": "code",
   "execution_count": 36,
   "metadata": {},
   "outputs": [
    {
     "data": {
      "image/png": "[encoded data removed]",
      "text/latex": [
       "$\\displaystyle \\frac{1}{2} - \\frac{\\left(x - 1\\right)^{2}}{8} + \\frac{x}{2} + O\\left(\\left(x - 1\\right)^{3}; x\\rightarrow 1\\right)$"
      ],
      "text/plain": [
       "           2                         \n",
       "1   (x - 1)    x    ⎛       3       ⎞\n",
       "─ - ──────── + ─ + O⎝(x - 1) ; x → 1⎠\n",
       "2      8       2                     "
      ]
     },
     "execution_count": 36,
     "metadata": {},
     "output_type": "execute_result"
    }
   ],
   "source": [
    "sqrt_x.series(x,1,n=3)"
   ]
  },
  {
   "cell_type": "code",
   "execution_count": 37,
   "metadata": {},
   "outputs": [
    {
     "data": {
      "image/png": "[encoded data removed]",
      "text/latex": [
       "$\\displaystyle \\frac{x}{2} - \\frac{\\left(x - 1\\right)^{2}}{8} + \\frac{1}{2}$"
      ],
      "text/plain": [
       "           2    \n",
       "x   (x - 1)    1\n",
       "─ - ──────── + ─\n",
       "2      8       2"
      ]
     },
     "execution_count": 37,
     "metadata": {},
     "output_type": "execute_result"
    }
   ],
   "source": [
    "sqrt_x.series(x,1,n=3).removeO()"
   ]
  },
  {
   "cell_type": "markdown",
   "metadata": {},
   "source": [
    "*** \n",
    "\n",
    "Let's now solve an ODE\n",
    "\n",
    "Let's consider the first order ODE for Newton's cooling law\n",
    "\n",
    "$$ \\frac{\\text{d} T}{\\text{d}t} = -k \\left(T(t) - T_a\\right) $$\n",
    "\n",
    "with $T(0) = T_0$."
   ]
  },
  {
   "cell_type": "code",
   "execution_count": 38,
   "metadata": {},
   "outputs": [],
   "source": [
    "t,k,Ta,T0 = sp.symbols('t,k,T_a,T_0')\n",
    "T = sp.Function(\"T\")"
   ]
  },
  {
   "cell_type": "code",
   "execution_count": 39,
   "metadata": {},
   "outputs": [
    {
     "data": {
      "image/png": "[encoded data removed]",
      "text/latex": [
       "$\\displaystyle \\frac{d}{d t} T{\\left(t \\right)} = - k \\left(- T_{a} + T{\\left(t \\right)}\\right)$"
      ],
      "text/plain": [
       "d                         \n",
       "──(T(t)) = -k⋅(-Tₐ + T(t))\n",
       "dt                        "
      ]
     },
     "metadata": {},
     "output_type": "display_data"
    }
   ],
   "source": [
    "ode = sp.Eq(T(t).diff(t),-k*(T(t)-Ta))\n",
    "display(ode)"
   ]
  },
  {
   "cell_type": "code",
   "execution_count": 40,
   "metadata": {},
   "outputs": [
    {
     "data": {
      "image/png": "[encoded data removed]",
      "text/latex": [
       "$\\displaystyle T{\\left(t \\right)} = C_{1} e^{- k t} + T_{a}$"
      ],
      "text/plain": [
       "           -k⋅t     \n",
       "T(t) = C₁⋅ℯ     + Tₐ"
      ]
     },
     "metadata": {},
     "output_type": "display_data"
    }
   ],
   "source": [
    "ode_sol = sp.dsolve(ode)\n",
    "display(ode_sol)"
   ]
  },
  {
   "cell_type": "markdown",
   "metadata": {},
   "source": [
    "and it can be done directly with the initial condition "
   ]
  },
  {
   "cell_type": "code",
   "execution_count": 41,
   "metadata": {},
   "outputs": [
    {
     "data": {
      "image/png": "[encoded data removed]",
      "text/latex": [
       "$\\displaystyle T{\\left(t \\right)} = T_{a} + \\left(T_{0} - T_{a}\\right) e^{- k t}$"
      ],
      "text/plain": [
       "                       -k⋅t\n",
       "T(t) = Tₐ + (T₀ - Tₐ)⋅ℯ    "
      ]
     },
     "metadata": {},
     "output_type": "display_data"
    }
   ],
   "source": [
    "ode_sol = sp.dsolve(ode,ics={T(0):T0})\n",
    "display(ode_sol)"
   ]
  },
  {
   "cell_type": "markdown",
   "metadata": {},
   "source": [
    "***\n",
    "For a second order ODE, let's consider a damped harmonic oscillator"
   ]
  },
  {
   "cell_type": "code",
   "execution_count": 42,
   "metadata": {},
   "outputs": [
    {
     "data": {
      "image/png": "[encoded data removed]",
      "text/latex": [
       "$\\displaystyle 2 \\gamma \\omega_{0} \\frac{d}{d t} x{\\left(t \\right)} + \\omega_{0}^{2} x{\\left(t \\right)} + \\frac{d^{2}}{d t^{2}} x{\\left(t \\right)} = 0$"
      ],
      "text/plain": [
       "                               2          \n",
       "       d            2         d           \n",
       "2⋅γ⋅ω₀⋅──(x(t)) + ω₀ ⋅x(t) + ───(x(t)) = 0\n",
       "       dt                      2          \n",
       "                             dt           "
      ]
     },
     "metadata": {},
     "output_type": "display_data"
    }
   ],
   "source": [
    "t,omega0,gamma = sp.symbols('t,omega0,gamma',positive=True)\n",
    "x = sp.Function('x')\n",
    "ode2 = sp.Eq(x(t).diff(t,2)+2*gamma*omega0*x(t).diff(t)+omega0**2*x(t),0)\n",
    "display(ode2)"
   ]
  },
  {
   "cell_type": "code",
   "execution_count": 43,
   "metadata": {},
   "outputs": [
    {
     "data": {
      "image/png": "[encoded data removed]",
      "text/latex": [
       "$\\displaystyle x{\\left(t \\right)} = C_{1} e^{\\omega_{0} t \\left(- \\gamma + \\sqrt{\\gamma - 1} \\sqrt{\\gamma + 1}\\right)} + C_{2} e^{- \\omega_{0} t \\left(\\gamma + \\sqrt{\\gamma - 1} \\sqrt{\\gamma + 1}\\right)}$"
      ],
      "text/plain": [
       "                ⎛       _______   _______⎞             ⎛      _______   ______\n",
       "           ω₀⋅t⋅⎝-γ + ╲╱ γ - 1 ⋅╲╱ γ + 1 ⎠       -ω₀⋅t⋅⎝γ + ╲╱ γ - 1 ⋅╲╱ γ + 1\n",
       "x(t) = C₁⋅ℯ                                + C₂⋅ℯ                             \n",
       "\n",
       "_⎞\n",
       " ⎠\n",
       "  "
      ]
     },
     "metadata": {},
     "output_type": "display_data"
    }
   ],
   "source": [
    "ode2_sol = sp.dsolve(ode2)\n",
    "display(ode2_sol)"
   ]
  },
  {
   "cell_type": "markdown",
   "metadata": {},
   "source": [
    "The boundary conditions are that $x=1$ and its derivative is 0 for $t=0$."
   ]
  },
  {
   "cell_type": "code",
   "execution_count": 44,
   "metadata": {},
   "outputs": [
    {
     "data": {
      "image/png": "[encoded data removed]",
      "text/latex": [
       "$\\displaystyle x{\\left(t \\right)} = \\left(- \\frac{\\gamma}{2 \\sqrt{\\gamma - 1} \\sqrt{\\gamma + 1}} + \\frac{1}{2}\\right) e^{- \\omega_{0} t \\left(\\gamma + \\sqrt{\\gamma - 1} \\sqrt{\\gamma + 1}\\right)} + \\left(\\frac{\\gamma}{2 \\sqrt{\\gamma - 1} \\sqrt{\\gamma + 1}} + \\frac{1}{2}\\right) e^{\\omega_{0} t \\left(- \\gamma + \\sqrt{\\gamma - 1} \\sqrt{\\gamma + 1}\\right)}$"
      ],
      "text/plain": [
       "                                            ⎛      _______   _______⎞         \n",
       "       ⎛            γ             1⎞  -ω₀⋅t⋅⎝γ + ╲╱ γ - 1 ⋅╲╱ γ + 1 ⎠   ⎛     \n",
       "x(t) = ⎜- ───────────────────── + ─⎟⋅ℯ                                + ⎜─────\n",
       "       ⎜      _______   _______   2⎟                                    ⎜    _\n",
       "       ⎝  2⋅╲╱ γ - 1 ⋅╲╱ γ + 1     ⎠                                    ⎝2⋅╲╱ \n",
       "\n",
       "                            ⎛       _______   _______⎞\n",
       "     γ             1⎞  ω₀⋅t⋅⎝-γ + ╲╱ γ - 1 ⋅╲╱ γ + 1 ⎠\n",
       "──────────────── + ─⎟⋅ℯ                               \n",
       "______   _______   2⎟                                 \n",
       "γ - 1 ⋅╲╱ γ + 1     ⎠                                 "
      ]
     },
     "metadata": {},
     "output_type": "display_data"
    }
   ],
   "source": [
    "ics = {x(0):1,x(t).diff(t).subs(t,0):0}\n",
    "ode2_sol = sp.dsolve(ode2,ics=ics)\n",
    "display(ode2_sol)"
   ]
  },
  {
   "cell_type": "markdown",
   "metadata": {},
   "source": [
    "***\n",
    "\n",
    "We see now how to plot a particular case of this equations by using [matplotlib](https://matplotlib.org/)\n",
    "\n",
    "we are going to consider the case $\\omega_0 = 2\\pi$ and $\\gamma = 0.1$"
   ]
  },
  {
   "cell_type": "code",
   "execution_count": 45,
   "metadata": {},
   "outputs": [],
   "source": [
    "import matplotlib.pyplot as plt\n",
    "%matplotlib inline"
   ]
  },
  {
   "cell_type": "code",
   "execution_count": 46,
   "metadata": {},
   "outputs": [
    {
     "data": {
      "image/png": "[encoded data removed]",
      "text/plain": [
       "<Figure size 800x400 with 1 Axes>"
      ]
     },
     "metadata": {},
     "output_type": "display_data"
    }
   ],
   "source": [
    "values = {omega0: 2*sp.pi,gamma:0.1}\n",
    "fig,ax = plt.subplots(figsize=(8,4))\n",
    "tt = np.linspace(0,3,250)\n",
    "x_t = sp.lambdify(t,ode2_sol.rhs.subs(values))\n",
    "ax.plot(tt,x_t(tt).real) # There are some complex results. We take only the real part\n",
    "ax.set_xlabel(r'$t$')\n",
    "ax.set_ylabel(r'$x(t)$')\n",
    "ax.grid(which='major',axis='both')"
   ]
  },
  {
   "cell_type": "markdown",
   "metadata": {},
   "source": [
    "### Example: Solving the equation of motion of a roquet\n",
    "\n",
    "In this example we are going to use `sympy` to solve the equation of motion of a roquet, as described in many basic Fluid Mechanics textbook. See, for instance, example 3.12 of [White's book](https://discovery.upc.edu/permalink/34CSUC_UPC/11q3oqt/alma991004874831006711)"
   ]
  },
  {
   "cell_type": "code",
   "execution_count": 47,
   "metadata": {},
   "outputs": [],
   "source": [
    "import sympy as sp"
   ]
  },
  {
   "cell_type": "code",
   "execution_count": 48,
   "metadata": {},
   "outputs": [
    {
     "data": {
      "image/png": "[encoded data removed]",
      "text/latex": [
       "$\\displaystyle \\left(\\dot{m} t + m_{0}\\right) \\frac{d}{d t} v{\\left(t \\right)} = - \\dot{m} v_{g}$"
      ],
      "text/plain": [
       "                 d                      \n",
       "(\\dot{m}⋅t + m₀)⋅──(v(t)) = -\\dot{m}⋅v_g\n",
       "                 dt                     "
      ]
     },
     "metadata": {},
     "output_type": "display_data"
    }
   ],
   "source": [
    "m0,mDot,t,vg = sp.symbols('m_0,\\dot{m},t,v_g')\n",
    "v = sp.Function('v')\n",
    "ode = sp.Eq((m0+mDot*t)*v(t).diff(t),-mDot*vg)\n",
    "display(ode)"
   ]
  },
  {
   "cell_type": "code",
   "execution_count": 49,
   "metadata": {},
   "outputs": [
    {
     "data": {
      "image/png": "[encoded data removed]",
      "text/latex": [
       "$\\displaystyle v{\\left(t \\right)} = v_{g} \\log{\\left(m_{0} \\right)} - v_{g} \\log{\\left(\\dot{m} t + m_{0} \\right)}$"
      ],
      "text/plain": [
       "v(t) = v_g⋅log(m₀) - v_g⋅log(\\dot{m}⋅t + m₀)"
      ]
     },
     "metadata": {},
     "output_type": "display_data"
    }
   ],
   "source": [
    "condCont = {v(0):0}\n",
    "sol = sp.dsolve(ode,ics=condCont)\n",
    "display(sol)"
   ]
  },
  {
   "cell_type": "markdown",
   "metadata": {},
   "source": [
    "We test and plot the solutions with some random values:\n",
    "\n",
    "$$\n",
    " \\dot{m} = -1\\;\\textrm{kg/s} \\\\\n",
    " m_0 = 400\\;\\textrm{Kg} \\\\\n",
    " v_g = 10\\;\\textrm{m/s}\n",
    "$$\n"
   ]
  },
  {
   "cell_type": "code",
   "execution_count": 50,
   "metadata": {},
   "outputs": [],
   "source": [
    "values = {mDot:-1,m0:400,vg:10}\n",
    "v_t = sp.lambdify(t,sol.rhs.subs(values))"
   ]
  },
  {
   "cell_type": "code",
   "execution_count": 51,
   "metadata": {},
   "outputs": [
    {
     "data": {
      "image/png": "[encoded data removed]",
      "text/plain": [
       "<Figure size 800x400 with 1 Axes>"
      ]
     },
     "metadata": {},
     "output_type": "display_data"
    }
   ],
   "source": [
    "import matplotlib.pyplot as plt\n",
    "import numpy as np\n",
    "tt = np.linspace(0,200,250)\n",
    "vtt = v_t(tt)\n",
    "fig,ax = plt.subplots(figsize=(8,4))\n",
    "ax.plot(tt,vtt)\n",
    "ax.set_xlabel(r'$t$ [s]')\n",
    "ax.set_ylabel(r'$v$ [m/s]');"
   ]
  },
  {
   "cell_type": "code",
   "execution_count": 52,
   "metadata": {},
   "outputs": [
    {
     "data": {
      "image/png": "[encoded data removed]",
      "text/latex": [
       "$\\displaystyle - t v_{g} \\log{\\left(\\dot{m} t + m_{0} \\right)} + t \\left(v_{g} \\log{\\left(m_{0} \\right)} + v_{g}\\right) + \\frac{m_{0} v_{g} \\log{\\left(m_{0} \\right)}}{\\dot{m}} - \\frac{m_{0} v_{g} \\log{\\left(\\dot{m} t + m_{0} \\right)}}{\\dot{m}}$"
      ],
      "text/plain": [
       "                                                     m₀⋅v_g⋅log(m₀)   m₀⋅v_g⋅l\n",
       "-t⋅v_g⋅log(\\dot{m}⋅t + m₀) + t⋅(v_g⋅log(m₀) + v_g) + ────────────── - ────────\n",
       "                                                        \\dot{m}               \n",
       "\n",
       "og(\\dot{m}⋅t + m₀)\n",
       "──────────────────\n",
       " \\dot{m}          "
      ]
     },
     "metadata": {},
     "output_type": "display_data"
    }
   ],
   "source": [
    "x = sol.rhs.integrate((t,0,t))\n",
    "display(x)"
   ]
  },
  {
   "cell_type": "code",
   "execution_count": 53,
   "metadata": {},
   "outputs": [
    {
     "data": {
      "image/png": "[encoded data removed]",
      "text/plain": [
       "<Figure size 800x400 with 1 Axes>"
      ]
     },
     "metadata": {},
     "output_type": "display_data"
    }
   ],
   "source": [
    "x_t = sp.lambdify(t,x.subs(values))\n",
    "xtt = x_t(tt)\n",
    "fig,ax = plt.subplots(figsize=(8,4))\n",
    "ax.plot(tt,xtt)\n",
    "ax.set_xlabel(r'$t$ [s]')\n",
    "ax.set_ylabel(r'$x$ [m]');"
   ]
  },
  {
   "cell_type": "markdown",
   "metadata": {},
   "source": [
    "## 3. Pandas\n",
    "\n",
    "Pandas is a library for data analysis. Is some kind of powerful datasheet. \n",
    "Documentation is [here](https://pandas.pydata.org/pandas-docs/stable/index.html#).\n",
    "\n",
    "The two main data structures are *Series* and *DataFrame*\n",
    "\n",
    "### Series\n",
    "\n",
    "A Series is an array that can be indexed with labels instead of integers\n",
    "\n",
    "For example, we can make a Series with grades in some subjects "
   ]
  },
  {
   "cell_type": "code",
   "execution_count": 54,
   "metadata": {},
   "outputs": [],
   "source": [
    "import pandas as pd"
   ]
  },
  {
   "cell_type": "code",
   "execution_count": 110,
   "metadata": {},
   "outputs": [
    {
     "data": {
      "text/plain": [
       "0    5.5\n",
       "1    7.6\n",
       "2    4.3\n",
       "3    8.6\n",
       "4    6.5\n",
       "dtype: float64"
      ]
     },
     "execution_count": 110,
     "metadata": {},
     "output_type": "execute_result"
    }
   ],
   "source": [
    "grades = pd.Series([5.5,7.6,4.3,8.6,6.5])\n",
    "grades"
   ]
  },
  {
   "cell_type": "code",
   "execution_count": 111,
   "metadata": {},
   "outputs": [
    {
     "data": {
      "text/plain": [
       "RangeIndex(start=0, stop=5, step=1)"
      ]
     },
     "execution_count": 111,
     "metadata": {},
     "output_type": "execute_result"
    }
   ],
   "source": [
    "grades.index"
   ]
  },
  {
   "cell_type": "markdown",
   "metadata": {},
   "source": [
    "This is the array inside the Series"
   ]
  },
  {
   "cell_type": "code",
   "execution_count": 112,
   "metadata": {},
   "outputs": [
    {
     "data": {
      "text/plain": [
       "array([5.5, 7.6, 4.3, 8.6, 6.5])"
      ]
     },
     "execution_count": 112,
     "metadata": {},
     "output_type": "execute_result"
    }
   ],
   "source": [
    "grades.values"
   ]
  },
  {
   "cell_type": "markdown",
   "metadata": {},
   "source": [
    "And now we can changes index"
   ]
  },
  {
   "cell_type": "code",
   "execution_count": 113,
   "metadata": {},
   "outputs": [
    {
     "data": {
      "text/plain": [
       "Maths      5.5\n",
       "Spanish    7.6\n",
       "Catalan    4.3\n",
       "Physics    8.6\n",
       "German     6.5\n",
       "Name: Grades, dtype: float64"
      ]
     },
     "execution_count": 113,
     "metadata": {},
     "output_type": "execute_result"
    }
   ],
   "source": [
    "grades.index = [\"Maths\",\"Spanish\",\"Catalan\",\"Physics\",\"German\"]\n",
    "grades.name = \"Grades\"\n",
    "grades"
   ]
  },
  {
   "cell_type": "markdown",
   "metadata": {},
   "source": [
    "That could be also done with"
   ]
  },
  {
   "cell_type": "raw",
   "metadata": {},
   "source": [
    "grades = pd.Series([5.5,7.6,4.3,8.6,6.5],name = \"Grades\",index = [\"Maths\",\"Spanish\",\"Catalan\",\"Physics\",\"German\"])"
   ]
  },
  {
   "cell_type": "markdown",
   "metadata": {},
   "source": [
    "It is easy to access to some values"
   ]
  },
  {
   "cell_type": "code",
   "execution_count": 114,
   "metadata": {},
   "outputs": [
    {
     "data": {
      "image/png": "[encoded data removed]",
      "text/latex": [
       "$\\displaystyle 8.6$"
      ],
      "text/plain": [
       "8.6"
      ]
     },
     "execution_count": 114,
     "metadata": {},
     "output_type": "execute_result"
    }
   ],
   "source": [
    "grades[\"Physics\"]"
   ]
  },
  {
   "cell_type": "code",
   "execution_count": 115,
   "metadata": {},
   "outputs": [
    {
     "data": {
      "text/plain": [
       "Maths      5.5\n",
       "Physics    8.6\n",
       "German     6.5\n",
       "Name: Grades, dtype: float64"
      ]
     },
     "execution_count": 115,
     "metadata": {},
     "output_type": "execute_result"
    }
   ],
   "source": [
    "grades[[\"Maths\",\"Physics\",\"German\"]]"
   ]
  },
  {
   "cell_type": "markdown",
   "metadata": {},
   "source": [
    "Some statistics:"
   ]
  },
  {
   "cell_type": "code",
   "execution_count": 116,
   "metadata": {},
   "outputs": [
    {
     "name": "stdout",
     "output_type": "stream",
     "text": [
      "Median of grades is 6.5\n",
      "Mean of grades is 6.5\n",
      "Standard deviation of grades is 1.6926310879810755\n",
      "Maximum of grades is 8.6\n",
      "Minimum of grades is 4.3\n",
      "Quartile of grades is 5.5\n"
     ]
    }
   ],
   "source": [
    "print(\"Median of grades is {0}\".format(grades.median()))\n",
    "print(\"Mean of grades is {0}\".format(grades.mean()))\n",
    "print(\"Standard deviation of grades is {0}\".format(grades.std()))\n",
    "print(\"Maximum of grades is {0}\".format(grades.max()))\n",
    "print(\"Minimum of grades is {0}\".format(grades.min()))\n",
    "print(\"Quartile of grades is {0}\".format(grades.quantile(0.25)))"
   ]
  },
  {
   "cell_type": "markdown",
   "metadata": {},
   "source": [
    "Also, in brief"
   ]
  },
  {
   "cell_type": "code",
   "execution_count": 117,
   "metadata": {},
   "outputs": [
    {
     "data": {
      "text/plain": [
       "count    5.000000\n",
       "mean     6.500000\n",
       "std      1.692631\n",
       "min      4.300000\n",
       "25%      5.500000\n",
       "50%      6.500000\n",
       "75%      7.600000\n",
       "max      8.600000\n",
       "Name: Grades, dtype: float64"
      ]
     },
     "execution_count": 117,
     "metadata": {},
     "output_type": "execute_result"
    }
   ],
   "source": [
    "grades.describe()"
   ]
  },
  {
   "cell_type": "markdown",
   "metadata": {},
   "source": [
    "Plot method can be used for easily plot data"
   ]
  },
  {
   "cell_type": "code",
   "execution_count": 118,
   "metadata": {},
   "outputs": [],
   "source": [
    "import matplotlib.pyplot as plt"
   ]
  },
  {
   "cell_type": "code",
   "execution_count": 119,
   "metadata": {},
   "outputs": [
    {
     "data": {
      "text/plain": [
       "<Axes: >"
      ]
     },
     "execution_count": 119,
     "metadata": {},
     "output_type": "execute_result"
    },
    {
     "data": {
      "image/png": "[encoded data removed]",
      "text/plain": [
       "<Figure size 640x480 with 1 Axes>"
      ]
     },
     "metadata": {},
     "output_type": "display_data"
    }
   ],
   "source": [
    "fig,axes = plt.subplots()\n",
    "grades.plot(kind='bar')"
   ]
  },
  {
   "cell_type": "markdown",
   "metadata": {},
   "source": [
    "### DataFrame\n",
    "It is like a multidimensional Series. Typically, a table"
   ]
  },
  {
   "cell_type": "code",
   "execution_count": 65,
   "metadata": {},
   "outputs": [],
   "source": [
    "subjects = pd.DataFrame(grades)"
   ]
  },
  {
   "cell_type": "code",
   "execution_count": 66,
   "metadata": {},
   "outputs": [
    {
     "data": {
      "text/plain": [
       "Index(['Grades'], dtype='object')"
      ]
     },
     "execution_count": 66,
     "metadata": {},
     "output_type": "execute_result"
    }
   ],
   "source": [
    "subjects.columns"
   ]
  },
  {
   "cell_type": "code",
   "execution_count": 67,
   "metadata": {},
   "outputs": [
    {
     "data": {
      "text/html": [
       "<div>\n",
       "<style scoped>\n",
       "    .dataframe tbody tr th:only-of-type {\n",
       "        vertical-align: middle;\n",
       "    }\n",
       "\n",
       "    .dataframe tbody tr th {\n",
       "        vertical-align: top;\n",
       "    }\n",
       "\n",
       "    .dataframe thead th {\n",
       "        text-align: right;\n",
       "    }\n",
       "</style>\n",
       "<table border=\"1\" class=\"dataframe\">\n",
       "  <thead>\n",
       "    <tr style=\"text-align: right;\">\n",
       "      <th></th>\n",
       "      <th>Grades</th>\n",
       "    </tr>\n",
       "  </thead>\n",
       "  <tbody>\n",
       "    <tr>\n",
       "      <th>Maths</th>\n",
       "      <td>5.5</td>\n",
       "    </tr>\n",
       "    <tr>\n",
       "      <th>Spanish</th>\n",
       "      <td>7.6</td>\n",
       "    </tr>\n",
       "    <tr>\n",
       "      <th>Catalan</th>\n",
       "      <td>4.3</td>\n",
       "    </tr>\n",
       "    <tr>\n",
       "      <th>Physics</th>\n",
       "      <td>8.6</td>\n",
       "    </tr>\n",
       "    <tr>\n",
       "      <th>German</th>\n",
       "      <td>6.5</td>\n",
       "    </tr>\n",
       "  </tbody>\n",
       "</table>\n",
       "</div>"
      ],
      "text/plain": [
       "         Grades\n",
       "Maths       5.5\n",
       "Spanish     7.6\n",
       "Catalan     4.3\n",
       "Physics     8.6\n",
       "German      6.5"
      ]
     },
     "execution_count": 67,
     "metadata": {},
     "output_type": "execute_result"
    }
   ],
   "source": [
    "subjects"
   ]
  },
  {
   "cell_type": "code",
   "execution_count": 68,
   "metadata": {},
   "outputs": [],
   "source": [
    "teachers = pd.Series([\"Dave\",\"Ana\",\"John\",\"Grace\",\"Mike\"],name=\"Teacher\",index = [\"Maths\",\"Spanish\",\"Catalan\",\"Physics\",\"German\"])"
   ]
  },
  {
   "cell_type": "code",
   "execution_count": 69,
   "metadata": {},
   "outputs": [],
   "source": [
    "subjects = subjects.join(teachers)"
   ]
  },
  {
   "cell_type": "code",
   "execution_count": 70,
   "metadata": {},
   "outputs": [
    {
     "data": {
      "text/html": [
       "<div>\n",
       "<style scoped>\n",
       "    .dataframe tbody tr th:only-of-type {\n",
       "        vertical-align: middle;\n",
       "    }\n",
       "\n",
       "    .dataframe tbody tr th {\n",
       "        vertical-align: top;\n",
       "    }\n",
       "\n",
       "    .dataframe thead th {\n",
       "        text-align: right;\n",
       "    }\n",
       "</style>\n",
       "<table border=\"1\" class=\"dataframe\">\n",
       "  <thead>\n",
       "    <tr style=\"text-align: right;\">\n",
       "      <th></th>\n",
       "      <th>Grades</th>\n",
       "      <th>Teacher</th>\n",
       "    </tr>\n",
       "  </thead>\n",
       "  <tbody>\n",
       "    <tr>\n",
       "      <th>Maths</th>\n",
       "      <td>5.5</td>\n",
       "      <td>Dave</td>\n",
       "    </tr>\n",
       "    <tr>\n",
       "      <th>Spanish</th>\n",
       "      <td>7.6</td>\n",
       "      <td>Ana</td>\n",
       "    </tr>\n",
       "    <tr>\n",
       "      <th>Catalan</th>\n",
       "      <td>4.3</td>\n",
       "      <td>John</td>\n",
       "    </tr>\n",
       "    <tr>\n",
       "      <th>Physics</th>\n",
       "      <td>8.6</td>\n",
       "      <td>Grace</td>\n",
       "    </tr>\n",
       "    <tr>\n",
       "      <th>German</th>\n",
       "      <td>6.5</td>\n",
       "      <td>Mike</td>\n",
       "    </tr>\n",
       "  </tbody>\n",
       "</table>\n",
       "</div>"
      ],
      "text/plain": [
       "         Grades Teacher\n",
       "Maths       5.5    Dave\n",
       "Spanish     7.6     Ana\n",
       "Catalan     4.3    John\n",
       "Physics     8.6   Grace\n",
       "German      6.5    Mike"
      ]
     },
     "execution_count": 70,
     "metadata": {},
     "output_type": "execute_result"
    }
   ],
   "source": [
    "subjects"
   ]
  },
  {
   "cell_type": "code",
   "execution_count": 71,
   "metadata": {},
   "outputs": [
    {
     "data": {
      "image/png": "[encoded data removed]",
      "text/latex": [
       "$\\displaystyle 6.5$"
      ],
      "text/plain": [
       "6.5"
      ]
     },
     "execution_count": 71,
     "metadata": {},
     "output_type": "execute_result"
    }
   ],
   "source": [
    "subjects.Grades.mean()"
   ]
  },
  {
   "cell_type": "code",
   "execution_count": 72,
   "metadata": {},
   "outputs": [
    {
     "data": {
      "text/plain": [
       "Grades      5.5\n",
       "Teacher    Dave\n",
       "Name: Maths, dtype: object"
      ]
     },
     "execution_count": 72,
     "metadata": {},
     "output_type": "execute_result"
    }
   ],
   "source": [
    "subjects.loc[\"Maths\"]"
   ]
  },
  {
   "cell_type": "code",
   "execution_count": 73,
   "metadata": {},
   "outputs": [
    {
     "data": {
      "text/plain": [
       "Maths       Dave\n",
       "Spanish      Ana\n",
       "Catalan     John\n",
       "Physics    Grace\n",
       "German      Mike\n",
       "Name: Teacher, dtype: object"
      ]
     },
     "execution_count": 73,
     "metadata": {},
     "output_type": "execute_result"
    }
   ],
   "source": [
    "subjects.Teacher"
   ]
  },
  {
   "cell_type": "markdown",
   "metadata": {},
   "source": [
    "## 4. Data fitting"
   ]
  },
  {
   "cell_type": "markdown",
   "metadata": {},
   "source": [
    "### Linear regression"
   ]
  },
  {
   "cell_type": "markdown",
   "metadata": {},
   "source": [
    "Some times we need to fit experimental data in order to create a model (a math expression). There are two main python modules to make it: [statsmodels](https://www.statsmodels.org/stable/index.html) and [patsy](https://patsy.readthedocs.io/en/latest/). Actually, statsmodel calls internally to patsy, and it is ususlly not necessary to explicitely import it, but we are doing it for the sake of clarity"
   ]
  },
  {
   "cell_type": "code",
   "execution_count": 120,
   "metadata": {},
   "outputs": [],
   "source": [
    "#This command resets the python kernel, and remove all modules, variables and data\n",
    "%reset -f "
   ]
  },
  {
   "cell_type": "markdown",
   "metadata": {},
   "source": [
    ":::{note}\n",
    "If not done, you have to install the `statsmodels` module with \n",
    "\n",
    "> pip install statsmodel\n",
    "\n",
    ":::"
   ]
  },
  {
   "cell_type": "code",
   "execution_count": 124,
   "metadata": {},
   "outputs": [],
   "source": [
    "try:\n",
    "    import statsmodels.api as sm\n",
    "except:\n",
    "    !pip install statsmodels\n",
    "import statsmodels.formula.api as smf\n",
    "import statsmodels.graphics.api as smg\n",
    "import patsy\n",
    "import matplotlib.pyplot as plt\n",
    "import numpy as np\n",
    "import pandas as pd"
   ]
  },
  {
   "cell_type": "markdown",
   "metadata": {},
   "source": [
    "Let's consider the next image, taken from [Wikipedia-Scatter Plot](https://en.wikipedia.org/wiki/Scatter_plot)\n",
    "\n",
    "<!--- <img src=\"Scatter_plot.png\" width=\"400\"> --->\n",
    "\n",
    "![Scatter_plot.png](Scatter_plot.png)\n",
    "\n",
    "The first step is to get the data. It is done with a plot digitizer. There are several tools to do that: [3gdata](https://github.com/pn2200/g3data) for linux, the Java app [Plot Digitizer](http://plotdigitizer.sourceforge.net/) or the online app [Web Plot Digitizer](https://apps.automeris.io/wpd/). I recommend this last one. With this app we can generate a CSV file, that I have called \"Scatter_data.csv\".\n",
    "\n",
    "The second step is to load this data file into a pandas DataFrame"
   ]
  },
  {
   "cell_type": "code",
   "execution_count": 122,
   "metadata": {},
   "outputs": [
    {
     "data": {
      "text/html": [
       "<div>\n",
       "<style scoped>\n",
       "    .dataframe tbody tr th:only-of-type {\n",
       "        vertical-align: middle;\n",
       "    }\n",
       "\n",
       "    .dataframe tbody tr th {\n",
       "        vertical-align: top;\n",
       "    }\n",
       "\n",
       "    .dataframe thead th {\n",
       "        text-align: right;\n",
       "    }\n",
       "</style>\n",
       "<table border=\"1\" class=\"dataframe\">\n",
       "  <thead>\n",
       "    <tr style=\"text-align: right;\">\n",
       "      <th></th>\n",
       "      <th>x</th>\n",
       "      <th>y</th>\n",
       "    </tr>\n",
       "  </thead>\n",
       "  <tbody>\n",
       "    <tr>\n",
       "      <th>0</th>\n",
       "      <td>0.011</td>\n",
       "      <td>103.186</td>\n",
       "    </tr>\n",
       "    <tr>\n",
       "      <th>1</th>\n",
       "      <td>0.344</td>\n",
       "      <td>101.689</td>\n",
       "    </tr>\n",
       "    <tr>\n",
       "      <th>2</th>\n",
       "      <td>0.678</td>\n",
       "      <td>102.855</td>\n",
       "    </tr>\n",
       "    <tr>\n",
       "      <th>3</th>\n",
       "      <td>1.011</td>\n",
       "      <td>101.286</td>\n",
       "    </tr>\n",
       "    <tr>\n",
       "      <th>4</th>\n",
       "      <td>1.344</td>\n",
       "      <td>100.897</td>\n",
       "    </tr>\n",
       "  </tbody>\n",
       "</table>\n",
       "</div>"
      ],
      "text/plain": [
       "       x        y\n",
       "0  0.011  103.186\n",
       "1  0.344  101.689\n",
       "2  0.678  102.855\n",
       "3  1.011  101.286\n",
       "4  1.344  100.897"
      ]
     },
     "execution_count": 122,
     "metadata": {},
     "output_type": "execute_result"
    }
   ],
   "source": [
    "ScatterData = pd.read_csv(\"Scatter_data.csv\",header=None,names=[\"x\",\"y\"]) # It's important the names for the columns data\n",
    "ScatterData.head()"
   ]
  },
  {
   "cell_type": "markdown",
   "metadata": {},
   "source": [
    "We can plot it to check it..."
   ]
  },
  {
   "cell_type": "code",
   "execution_count": 125,
   "metadata": {},
   "outputs": [
    {
     "data": {
      "text/plain": [
       "<matplotlib.collections.PathCollection at 0x7f8eb6fd5ea0>"
      ]
     },
     "execution_count": 125,
     "metadata": {},
     "output_type": "execute_result"
    },
    {
     "data": {
      "image/png": "[encoded data removed]",
      "text/plain": [
       "<Figure size 640x480 with 1 Axes>"
      ]
     },
     "metadata": {},
     "output_type": "display_data"
    }
   ],
   "source": [
    "plt.scatter(ScatterData[\"x\"],ScatterData[\"y\"])"
   ]
  },
  {
   "cell_type": "markdown",
   "metadata": {},
   "source": [
    "The third step is to create a model. We are using a formula for the model. Actually, it is just a linear regression, made with [ordinary least square](https://en.wikipedia.org/wiki/Ordinary_least_squares) estimation. Check [here](https://patsy.readthedocs.io/en/latest/formulas.html#) how is the syntax for the formulae in patsy."
   ]
  },
  {
   "cell_type": "code",
   "execution_count": 126,
   "metadata": {},
   "outputs": [],
   "source": [
    "model = smf.ols(\"y~x\",ScatterData)"
   ]
  },
  {
   "cell_type": "markdown",
   "metadata": {},
   "source": [
    "That only creates the model, but does not compute anything. The computation is made with the fit method."
   ]
  },
  {
   "cell_type": "code",
   "execution_count": 127,
   "metadata": {},
   "outputs": [],
   "source": [
    "result = model.fit()"
   ]
  },
  {
   "cell_type": "markdown",
   "metadata": {},
   "source": [
    "We check the result"
   ]
  },
  {
   "cell_type": "code",
   "execution_count": 128,
   "metadata": {},
   "outputs": [
    {
     "data": {
      "text/html": [
       "<table class=\"simpletable\">\n",
       "<caption>OLS Regression Results</caption>\n",
       "<tr>\n",
       "  <th>Dep. Variable:</th>            <td>y</td>        <th>  R-squared:         </th> <td>   0.703</td>\n",
       "</tr>\n",
       "<tr>\n",
       "  <th>Model:</th>                   <td>OLS</td>       <th>  Adj. R-squared:    </th> <td>   0.698</td>\n",
       "</tr>\n",
       "<tr>\n",
       "  <th>Method:</th>             <td>Least Squares</td>  <th>  F-statistic:       </th> <td>   139.8</td>\n",
       "</tr>\n",
       "<tr>\n",
       "  <th>Date:</th>             <td>Fri, 24 Feb 2023</td> <th>  Prob (F-statistic):</th> <td>3.34e-17</td>\n",
       "</tr>\n",
       "<tr>\n",
       "  <th>Time:</th>                 <td>09:44:08</td>     <th>  Log-Likelihood:    </th> <td> -102.79</td>\n",
       "</tr>\n",
       "<tr>\n",
       "  <th>No. Observations:</th>      <td>    61</td>      <th>  AIC:               </th> <td>   209.6</td>\n",
       "</tr>\n",
       "<tr>\n",
       "  <th>Df Residuals:</th>          <td>    59</td>      <th>  BIC:               </th> <td>   213.8</td>\n",
       "</tr>\n",
       "<tr>\n",
       "  <th>Df Model:</th>              <td>     1</td>      <th>                     </th>     <td> </td>   \n",
       "</tr>\n",
       "<tr>\n",
       "  <th>Covariance Type:</th>      <td>nonrobust</td>    <th>                     </th>     <td> </td>   \n",
       "</tr>\n",
       "</table>\n",
       "<table class=\"simpletable\">\n",
       "<tr>\n",
       "      <td></td>         <th>coef</th>     <th>std err</th>      <th>t</th>      <th>P>|t|</th>  <th>[0.025</th>    <th>0.975]</th>  \n",
       "</tr>\n",
       "<tr>\n",
       "  <th>Intercept</th> <td>  101.0919</td> <td>    0.336</td> <td>  300.828</td> <td> 0.000</td> <td>  100.420</td> <td>  101.764</td>\n",
       "</tr>\n",
       "<tr>\n",
       "  <th>x</th>         <td>   -0.3422</td> <td>    0.029</td> <td>  -11.824</td> <td> 0.000</td> <td>   -0.400</td> <td>   -0.284</td>\n",
       "</tr>\n",
       "</table>\n",
       "<table class=\"simpletable\">\n",
       "<tr>\n",
       "  <th>Omnibus:</th>       <td> 0.117</td> <th>  Durbin-Watson:     </th> <td>   1.789</td>\n",
       "</tr>\n",
       "<tr>\n",
       "  <th>Prob(Omnibus):</th> <td> 0.943</td> <th>  Jarque-Bera (JB):  </th> <td>   0.155</td>\n",
       "</tr>\n",
       "<tr>\n",
       "  <th>Skew:</th>          <td> 0.095</td> <th>  Prob(JB):          </th> <td>   0.925</td>\n",
       "</tr>\n",
       "<tr>\n",
       "  <th>Kurtosis:</th>      <td> 2.841</td> <th>  Cond. No.          </th> <td>    23.1</td>\n",
       "</tr>\n",
       "</table><br/><br/>Notes:<br/>[1] Standard Errors assume that the covariance matrix of the errors is correctly specified."
      ],
      "text/plain": [
       "<class 'statsmodels.iolib.summary.Summary'>\n",
       "\"\"\"\n",
       "                            OLS Regression Results                            \n",
       "==============================================================================\n",
       "Dep. Variable:                      y   R-squared:                       0.703\n",
       "Model:                            OLS   Adj. R-squared:                  0.698\n",
       "Method:                 Least Squares   F-statistic:                     139.8\n",
       "Date:                Fri, 24 Feb 2023   Prob (F-statistic):           3.34e-17\n",
       "Time:                        09:44:08   Log-Likelihood:                -102.79\n",
       "No. Observations:                  61   AIC:                             209.6\n",
       "Df Residuals:                      59   BIC:                             213.8\n",
       "Df Model:                           1                                         \n",
       "Covariance Type:            nonrobust                                         \n",
       "==============================================================================\n",
       "                 coef    std err          t      P>|t|      [0.025      0.975]\n",
       "------------------------------------------------------------------------------\n",
       "Intercept    101.0919      0.336    300.828      0.000     100.420     101.764\n",
       "x             -0.3422      0.029    -11.824      0.000      -0.400      -0.284\n",
       "==============================================================================\n",
       "Omnibus:                        0.117   Durbin-Watson:                   1.789\n",
       "Prob(Omnibus):                  0.943   Jarque-Bera (JB):                0.155\n",
       "Skew:                           0.095   Prob(JB):                        0.925\n",
       "Kurtosis:                       2.841   Cond. No.                         23.1\n",
       "==============================================================================\n",
       "\n",
       "Notes:\n",
       "[1] Standard Errors assume that the covariance matrix of the errors is correctly specified.\n",
       "\"\"\""
      ]
     },
     "execution_count": 128,
     "metadata": {},
     "output_type": "execute_result"
    }
   ],
   "source": [
    "result.summary()"
   ]
  },
  {
   "cell_type": "markdown",
   "metadata": {},
   "source": [
    "The result object has a lot of components. One is the _params_: the coefficient _Intercept_ which is the independent term, and the _x_, which is, in this case, the linear term coefficient."
   ]
  },
  {
   "cell_type": "code",
   "execution_count": 135,
   "metadata": {},
   "outputs": [
    {
     "data": {
      "image/png": "[encoded data removed]",
      "text/latex": [
       "$\\displaystyle 101.091928822347$"
      ],
      "text/plain": [
       "101.09192882234693"
      ]
     },
     "metadata": {},
     "output_type": "display_data"
    },
    {
     "data": {
      "image/png": "[encoded data removed]",
      "text/latex": [
       "$\\displaystyle -0.342233598219444$"
      ],
      "text/plain": [
       "-0.3422335982194442"
      ]
     },
     "metadata": {},
     "output_type": "display_data"
    }
   ],
   "source": [
    "display(result.params[\"Intercept\"])\n",
    "display(result.params[\"x\"])"
   ]
  },
  {
   "cell_type": "markdown",
   "metadata": {},
   "source": [
    "In the last step, let's now plot it to see how it looks like. \n",
    "\n",
    "First, we create the set of _x_ points to make the plot. It has to be a pandas DataFrame. "
   ]
  },
  {
   "cell_type": "code",
   "execution_count": 131,
   "metadata": {},
   "outputs": [],
   "source": [
    "x_plot = pd.DataFrame(pd.Series(np.linspace(0,20,250),name=\"x\"))"
   ]
  },
  {
   "cell_type": "markdown",
   "metadata": {},
   "source": [
    "and now we calculate the prediction, according to our linear model"
   ]
  },
  {
   "cell_type": "code",
   "execution_count": 132,
   "metadata": {},
   "outputs": [],
   "source": [
    "y_plot = result.predict(x_plot)"
   ]
  },
  {
   "cell_type": "code",
   "execution_count": 133,
   "metadata": {},
   "outputs": [
    {
     "data": {
      "text/html": [
       "<div>\n",
       "<style scoped>\n",
       "    .dataframe tbody tr th:only-of-type {\n",
       "        vertical-align: middle;\n",
       "    }\n",
       "\n",
       "    .dataframe tbody tr th {\n",
       "        vertical-align: top;\n",
       "    }\n",
       "\n",
       "    .dataframe thead th {\n",
       "        text-align: right;\n",
       "    }\n",
       "</style>\n",
       "<table border=\"1\" class=\"dataframe\">\n",
       "  <thead>\n",
       "    <tr style=\"text-align: right;\">\n",
       "      <th></th>\n",
       "      <th>x</th>\n",
       "    </tr>\n",
       "  </thead>\n",
       "  <tbody>\n",
       "    <tr>\n",
       "      <th>0</th>\n",
       "      <td>0.000000</td>\n",
       "    </tr>\n",
       "    <tr>\n",
       "      <th>1</th>\n",
       "      <td>0.080321</td>\n",
       "    </tr>\n",
       "    <tr>\n",
       "      <th>2</th>\n",
       "      <td>0.160643</td>\n",
       "    </tr>\n",
       "    <tr>\n",
       "      <th>3</th>\n",
       "      <td>0.240964</td>\n",
       "    </tr>\n",
       "    <tr>\n",
       "      <th>4</th>\n",
       "      <td>0.321285</td>\n",
       "    </tr>\n",
       "    <tr>\n",
       "      <th>...</th>\n",
       "      <td>...</td>\n",
       "    </tr>\n",
       "    <tr>\n",
       "      <th>245</th>\n",
       "      <td>19.678715</td>\n",
       "    </tr>\n",
       "    <tr>\n",
       "      <th>246</th>\n",
       "      <td>19.759036</td>\n",
       "    </tr>\n",
       "    <tr>\n",
       "      <th>247</th>\n",
       "      <td>19.839357</td>\n",
       "    </tr>\n",
       "    <tr>\n",
       "      <th>248</th>\n",
       "      <td>19.919679</td>\n",
       "    </tr>\n",
       "    <tr>\n",
       "      <th>249</th>\n",
       "      <td>20.000000</td>\n",
       "    </tr>\n",
       "  </tbody>\n",
       "</table>\n",
       "<p>250 rows × 1 columns</p>\n",
       "</div>"
      ],
      "text/plain": [
       "             x\n",
       "0     0.000000\n",
       "1     0.080321\n",
       "2     0.160643\n",
       "3     0.240964\n",
       "4     0.321285\n",
       "..         ...\n",
       "245  19.678715\n",
       "246  19.759036\n",
       "247  19.839357\n",
       "248  19.919679\n",
       "249  20.000000\n",
       "\n",
       "[250 rows x 1 columns]"
      ]
     },
     "execution_count": 133,
     "metadata": {},
     "output_type": "execute_result"
    }
   ],
   "source": [
    "x_plot"
   ]
  },
  {
   "cell_type": "markdown",
   "metadata": {},
   "source": [
    "and, finally, we plot it"
   ]
  },
  {
   "cell_type": "code",
   "execution_count": 134,
   "metadata": {},
   "outputs": [
    {
     "data": {
      "text/plain": [
       "Text(9.0, 101, '$y = 101.09 -0.34x$')"
      ]
     },
     "execution_count": 134,
     "metadata": {},
     "output_type": "execute_result"
    },
    {
     "data": {
      "image/png": "[encoded data removed]",
      "text/plain": [
       "<Figure size 640x480 with 1 Axes>"
      ]
     },
     "metadata": {},
     "output_type": "display_data"
    }
   ],
   "source": [
    "a = result.params[\"Intercept\"]\n",
    "b = result.params[\"x\"]\n",
    "plt.scatter(ScatterData[\"x\"],ScatterData[\"y\"])\n",
    "plt.plot(x_plot.values,y_plot,\"r-\",linewidth=3)\n",
    "plt.text(9.0,101,r\"$y = {:.2f} {:+.2f}x$\".format(a,b),color=\"red\")"
   ]
  },
  {
   "cell_type": "markdown",
   "metadata": {},
   "source": [
    "If we want to make another fit, for example, with a quadratic expression, we have to create another column in the DataFrame with the new data (in this case, with $x^2$). This is still considered a linear regression, since it can be written as linear combination of polynomical terms $ y = \\sum_{n=0}^{N} a_n x^n$. Note also that a model as $y=a_0x^{a_1}$, or $y=a_0\\exp(a_1x)$, can be tranformed into a linear model just calculating logarithm of both sides."
   ]
  },
  {
   "cell_type": "code",
   "execution_count": 86,
   "metadata": {},
   "outputs": [],
   "source": [
    "ScatterData[\"x2\"] = ScatterData[\"x\"]**2"
   ]
  },
  {
   "cell_type": "code",
   "execution_count": 87,
   "metadata": {
    "tags": []
   },
   "outputs": [
    {
     "data": {
      "text/html": [
       "<div>\n",
       "<style scoped>\n",
       "    .dataframe tbody tr th:only-of-type {\n",
       "        vertical-align: middle;\n",
       "    }\n",
       "\n",
       "    .dataframe tbody tr th {\n",
       "        vertical-align: top;\n",
       "    }\n",
       "\n",
       "    .dataframe thead th {\n",
       "        text-align: right;\n",
       "    }\n",
       "</style>\n",
       "<table border=\"1\" class=\"dataframe\">\n",
       "  <thead>\n",
       "    <tr style=\"text-align: right;\">\n",
       "      <th></th>\n",
       "      <th>x</th>\n",
       "      <th>y</th>\n",
       "      <th>x2</th>\n",
       "    </tr>\n",
       "  </thead>\n",
       "  <tbody>\n",
       "    <tr>\n",
       "      <th>0</th>\n",
       "      <td>0.011</td>\n",
       "      <td>103.186</td>\n",
       "      <td>0.000121</td>\n",
       "    </tr>\n",
       "    <tr>\n",
       "      <th>1</th>\n",
       "      <td>0.344</td>\n",
       "      <td>101.689</td>\n",
       "      <td>0.118336</td>\n",
       "    </tr>\n",
       "    <tr>\n",
       "      <th>2</th>\n",
       "      <td>0.678</td>\n",
       "      <td>102.855</td>\n",
       "      <td>0.459684</td>\n",
       "    </tr>\n",
       "  </tbody>\n",
       "</table>\n",
       "</div>"
      ],
      "text/plain": [
       "       x        y        x2\n",
       "0  0.011  103.186  0.000121\n",
       "1  0.344  101.689  0.118336\n",
       "2  0.678  102.855  0.459684"
      ]
     },
     "execution_count": 87,
     "metadata": {},
     "output_type": "execute_result"
    }
   ],
   "source": [
    "ScatterData.head(3)"
   ]
  },
  {
   "cell_type": "markdown",
   "metadata": {},
   "source": [
    "and then we create the new model, and perform the `fit()` method"
   ]
  },
  {
   "cell_type": "code",
   "execution_count": 88,
   "metadata": {},
   "outputs": [],
   "source": [
    "sqr_model = smf.ols('y~ x + x2',ScatterData)"
   ]
  },
  {
   "cell_type": "code",
   "execution_count": 89,
   "metadata": {},
   "outputs": [],
   "source": [
    "sqr_result = sqr_model.fit()"
   ]
  },
  {
   "cell_type": "code",
   "execution_count": 90,
   "metadata": {},
   "outputs": [
    {
     "data": {
      "text/html": [
       "<table class=\"simpletable\">\n",
       "<caption>OLS Regression Results</caption>\n",
       "<tr>\n",
       "  <th>Dep. Variable:</th>            <td>y</td>        <th>  R-squared:         </th> <td>   0.706</td>\n",
       "</tr>\n",
       "<tr>\n",
       "  <th>Model:</th>                   <td>OLS</td>       <th>  Adj. R-squared:    </th> <td>   0.696</td>\n",
       "</tr>\n",
       "<tr>\n",
       "  <th>Method:</th>             <td>Least Squares</td>  <th>  F-statistic:       </th> <td>   69.69</td>\n",
       "</tr>\n",
       "<tr>\n",
       "  <th>Date:</th>             <td>Fri, 24 Feb 2023</td> <th>  Prob (F-statistic):</th> <td>3.76e-16</td>\n",
       "</tr>\n",
       "<tr>\n",
       "  <th>Time:</th>                 <td>09:23:09</td>     <th>  Log-Likelihood:    </th> <td> -102.49</td>\n",
       "</tr>\n",
       "<tr>\n",
       "  <th>No. Observations:</th>      <td>    61</td>      <th>  AIC:               </th> <td>   211.0</td>\n",
       "</tr>\n",
       "<tr>\n",
       "  <th>Df Residuals:</th>          <td>    58</td>      <th>  BIC:               </th> <td>   217.3</td>\n",
       "</tr>\n",
       "<tr>\n",
       "  <th>Df Model:</th>              <td>     2</td>      <th>                     </th>     <td> </td>   \n",
       "</tr>\n",
       "<tr>\n",
       "  <th>Covariance Type:</th>      <td>nonrobust</td>    <th>                     </th>     <td> </td>   \n",
       "</tr>\n",
       "</table>\n",
       "<table class=\"simpletable\">\n",
       "<tr>\n",
       "      <td></td>         <th>coef</th>     <th>std err</th>      <th>t</th>      <th>P>|t|</th>  <th>[0.025</th>    <th>0.975]</th>  \n",
       "</tr>\n",
       "<tr>\n",
       "  <th>Intercept</th> <td>  101.3684</td> <td>    0.496</td> <td>  204.170</td> <td> 0.000</td> <td>  100.375</td> <td>  102.362</td>\n",
       "</tr>\n",
       "<tr>\n",
       "  <th>x</th>         <td>   -0.4262</td> <td>    0.114</td> <td>   -3.724</td> <td> 0.000</td> <td>   -0.655</td> <td>   -0.197</td>\n",
       "</tr>\n",
       "<tr>\n",
       "  <th>x2</th>        <td>    0.0042</td> <td>    0.006</td> <td>    0.759</td> <td> 0.451</td> <td>   -0.007</td> <td>    0.015</td>\n",
       "</tr>\n",
       "</table>\n",
       "<table class=\"simpletable\">\n",
       "<tr>\n",
       "  <th>Omnibus:</th>       <td> 0.048</td> <th>  Durbin-Watson:     </th> <td>   1.807</td>\n",
       "</tr>\n",
       "<tr>\n",
       "  <th>Prob(Omnibus):</th> <td> 0.976</td> <th>  Jarque-Bera (JB):  </th> <td>   0.166</td>\n",
       "</tr>\n",
       "<tr>\n",
       "  <th>Skew:</th>          <td> 0.061</td> <th>  Prob(JB):          </th> <td>   0.920</td>\n",
       "</tr>\n",
       "<tr>\n",
       "  <th>Kurtosis:</th>      <td> 2.775</td> <th>  Cond. No.          </th> <td>    540.</td>\n",
       "</tr>\n",
       "</table><br/><br/>Notes:<br/>[1] Standard Errors assume that the covariance matrix of the errors is correctly specified."
      ],
      "text/plain": [
       "<class 'statsmodels.iolib.summary.Summary'>\n",
       "\"\"\"\n",
       "                            OLS Regression Results                            \n",
       "==============================================================================\n",
       "Dep. Variable:                      y   R-squared:                       0.706\n",
       "Model:                            OLS   Adj. R-squared:                  0.696\n",
       "Method:                 Least Squares   F-statistic:                     69.69\n",
       "Date:                Fri, 24 Feb 2023   Prob (F-statistic):           3.76e-16\n",
       "Time:                        09:23:09   Log-Likelihood:                -102.49\n",
       "No. Observations:                  61   AIC:                             211.0\n",
       "Df Residuals:                      58   BIC:                             217.3\n",
       "Df Model:                           2                                         \n",
       "Covariance Type:            nonrobust                                         \n",
       "==============================================================================\n",
       "                 coef    std err          t      P>|t|      [0.025      0.975]\n",
       "------------------------------------------------------------------------------\n",
       "Intercept    101.3684      0.496    204.170      0.000     100.375     102.362\n",
       "x             -0.4262      0.114     -3.724      0.000      -0.655      -0.197\n",
       "x2             0.0042      0.006      0.759      0.451      -0.007       0.015\n",
       "==============================================================================\n",
       "Omnibus:                        0.048   Durbin-Watson:                   1.807\n",
       "Prob(Omnibus):                  0.976   Jarque-Bera (JB):                0.166\n",
       "Skew:                           0.061   Prob(JB):                        0.920\n",
       "Kurtosis:                       2.775   Cond. No.                         540.\n",
       "==============================================================================\n",
       "\n",
       "Notes:\n",
       "[1] Standard Errors assume that the covariance matrix of the errors is correctly specified.\n",
       "\"\"\""
      ]
     },
     "execution_count": 90,
     "metadata": {},
     "output_type": "execute_result"
    }
   ],
   "source": [
    "sqr_result.summary()"
   ]
  },
  {
   "cell_type": "code",
   "execution_count": 91,
   "metadata": {},
   "outputs": [
    {
     "data": {
      "text/plain": [
       "Intercept    101.368371\n",
       "x             -0.426238\n",
       "x2             0.004192\n",
       "dtype: float64"
      ]
     },
     "execution_count": 91,
     "metadata": {},
     "output_type": "execute_result"
    }
   ],
   "source": [
    "sqr_result.params"
   ]
  },
  {
   "cell_type": "code",
   "execution_count": 92,
   "metadata": {},
   "outputs": [],
   "source": [
    "x2_plot = x_plot.join(pd.Series(x_plot[\"x\"]**2,name=\"x2\"))"
   ]
  },
  {
   "cell_type": "code",
   "execution_count": 93,
   "metadata": {},
   "outputs": [
    {
     "data": {
      "text/html": [
       "<div>\n",
       "<style scoped>\n",
       "    .dataframe tbody tr th:only-of-type {\n",
       "        vertical-align: middle;\n",
       "    }\n",
       "\n",
       "    .dataframe tbody tr th {\n",
       "        vertical-align: top;\n",
       "    }\n",
       "\n",
       "    .dataframe thead th {\n",
       "        text-align: right;\n",
       "    }\n",
       "</style>\n",
       "<table border=\"1\" class=\"dataframe\">\n",
       "  <thead>\n",
       "    <tr style=\"text-align: right;\">\n",
       "      <th></th>\n",
       "      <th>x</th>\n",
       "      <th>x2</th>\n",
       "    </tr>\n",
       "  </thead>\n",
       "  <tbody>\n",
       "    <tr>\n",
       "      <th>0</th>\n",
       "      <td>0.000000</td>\n",
       "      <td>0.000000</td>\n",
       "    </tr>\n",
       "    <tr>\n",
       "      <th>1</th>\n",
       "      <td>0.080321</td>\n",
       "      <td>0.006452</td>\n",
       "    </tr>\n",
       "    <tr>\n",
       "      <th>2</th>\n",
       "      <td>0.160643</td>\n",
       "      <td>0.025806</td>\n",
       "    </tr>\n",
       "    <tr>\n",
       "      <th>3</th>\n",
       "      <td>0.240964</td>\n",
       "      <td>0.058064</td>\n",
       "    </tr>\n",
       "    <tr>\n",
       "      <th>4</th>\n",
       "      <td>0.321285</td>\n",
       "      <td>0.103224</td>\n",
       "    </tr>\n",
       "    <tr>\n",
       "      <th>...</th>\n",
       "      <td>...</td>\n",
       "      <td>...</td>\n",
       "    </tr>\n",
       "    <tr>\n",
       "      <th>245</th>\n",
       "      <td>19.678715</td>\n",
       "      <td>387.251819</td>\n",
       "    </tr>\n",
       "    <tr>\n",
       "      <th>246</th>\n",
       "      <td>19.759036</td>\n",
       "      <td>390.419509</td>\n",
       "    </tr>\n",
       "    <tr>\n",
       "      <th>247</th>\n",
       "      <td>19.839357</td>\n",
       "      <td>393.600103</td>\n",
       "    </tr>\n",
       "    <tr>\n",
       "      <th>248</th>\n",
       "      <td>19.919679</td>\n",
       "      <td>396.793600</td>\n",
       "    </tr>\n",
       "    <tr>\n",
       "      <th>249</th>\n",
       "      <td>20.000000</td>\n",
       "      <td>400.000000</td>\n",
       "    </tr>\n",
       "  </tbody>\n",
       "</table>\n",
       "<p>250 rows × 2 columns</p>\n",
       "</div>"
      ],
      "text/plain": [
       "             x          x2\n",
       "0     0.000000    0.000000\n",
       "1     0.080321    0.006452\n",
       "2     0.160643    0.025806\n",
       "3     0.240964    0.058064\n",
       "4     0.321285    0.103224\n",
       "..         ...         ...\n",
       "245  19.678715  387.251819\n",
       "246  19.759036  390.419509\n",
       "247  19.839357  393.600103\n",
       "248  19.919679  396.793600\n",
       "249  20.000000  400.000000\n",
       "\n",
       "[250 rows x 2 columns]"
      ]
     },
     "execution_count": 93,
     "metadata": {},
     "output_type": "execute_result"
    }
   ],
   "source": [
    "x2_plot"
   ]
  },
  {
   "cell_type": "code",
   "execution_count": 94,
   "metadata": {},
   "outputs": [],
   "source": [
    "y2_plot = sqr_result.predict(x2_plot)"
   ]
  },
  {
   "cell_type": "code",
   "execution_count": 95,
   "metadata": {},
   "outputs": [
    {
     "data": {
      "text/plain": [
       "Text(9.0, 100, '$y = 101.37 -0.43x +0.0042x^2$')"
      ]
     },
     "execution_count": 95,
     "metadata": {},
     "output_type": "execute_result"
    },
    {
     "data": {
      "image/png": "[encoded data removed]",
      "text/plain": [
       "<Figure size 640x480 with 1 Axes>"
      ]
     },
     "metadata": {},
     "output_type": "display_data"
    }
   ],
   "source": [
    "a = result.params[\"Intercept\"]\n",
    "b = result.params[\"x\"]\n",
    "a0 = sqr_result.params[\"Intercept\"]\n",
    "a1 = sqr_result.params[\"x\"]\n",
    "a2 = sqr_result.params[\"x2\"]\n",
    "fig,ax = plt.subplots()\n",
    "ax.set_xlabel(r'$x$')\n",
    "ax.set_ylabel(r'$y$')\n",
    "ax.scatter(ScatterData[\"x\"],ScatterData[\"y\"])\n",
    "ax.plot(x_plot.values,y_plot,\"r-\",linewidth=3)\n",
    "ax.plot(x_plot.values,y2_plot,\"g-\",linewidth=3)\n",
    "ax.text(9.0,101,r\"$y = {:.2f} {:+.2g}x$\".format(a,b),color=\"red\")\n",
    "ax.text(9.0,100,r\"$y = {:.2f} {:+.2g}x {:+.2g}x^2$\".format(a0,a1,a2),color=\"green\")"
   ]
  },
  {
   "cell_type": "markdown",
   "metadata": {},
   "source": [
    "### Non linear regression"
   ]
  },
  {
   "cell_type": "markdown",
   "metadata": {},
   "source": [
    "When we want to make a non linear regression, for instance to fit with a model as $y=a_0+a_1*\\exp{a_2*x}$, an optimization method to compute mininum squares has to be performed. We use then the [_optimize_](https://docs.scipy.org/doc/scipy/reference/tutorial/optimize.html) module of scipy, and, in particular, the [curve_fit](https://docs.scipy.org/doc/scipy/reference/generated/scipy.optimize.curve_fit.html#scipy.optimize.curve_fit) method."
   ]
  },
  {
   "cell_type": "code",
   "execution_count": 96,
   "metadata": {},
   "outputs": [],
   "source": [
    "import scipy.optimize as opt\n",
    "import numpy as np\n",
    "import matplotlib.pyplot as plt"
   ]
  },
  {
   "cell_type": "markdown",
   "metadata": {},
   "source": [
    "We load the data. Now it can be just with an array instead of a pandas DataFrame."
   ]
  },
  {
   "cell_type": "code",
   "execution_count": 97,
   "metadata": {},
   "outputs": [],
   "source": [
    "[xdata,ydata] = np.loadtxt(\"Scatter_data.csv\",delimiter=',').T #The traspose has to be made in order to load columns instead of rows"
   ]
  },
  {
   "cell_type": "code",
   "execution_count": 98,
   "metadata": {},
   "outputs": [
    {
     "data": {
      "text/plain": [
       "<matplotlib.collections.PathCollection at 0x7f8eb91ec490>"
      ]
     },
     "execution_count": 98,
     "metadata": {},
     "output_type": "execute_result"
    },
    {
     "data": {
      "image/png": "[encoded data removed]",
      "text/plain": [
       "<Figure size 640x480 with 1 Axes>"
      ]
     },
     "metadata": {},
     "output_type": "display_data"
    }
   ],
   "source": [
    "fig,ac = plt.subplots()\n",
    "ac.scatter(xdata,ydata)"
   ]
  },
  {
   "cell_type": "markdown",
   "metadata": {},
   "source": [
    "We define the fitting function (our model) with the independent variable $x$, and the set of parameters (the parameters name is free)"
   ]
  },
  {
   "cell_type": "code",
   "execution_count": 99,
   "metadata": {},
   "outputs": [],
   "source": [
    "def f(x,a0,a1,a2):\n",
    "    return a0+a1*np.exp(a2*x)"
   ]
  },
  {
   "cell_type": "markdown",
   "metadata": {},
   "source": [
    "And we perform the curve fitting. Note the `p0` argument. It gives an initial guess. Otherwise the iterative process can be very long and eventually, it an fail. It gives two results. The first is the solution. The second is the covariance matrix. The diagonal of this matrix is the statistical variance of the solutions."
   ]
  },
  {
   "cell_type": "code",
   "execution_count": 100,
   "metadata": {},
   "outputs": [],
   "source": [
    "popt, pcov = opt.curve_fit(f,xdata,ydata, p0=[100,1,-1])"
   ]
  },
  {
   "cell_type": "code",
   "execution_count": 101,
   "metadata": {},
   "outputs": [],
   "source": [
    "[a0,a1,a2] = popt"
   ]
  },
  {
   "cell_type": "markdown",
   "metadata": {},
   "source": [
    "Let's calculate the predicted values of a uniform $x$ distribution"
   ]
  },
  {
   "cell_type": "code",
   "execution_count": 102,
   "metadata": {},
   "outputs": [],
   "source": [
    "xdata_plot = np.linspace(0,20,250)\n",
    "ydata_plot = f(xdata_plot,a0,a1,a2)"
   ]
  },
  {
   "cell_type": "markdown",
   "metadata": {},
   "source": [
    "And let's plot it, with comparison with linear regression."
   ]
  },
  {
   "cell_type": "code",
   "execution_count": 103,
   "metadata": {},
   "outputs": [
    {
     "data": {
      "text/plain": [
       "Text(9.0, 100, '$y = 84.38 +17e^{a2 x}$')"
      ]
     },
     "execution_count": 103,
     "metadata": {},
     "output_type": "execute_result"
    },
    {
     "data": {
      "image/png": "[encoded data removed]",
      "text/plain": [
       "<Figure size 640x480 with 1 Axes>"
      ]
     },
     "metadata": {},
     "output_type": "display_data"
    }
   ],
   "source": [
    "fig,ax = plt.subplots()\n",
    "ax.scatter(xdata,ydata)\n",
    "ax.plot(x_plot.values,y_plot,\"r-\",linewidth=3)\n",
    "ax.plot(xdata_plot,ydata_plot,\"g-\",linewidth=3)\n",
    "ax.text(9.0,101,r\"$y = {:.2f} {:+.2g}x$\".format(a,b),color=\"red\")\n",
    "ax.text(9.0,100,r\"$y = {:.2f} {:+.2g}e^{{a2 x}}$\".format(a0,a1,a2),color=\"green\")"
   ]
  },
  {
   "cell_type": "markdown",
   "metadata": {},
   "source": [
    "The statsmodel ols gives the R-squared as part of the results."
   ]
  },
  {
   "cell_type": "code",
   "execution_count": 104,
   "metadata": {},
   "outputs": [
    {
     "data": {
      "image/png": "[encoded data removed]",
      "text/latex": [
       "$\\displaystyle 0.703234485948286$"
      ],
      "text/plain": [
       "0.7032344859482857"
      ]
     },
     "execution_count": 104,
     "metadata": {},
     "output_type": "execute_result"
    }
   ],
   "source": [
    "result.rsquared"
   ]
  },
  {
   "cell_type": "markdown",
   "metadata": {},
   "source": [
    "The scipy optimize doesn't do this computation, but it is easy to perform by hand, as stated in this [stackoverflow](https://stackoverflow.com/questions/19189362/getting-the-r-squared-value-using-curve-fit) answer, according to [wikipedia page](https://en.wikipedia.org/wiki/Coefficient_of_determination#Definitions)."
   ]
  },
  {
   "cell_type": "code",
   "execution_count": 105,
   "metadata": {},
   "outputs": [],
   "source": [
    "residuals = ydata - f(xdata,a0,a1,a2)\n",
    "ss_res = np.sum(residuals**2)\n",
    "ss_tot = np.sum((ydata-np.mean(ydata))**2)\n",
    "r_squared = 1 - (ss_res / ss_tot)"
   ]
  },
  {
   "cell_type": "code",
   "execution_count": 106,
   "metadata": {},
   "outputs": [
    {
     "data": {
      "image/png": "[encoded data removed]",
      "text/latex": [
       "$\\displaystyle 0.70629687655104$"
      ],
      "text/plain": [
       "0.7062968765510402"
      ]
     },
     "execution_count": 106,
     "metadata": {},
     "output_type": "execute_result"
    }
   ],
   "source": [
    "r_squared"
   ]
  },
  {
   "cell_type": "markdown",
   "metadata": {},
   "source": [
    "In the next command, the [watermark](https://github.com/rasbt/watermark/blob/master/README.md) extension is used in order to register the version of the libraries used in the Notebook. This is useful for the reproductibility."
   ]
  },
  {
   "cell_type": "code",
   "execution_count": 107,
   "metadata": {},
   "outputs": [
    {
     "name": "stdout",
     "output_type": "stream",
     "text": [
      "Python implementation: CPython\n",
      "Python version       : 3.10.6\n",
      "IPython version      : 8.10.0\n",
      "\n",
      "Compiler    : GCC 11.3.0\n",
      "OS          : Linux\n",
      "Release     : 5.15.0-60-generic\n",
      "Machine     : x86_64\n",
      "Processor   : x86_64\n",
      "CPU cores   : 8\n",
      "Architecture: 64bit\n",
      "\n",
      "matplotlib : 3.7.0\n",
      "scipy      : 1.10.1\n",
      "patsy      : 0.5.3\n",
      "numpy      : 1.24.2\n",
      "pandas     : 1.5.3\n",
      "statsmodels: 0.13.5\n",
      "\n"
     ]
    }
   ],
   "source": [
    "try:\n",
    "    %load_ext watermark\n",
    "except:\n",
    "    !pip install watermark\n",
    "%watermark -v -m -iv"
   ]
  },
  {
   "cell_type": "code",
   "execution_count": null,
   "metadata": {},
   "outputs": [],
   "source": []
  }
 ],
 "metadata": {
  "kernelspec": {
   "display_name": "Python 3 (ipykernel)",
   "language": "python",
   "name": "python3"
  },
  "language_info": {
   "codemirror_mode": {
    "name": "ipython",
    "version": 3
   },
   "file_extension": ".py",
   "mimetype": "text/x-python",
   "name": "python",
   "nbconvert_exporter": "python",
   "pygments_lexer": "ipython3",
   "version": "3.10.6"
  },
  "toc-autonumbering": false,
  "toc-showcode": false
 },
 "nbformat": 4,
 "nbformat_minor": 4
}
