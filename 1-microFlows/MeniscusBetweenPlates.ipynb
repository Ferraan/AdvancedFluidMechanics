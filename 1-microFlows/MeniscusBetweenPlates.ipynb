{
 "cells": [
  {
   "cell_type": "markdown",
   "id": "c340a74c-54d0-45c0-b627-763fb3f90427",
   "metadata": {},
   "source": [
    "# Meniscus between plates. Solution\n",
    "\n",
    "\n",
    "Find the shape for two parallels walls separated a distance $L$\n",
    "\n",
    "Hint: In the middle point between both walls, curvature is not zero, so there is also there a pressure jump. This pressure jump is related, then, to the height of the column, $H$. It is suggested to change coordinate axes, as shown in the picture, and change the first equation as\n",
    "\n",
    "$$ \\frac{\\rho g (z+H)}{\\gamma} - \\frac{z''}{\\left(1 + {z'}^2\\right)^{3/2}} = 0 $$\n",
    "\n",
    "Also, there are 2 boundary conditions: the derivative of $z(x)$ for $x=-\\frac{L}{2}$ and for $x=\\frac{L}{2}$\n",
    "\n",
    "![image.png](MeniscusBetweenPlates.png)\n",
    "\n",
    "***\n",
    "\n",
    "The exact solution of this problems can be found, both for planar and axisymmetric (capillary tube) can be found in [this paper by Liu et al.(2018)](https://link.springer.com/article/10.1140/epje/i2018-11648-1). We are going to find the shape with numerical integration, in a similar way as we have done with the shape with only one \n",
    "plate.\n",
    "\n",
    "We ca consider two method. In the first, we perform one integration of the second order ODE and the second is numerically integrated. In the second method, that is left as exercise, the second order ODE is written as a system of two first order ODE's and both are numerically integrated\n",
    "\n",
    "## Method 1\n",
    "\n",
    "In this method the origin of $x$ is at the wall and the numerical integration is done until the middle point between plates. All the variables are normalized with capillary length \n",
    "$ l_s = \\sqrt{\\frac{\\gamma}{\\rho g}} $. Hence,\n",
    "\n",
    "\\begin{eqnarray}\n",
    "\\xi &=& \\frac{x}{l_s} \\\\\n",
    "\\eta &=& \\frac{z}{l_s} \\\\\n",
    "\\beta &=& \\frac{H}{l_s} \\\\\n",
    "\\lambda &=& \\frac{L}{l_s} \n",
    "\\end{eqnarray}"
   ]
  },
  {
   "cell_type": "code",
   "execution_count": 1,
   "id": "inner-boards",
   "metadata": {},
   "outputs": [],
   "source": [
    "import numpy as np\n",
    "import sympy as sp\n",
    "from IPython.display import display,Math\n",
    "sp.init_printing()"
   ]
  },
  {
   "cell_type": "code",
   "execution_count": 2,
   "id": "spoken-salmon",
   "metadata": {},
   "outputs": [
    {
     "data": {
      "text/latex": [
       "$\\displaystyle \\beta - \\frac{\\frac{d^{2}}{d \\xi^{2}} \\eta{\\left(\\xi \\right)}}{\\left(\\left(\\frac{d}{d \\xi} \\eta{\\left(\\xi \\right)}\\right)^{2} + 1\\right)^{1.5}} + \\eta{\\left(\\xi \\right)}= 0$"
      ],
      "text/plain": [
       "<IPython.core.display.Math object>"
      ]
     },
     "metadata": {},
     "output_type": "display_data"
    }
   ],
   "source": [
    "xi,theta, beta = sp.symbols('xi,theta,beta',positive=True)\n",
    "eta = sp.Function('eta')\n",
    "exp = (eta(xi)+beta)-eta(xi).diff(xi,2)/(1+eta(xi).diff(xi)**2)**(3/2)\n",
    "display(Math(sp.latex(exp)+'= 0'))"
   ]
  },
  {
   "cell_type": "markdown",
   "id": "corresponding-settlement",
   "metadata": {},
   "source": [
    "As in the case of one plate, this equation can be integrated with an integration factor $\\eta'$."
   ]
  },
  {
   "cell_type": "code",
   "execution_count": 3,
   "id": "helpful-symposium",
   "metadata": {},
   "outputs": [
    {
     "data": {
      "text/latex": [
       "$\\displaystyle \\left(\\beta - \\frac{\\frac{d^{2}}{d \\xi^{2}} \\eta{\\left(\\xi \\right)}}{\\left(\\left(\\frac{d}{d \\xi} \\eta{\\left(\\xi \\right)}\\right)^{2} + 1\\right)^{1.5}} + \\eta{\\left(\\xi \\right)}\\right) \\frac{d}{d \\xi} \\eta{\\left(\\xi \\right)}= 0$"
      ],
      "text/plain": [
       "<IPython.core.display.Math object>"
      ]
     },
     "metadata": {},
     "output_type": "display_data"
    }
   ],
   "source": [
    "exp = exp*eta(xi).diff(xi)\n",
    "display(Math(sp.latex(exp)+'= 0'))"
   ]
  },
  {
   "cell_type": "code",
   "execution_count": 4,
   "id": "headed-warner",
   "metadata": {},
   "outputs": [
    {
     "data": {
      "text/latex": [
       "$\\displaystyle \\beta \\eta{\\left(\\xi \\right)} + \\frac{1.0}{\\left(\\left(\\frac{d}{d \\xi} \\eta{\\left(\\xi \\right)}\\right)^{2} + 1\\right)^{0.5}} + \\frac{\\eta^{2}{\\left(\\xi \\right)}}{2}= \\text{constant}$"
      ],
      "text/plain": [
       "<IPython.core.display.Math object>"
      ]
     },
     "metadata": {},
     "output_type": "display_data"
    }
   ],
   "source": [
    "exp2 = exp.integrate(xi)\n",
    "display(Math(sp.latex(exp2)+r'= \\text{constant}'))"
   ]
  },
  {
   "cell_type": "markdown",
   "id": "spanish-composer",
   "metadata": {},
   "source": [
    "Again, when $\\eta=0$, the first derivative is $0$ too, so, this is again 1. And $\\delta$, the normalized height of water in the wall (above center of meniscus) can be calculated by imposing its derivative."
   ]
  },
  {
   "cell_type": "code",
   "execution_count": 5,
   "id": "focused-treasure",
   "metadata": {},
   "outputs": [
    {
     "data": {
      "image/png": "[encoded data removed]",
      "text/latex": [
       "$\\displaystyle \\beta \\eta{\\left(\\xi \\right)} + \\frac{1.0}{\\left(\\left(\\frac{d}{d \\xi} \\eta{\\left(\\xi \\right)}\\right)^{2} + 1\\right)^{0.5}} + \\frac{\\eta^{2}{\\left(\\xi \\right)}}{2} = 1$"
      ],
      "text/plain": [
       "                              -0.5            \n",
       "             ⎛          2    ⎞        2       \n",
       "             ⎜⎛d       ⎞     ⎟       η (ξ)    \n",
       "β⋅η(ξ) + 1.0⋅⎜⎜──(η(ξ))⎟  + 1⎟     + ───── = 1\n",
       "             ⎝⎝dξ      ⎠     ⎠         2      "
      ]
     },
     "metadata": {},
     "output_type": "display_data"
    },
    {
     "data": {
      "image/png": "[encoded data removed]",
      "text/latex": [
       "$\\displaystyle \\beta \\delta + \\frac{\\delta^{2}}{2} + \\frac{1.0}{\\left(1 + \\frac{1}{\\tan^{2}{\\left(\\theta \\right)}}\\right)^{0.5}} = 1$"
      ],
      "text/plain": [
       "       2                    -0.5    \n",
       "      δ        ⎛       1   ⎞        \n",
       "β⋅δ + ── + 1.0⋅⎜1 + ───────⎟     = 1\n",
       "      2        ⎜       2   ⎟        \n",
       "               ⎝    tan (θ)⎠        "
      ]
     },
     "metadata": {},
     "output_type": "display_data"
    }
   ],
   "source": [
    "dEq = sp.Eq(exp2,1)\n",
    "display(dEq)\n",
    "delta = sp.symbols('delta')\n",
    "deltaEq = dEq.replace(eta(xi).diff(xi),-1/sp.tan(theta)).replace(eta(xi),delta)\n",
    "display(deltaEq)"
   ]
  },
  {
   "cell_type": "markdown",
   "id": "nasty-sister",
   "metadata": {},
   "source": [
    "We keep the second solution, which is the positive one"
   ]
  },
  {
   "cell_type": "code",
   "execution_count": 6,
   "id": "exciting-center",
   "metadata": {},
   "outputs": [
    {
     "data": {
      "text/latex": [
       "$\\displaystyle \\delta =- \\beta + \\frac{1.4142135623731 \\sqrt{0.5 \\beta^{2} \\left|{\\cos{\\left(\\theta \\right)}}\\right| - \\cos^{2}{\\left(\\theta \\right)} \\left|{\\tan{\\left(\\theta \\right)}}\\right| + \\left|{\\cos{\\left(\\theta \\right)}}\\right|} \\left|{\\tan{\\left(\\theta \\right)}}\\right|}{\\tan{\\left(\\theta \\right)} \\left|{\\sqrt{\\cos{\\left(\\theta \\right)}}}\\right|}$"
      ],
      "text/plain": [
       "<IPython.core.display.Math object>"
      ]
     },
     "metadata": {},
     "output_type": "display_data"
    }
   ],
   "source": [
    "deltaSol=sp.solve(deltaEq,delta)[1]\n",
    "deltaSol.simplify().trigsimp()\n",
    "display(Math('\\delta ='+sp.latex(deltaSol)))"
   ]
  },
  {
   "cell_type": "markdown",
   "id": "satisfied-finish",
   "metadata": {},
   "source": [
    "This is function of the contact angle ($\\theta$) but also of the height of the column, $\\beta$. The higher is $\\beta$, the lower is $\\delta$. This is because also $\\lambda$ will be lower, and the meniscus is narrower.\n",
    "\n",
    "We construct a function to calculate the numerical value of $\\delta$ (initial value of $\\eta$) with $\\beta$ and $\\theta$."
   ]
  },
  {
   "cell_type": "code",
   "execution_count": 7,
   "id": "comfortable-lying",
   "metadata": {},
   "outputs": [],
   "source": [
    "eta0_n = sp.lambdify((beta,theta),deltaSol)"
   ]
  },
  {
   "cell_type": "markdown",
   "id": "quick-things",
   "metadata": {},
   "source": [
    "and also, we construct the first order that we want to integrate, by defining the first derivative of $\\eta$."
   ]
  },
  {
   "cell_type": "code",
   "execution_count": 8,
   "id": "infrared-documentary",
   "metadata": {},
   "outputs": [
    {
     "data": {
      "text/latex": [
       "$\\displaystyle \\frac{\\text{d}\\eta}{\\text{d}\\xi} =- \\sqrt{-1.0 + \\frac{1.0}{\\left(\\beta \\eta{\\left(\\xi \\right)} + 0.5 \\eta^{2}{\\left(\\xi \\right)} - 1\\right)^{2}}}$"
      ],
      "text/plain": [
       "<IPython.core.display.Math object>"
      ]
     },
     "metadata": {},
     "output_type": "display_data"
    }
   ],
   "source": [
    "f = sp.solve(dEq,eta(xi).diff(xi))[0]\n",
    "display(Math(r'\\frac{\\text{d}\\eta}{\\text{d}\\xi} ='+sp.latex(f)))"
   ]
  },
  {
   "cell_type": "markdown",
   "id": "hired-signal",
   "metadata": {},
   "source": [
    "and its numerical version"
   ]
  },
  {
   "cell_type": "code",
   "execution_count": 9,
   "id": "animal-aging",
   "metadata": {},
   "outputs": [],
   "source": [
    "deta_dxi = sp.lambdify((xi,eta(xi),beta),f)"
   ]
  },
  {
   "cell_type": "markdown",
   "id": "centered-fever",
   "metadata": {},
   "source": [
    "and now we can integrate it, choosing input values for contact angle $\\theta$ and for $\\beta$ (height of column). The function used to numerically the EDO is `scipy.integrate.solve_ivp` (for *Initial Value Problem*)."
   ]
  },
  {
   "cell_type": "code",
   "execution_count": 10,
   "id": "engaged-musician",
   "metadata": {},
   "outputs": [
    {
     "data": {
      "image/png": "[encoded data removed]",
      "text/latex": [
       "$\\displaystyle 0.905$"
      ],
      "text/plain": [
       "0.9050"
      ]
     },
     "metadata": {},
     "output_type": "display_data"
    }
   ],
   "source": [
    "from scipy.integrate import solve_ivp\n",
    "theta_n = np.deg2rad(30)\n",
    "beta_n = 0.1\n",
    "eta0 = sp.N(eta0_n(beta_n,theta_n),4)\n",
    "display(eta0)"
   ]
  },
  {
   "cell_type": "markdown",
   "id": "binary-czech",
   "metadata": {},
   "source": [
    "An estimation of distance between plates can be done easily with the circular approximation, yielding $\\lambda = \\frac{2\\cos{\\theta}}{\\beta}$. So, the distance to the middle point will be less than $\\frac{\\cos{\\theta}}{\\beta}$. This distance can also be computed assuimint that $\\eta(\\xi) = 0 \\; \\forall \\; \\xi$ and the weigth of the column is only due to the liquid mass below $z=0$."
   ]
  },
  {
   "cell_type": "markdown",
   "id": "75831fbc-52f4-487d-acc4-0f485d04acb6",
   "metadata": {},
   "source": [
    "The function `solve_ivp` takes 3 main arguments:\n",
    "- The function defining the derivative of $\\eta$ (in our case, deta_dxi) that has to be as f(t,x(t)) (Note the the first argument as to be the independent variable, $t$ or $\\xi$ and the second the function to be computed, $y(t)$, or $\\eta(\\xi)$.\n",
    "- The interval of computation.\n",
    "- The initial value or values.\n",
    "\n",
    "The other arguments are the points where we want the function to be evaluated and the extra parameter that has to be passed to the function deta_dxi."
   ]
  },
  {
   "cell_type": "code",
   "execution_count": 11,
   "id": "functioning-thunder",
   "metadata": {},
   "outputs": [
    {
     "name": "stderr",
     "output_type": "stream",
     "text": [
      "<lambdifygenerated-2>:2: RuntimeWarning: invalid value encountered in sqrt\n",
      "  return -sqrt(-1.0 + 1.0/(0.5*_Dummy_2602**2 + _Dummy_2602*beta - 1)**2)\n"
     ]
    }
   ],
   "source": [
    "l_2_est = np.cos(theta_n)/beta_n\n",
    "xi_p = np.linspace(0,l_2_est,1000) # long enough for our case\n",
    "sol_eta = solve_ivp(deta_dxi,(xi_p[0],xi_p[-1]),[eta0],t_eval=xi_p,args=(beta_n,)) "
   ]
  },
  {
   "cell_type": "markdown",
   "id": "prime-panic",
   "metadata": {},
   "source": [
    "It can ouput a warning because the derivative can gives imaginary values (negative argument in the root square) but it is not important."
   ]
  },
  {
   "cell_type": "markdown",
   "id": "7380f4f1-41be-4268-bb10-b8fd659be2ef",
   "metadata": {},
   "source": [
    "The real value of $\\lambda$ is obtained by computing the real weigth of the column and equating it to the surface tension. In dimensionless form, it is written as \n",
    "$$  \\int_0^{\\lambda/2}\\eta(\\xi)\\text{d}\\xi + \\beta \\frac{\\lambda}{2} = \\cos(\\theta) $$\n",
    "$$ \\Rightarrow \\; \\frac{\\lambda}{2} = \\frac{1}{\\beta}\\left(\\cos(\\theta) - \\int_0^{\\lambda/2}\\eta(\\xi)\\text{d}\\xi \\right) $$\n",
    "\n",
    "Don't worry about the limit of integration in $\\eta(\\xi)$, since $\\eta(\\xi) = 0$ for $\\xi>\\lambda/2$. So, the integration can be done in all the computed interval.\n",
    "\n"
   ]
  },
  {
   "cell_type": "markdown",
   "id": "759c2b2a-e2ed-455b-84c1-49cdd06e2787",
   "metadata": {
    "tags": []
   },
   "source": [
    "`solve_ivp` outputs more information than just the solution"
   ]
  },
  {
   "cell_type": "markdown",
   "id": "579cb28e-b6aa-4e17-abcf-885d5e1be35f",
   "metadata": {},
   "source": [
    "The evaluation points are stored in `sol_eta.t`, and the solution in `sol_eta.y` that is, actually an array of arrays and, in our case, we have only one."
   ]
  },
  {
   "cell_type": "code",
   "execution_count": 12,
   "id": "61facca9-6461-49b9-bdb8-c6088ec91d87",
   "metadata": {
    "tags": []
   },
   "outputs": [],
   "source": [
    "eta_np = sol_eta.y[0]\n",
    "xi_np = sol_eta.t"
   ]
  },
  {
   "cell_type": "code",
   "execution_count": 13,
   "id": "792cb93d-090d-4740-a01e-1c98c11c8244",
   "metadata": {
    "tags": []
   },
   "outputs": [
    {
     "name": "stdout",
     "output_type": "stream",
     "text": [
      "numerical value for lambda: 5.59\n",
      "estimated value for lambda: 17.3\n"
     ]
    }
   ],
   "source": [
    "l_2 = (np.cos(theta_n) - np.trapz(eta_np,xi_np))/beta_n\n",
    "print('numerical value for lambda: {:.3g}'.format(l_2*2))\n",
    "print('estimated value for lambda: {:.3g}'.format(l_2_est*2))"
   ]
  },
  {
   "cell_type": "markdown",
   "id": "bb357259-7d2b-4e63-8a5f-e8ff21be0cea",
   "metadata": {},
   "source": [
    "We keep only the values corresponding to $\\xi < \\lambda/2$"
   ]
  },
  {
   "cell_type": "code",
   "execution_count": 14,
   "id": "ee28a6ef-0fcc-44a5-b164-f8752b31b5dc",
   "metadata": {
    "tags": []
   },
   "outputs": [],
   "source": [
    "xi_np = xi_np[sol_eta.t < l_2] # [xi_np < l_2] indentifies the indexes where the condition is fulfilled\n",
    "eta_np = eta_np[sol_eta.t < l_2]"
   ]
  },
  {
   "cell_type": "code",
   "execution_count": 15,
   "id": "spare-biography",
   "metadata": {},
   "outputs": [],
   "source": [
    "R = l_2/np.cos(theta_n)\n",
    "eta_circ = R - np.sqrt(R**2 - (l_2-xi_np)**2)"
   ]
  },
  {
   "cell_type": "code",
   "execution_count": 16,
   "id": "vietnamese-introduction",
   "metadata": {},
   "outputs": [
    {
     "data": {
      "text/plain": [
       "<matplotlib.legend.Legend at 0x7f4a082a7ac0>"
      ]
     },
     "execution_count": 16,
     "metadata": {},
     "output_type": "execute_result"
    },
    {
     "data": {
      "image/png": "[encoded data removed]",
      "text/plain": [
       "<Figure size 864x288 with 1 Axes>"
      ]
     },
     "metadata": {
      "needs_background": "light"
     },
     "output_type": "display_data"
    }
   ],
   "source": [
    "import matplotlib.pyplot as plt\n",
    "fig,ax = plt.subplots(figsize=(12,4))\n",
    "plt.gca().set_aspect('equal', adjustable='box')\n",
    "ax.plot(xi_np,eta_np,scaley=True, label='numerical')\n",
    "ax.plot(xi_np,eta_circ,scaley=True, label ='cercle')\n",
    "ax.legend()"
   ]
  },
  {
   "cell_type": "markdown",
   "id": "a5f5218b-831c-409a-8cec-2a1e1fc73e8c",
   "metadata": {},
   "source": [
    "## Method 2 (still an exercise for the student)\n",
    "\n",
    "In this method, we write the second order ODE as a system of two first order ODE's:\n",
    "\n",
    "$$\n",
    "\\eta'(\\zeta,\\eta,\\xi) = \\zeta(\\xi)\n",
    "$$\n",
    "$$\n",
    "\\zeta'(\\zeta,\\eta,\\xi) = (\\eta(\\xi) + \\beta)\\left(1+\\zeta(\\xi)^2\\right)^\\frac{3}{2}\n",
    "$$\n",
    "\n",
    "\n",
    "and, if the coordinates are centered in the middle point (as indicated in the figure), the initial conditions are $\\eta(\\xi=0)=\\zeta(\\xi=0)=0$.\n",
    "\n",
    "_Question:_ How do we calculate the value of $\\lambda$?"
   ]
  },
  {
   "cell_type": "code",
   "execution_count": null,
   "id": "8c3bf208-fdd2-490b-a75d-28f575bd019f",
   "metadata": {},
   "outputs": [],
   "source": []
  }
 ],
 "metadata": {
  "kernelspec": {
   "display_name": "Python 3 (ipykernel)",
   "language": "python",
   "name": "python3"
  },
  "language_info": {
   "codemirror_mode": {
    "name": "ipython",
    "version": 3
   },
   "file_extension": ".py",
   "mimetype": "text/x-python",
   "name": "python",
   "nbconvert_exporter": "python",
   "pygments_lexer": "ipython3",
   "version": "3.8.15"
  }
 },
 "nbformat": 4,
 "nbformat_minor": 5
}
